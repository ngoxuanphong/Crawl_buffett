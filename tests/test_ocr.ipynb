{
 "cells": [
  {
   "cell_type": "code",
   "execution_count": 1,
   "metadata": {},
   "outputs": [
    {
     "name": "stdout",
     "output_type": "stream",
     "text": [
      "a:\\Phong\\Crawl_buffett\n"
     ]
    }
   ],
   "source": [
    "%cd .."
   ]
  },
  {
   "cell_type": "code",
   "execution_count": 2,
   "metadata": {},
   "outputs": [],
   "source": [
    "import pandas as pd\n",
    "import os\n",
    "df_1 = pd.read_csv('docs/May_anhNA.csv')\n",
    "df_2 = pd.read_csv('docs/may_cty.csv')"
   ]
  },
  {
   "cell_type": "code",
   "execution_count": null,
   "metadata": {},
   "outputs": [],
   "source": [
    "df = pd.read_csv('docs/List_company_23052023 - Listing.csv')\n",
    "for id in df.index:\n",
    "    symbol = df['Symbol'][id]\n",
    "    if df['check'][id] == 'Done':\n",
    "        if os.path.exists(fr'Data\\{symbol}\\docs\\volume.csv'):\n",
    "            df['volume'][id] = 'Done'\n",
    "        if os.path.exists(fr'Data\\{symbol}\\docs\\dividend.csv'):\n",
    "            df['dividend'][id] = 'Done'\n",
    "        if os.path.exists(fr'Data\\{symbol}\\docs\\checklist_get_table.csv'):\n",
    "            df['table'][id] = 'Done'\n",
    "df.to_csv('docs/List_company_23052023 - Listing.csv', index = False)"
   ]
  },
  {
   "cell_type": "code",
   "execution_count": 15,
   "metadata": {},
   "outputs": [],
   "source": [
    "df = pd.read_csv('docs\\may_anhNA.csv')\n",
    "for id in df.index:\n",
    "    symbol = df['Symbol'][id]\n",
    "    if os.path.exists(fr'Data\\{symbol}\\docs\\check.csv'):\n",
    "        if os.path.exists(fr'Data\\{symbol}\\docs\\volume.csv'):\n",
    "            df['volume'][id] = 'Done'\n",
    "        if os.path.exists(fr'Data\\{symbol}\\docs\\dividend.csv'):\n",
    "            df['dividend'][id] = 'Done'\n",
    "        if os.path.exists(fr'Data\\{symbol}\\docs\\checklist_get_table.csv'):\n",
    "            df['table'][id] = 'Done'\n",
    "df.to_csv('docs\\may_anhNA.csv', index = False)"
   ]
  },
  {
   "cell_type": "code",
   "execution_count": null,
   "metadata": {},
   "outputs": [],
   "source": [
    "df_1[df_1['check'] == 'Done']"
   ]
  },
  {
   "cell_type": "code",
   "execution_count": 3,
   "metadata": {},
   "outputs": [
    {
     "data": {
      "text/plain": [
       "4122"
      ]
     },
     "execution_count": 3,
     "metadata": {},
     "output_type": "execute_result"
    }
   ],
   "source": [
    "lst_vol = list(df_1[df_1['volume'] == 'Done']['Symbol']) + list(df_2[df_2['volume'] == 'Done']['Symbol'])\n",
    "len(set(lst_vol))"
   ]
  },
  {
   "cell_type": "code",
   "execution_count": 10,
   "metadata": {},
   "outputs": [
    {
     "data": {
      "text/plain": [
       "3615"
      ]
     },
     "execution_count": 10,
     "metadata": {},
     "output_type": "execute_result"
    }
   ],
   "source": [
    "lst_table = list(df_1[df_1['table'] == 'Done']['Symbol']) + list(df_2[df_2['table'] == 'Done']['Symbol'])\n",
    "len(set(lst_table))"
   ]
  },
  {
   "cell_type": "code",
   "execution_count": 11,
   "metadata": {},
   "outputs": [
    {
     "data": {
      "text/plain": [
       "3611"
      ]
     },
     "execution_count": 11,
     "metadata": {},
     "output_type": "execute_result"
    }
   ],
   "source": [
    "lst_table = list(df_1[df_1['dividend'] == 'Done']['Symbol']) + list(df_2[df_2['dividend'] == 'Done']['Symbol'])\n",
    "len(set(lst_table))"
   ]
  },
  {
   "cell_type": "code",
   "execution_count": 2,
   "metadata": {},
   "outputs": [],
   "source": [
    "from src.ocrPdf import ocrPDF\n",
    "ocrPDF(r'tests\\Data\\1332\\PDF\\2016_Q2_決算短信(2016_11_4).pdf', 'tests/a.pdf')\n",
    "from src.volume import GetVolume\n",
    "\n",
    "gv = GetVolume()\n",
    "gv.findData(path = 'tests/a.pdf')"
   ]
  },
  {
   "cell_type": "markdown",
   "metadata": {},
   "source": [
    "# move file"
   ]
  },
  {
   "cell_type": "code",
   "execution_count": 1,
   "metadata": {},
   "outputs": [
    {
     "name": "stdout",
     "output_type": "stream",
     "text": [
      "a:\\Phong\\Crawl_buffett\n"
     ]
    }
   ],
   "source": [
    "%cd ..\n",
    "import pandas as pd\n",
    "import numpy as np\n",
    "import os"
   ]
  },
  {
   "cell_type": "code",
   "execution_count": 10,
   "metadata": {},
   "outputs": [
    {
     "data": {
      "text/html": [
       "<div>\n",
       "<style scoped>\n",
       "    .dataframe tbody tr th:only-of-type {\n",
       "        vertical-align: middle;\n",
       "    }\n",
       "\n",
       "    .dataframe tbody tr th {\n",
       "        vertical-align: top;\n",
       "    }\n",
       "\n",
       "    .dataframe thead th {\n",
       "        text-align: right;\n",
       "    }\n",
       "</style>\n",
       "<table border=\"1\" class=\"dataframe\">\n",
       "  <thead>\n",
       "    <tr style=\"text-align: right;\">\n",
       "      <th></th>\n",
       "      <th>Time</th>\n",
       "      <th>Stock</th>\n",
       "      <th>Money</th>\n",
       "      <th>Time2</th>\n",
       "    </tr>\n",
       "  </thead>\n",
       "  <tbody>\n",
       "    <tr>\n",
       "      <th>1</th>\n",
       "      <td>NaN</td>\n",
       "      <td>NaN</td>\n",
       "      <td>28.0</td>\n",
       "      <td>2022_Q2</td>\n",
       "    </tr>\n",
       "    <tr>\n",
       "      <th>3</th>\n",
       "      <td>NaN</td>\n",
       "      <td>NaN</td>\n",
       "      <td>29.0</td>\n",
       "      <td>2022_Q4</td>\n",
       "    </tr>\n",
       "    <tr>\n",
       "      <th>5</th>\n",
       "      <td>NaN</td>\n",
       "      <td>NaN</td>\n",
       "      <td>26.0</td>\n",
       "      <td>2021_Q2</td>\n",
       "    </tr>\n",
       "    <tr>\n",
       "      <th>7</th>\n",
       "      <td>NaN</td>\n",
       "      <td>NaN</td>\n",
       "      <td>31.0</td>\n",
       "      <td>2021_Q4</td>\n",
       "    </tr>\n",
       "    <tr>\n",
       "      <th>9</th>\n",
       "      <td>NaN</td>\n",
       "      <td>NaN</td>\n",
       "      <td>20.0</td>\n",
       "      <td>2020_Q2</td>\n",
       "    </tr>\n",
       "    <tr>\n",
       "      <th>11</th>\n",
       "      <td>NaN</td>\n",
       "      <td>NaN</td>\n",
       "      <td>32.0</td>\n",
       "      <td>2020_Q4</td>\n",
       "    </tr>\n",
       "    <tr>\n",
       "      <th>13</th>\n",
       "      <td>NaN</td>\n",
       "      <td>NaN</td>\n",
       "      <td>26.0</td>\n",
       "      <td>2019_Q2</td>\n",
       "    </tr>\n",
       "    <tr>\n",
       "      <th>15</th>\n",
       "      <td>NaN</td>\n",
       "      <td>NaN</td>\n",
       "      <td>26.0</td>\n",
       "      <td>2019_Q4</td>\n",
       "    </tr>\n",
       "  </tbody>\n",
       "</table>\n",
       "</div>"
      ],
      "text/plain": [
       "   Time Stock  Money    Time2\n",
       "1   NaN   NaN   28.0  2022_Q2\n",
       "3   NaN   NaN   29.0  2022_Q4\n",
       "5   NaN   NaN   26.0  2021_Q2\n",
       "7   NaN   NaN   31.0  2021_Q4\n",
       "9   NaN   NaN   20.0  2020_Q2\n",
       "11  NaN   NaN   32.0  2020_Q4\n",
       "13  NaN   NaN   26.0  2019_Q2\n",
       "15  NaN   NaN   26.0  2019_Q4"
      ]
     },
     "execution_count": 10,
     "metadata": {},
     "output_type": "execute_result"
    }
   ],
   "source": [
    "def sortDate(df):\n",
    "    df['Time'] = pd.to_datetime(df['Time'], format='%Y_%m_%d', errors='coerce')\n",
    "    df.sort_values(by=['Time'], inplace=True, na_position = 'first')\n",
    "    df['Time'] = df['Time'].dt.strftime('%d/%m/%Y')\n",
    "    return df\n",
    "\n",
    "def getVolume(symbol, PATH = 'Done/volume/'):\n",
    "    df = pd.read_csv(fr'Data\\{symbol}\\docs\\volume.csv')\n",
    "    df['volume'] = df['vol1'] - df['vol2']\n",
    "    df = df[['date', 'volume']]\n",
    "    df.dropna(inplace=True)\n",
    "    df.rename(columns={'date': 'Time', 'volume': 'Volume'}, inplace=True)\n",
    "    df = sortDate(df)\n",
    "    df.to_csv(fr'{PATH}{symbol}.csv', index = False)\n",
    "    return df\n",
    "\n",
    "def getDividend(symbol, PATH = 'Done/dividend/'):\n",
    "    df = pd.read_csv(fr'Data\\{symbol}\\docs\\dividend.csv')\n",
    "    df_done = pd.DataFrame(columns = ['Time', 'Stock', 'Money', 'Time2'])\n",
    "    df_done['Time'] = df[['time_split_Q1', 'time_split_Q2', 'time_split_Q3', 'time_split_Q4']].stack(dropna=False).reset_index(drop=True)\n",
    "    df_done['Time'] = df_done['Time'].str.replace(\"['\", '').str.replace(\"']\", '')\n",
    "    df_done['Money'] = df[['Q1', 'Q2', 'Q3', 'Q4']].stack(dropna=False).reset_index(drop=True)\n",
    "    for q in  ['Q1', 'Q2', 'Q3', 'Q4']:\n",
    "        df[q] = df['Year'].astype(str) + '_' + q\n",
    "    df_done['Time2'] = df[['Q1', 'Q2', 'Q3', 'Q4']].stack(dropna=False).reset_index(drop=True)\n",
    "    df_done.replace('－', np.nan, inplace=True)\n",
    "    df_done.replace('―', np.nan, inplace=True)\n",
    "    df_done.replace('-', np.nan, inplace=True)\n",
    "    df_done.replace('—', np.nan, inplace=True)\n",
    "    df_done.replace('一', np.nan, inplace=True)\n",
    "    df_done.replace('=', np.nan, inplace=True)\n",
    "    df_done.dropna(inplace=True, thresh=2)\n",
    "    df_done = sortDate(df_done)\n",
    "    df_done.to_csv(fr'{PATH}{symbol}.csv', index = False)\n",
    "    return df_done\n",
    "\n",
    "symbol = 7628\n",
    "getVolume(symbol)\n",
    "getDividend(symbol)"
   ]
  },
  {
   "cell_type": "code",
   "execution_count": 11,
   "metadata": {},
   "outputs": [
    {
     "name": "stdout",
     "output_type": "stream",
     "text": [
      "7699 Can only use .str accessor with string values!\n"
     ]
    }
   ],
   "source": [
    "os.makedirs(fr'Done/volume', exist_ok=True)\n",
    "os.makedirs(fr'Done/dividend', exist_ok=True)\n",
    "\n",
    "df = pd.read_csv('docs\\List_company_23052023 - Listing.csv')\n",
    "for id in df.index:\n",
    "    symbol = df['Symbol'][id]\n",
    "    if df['check'][id] == 'Done':\n",
    "        if os.path.exists(fr'Data\\{symbol}\\docs\\volume.csv'):\n",
    "            try:\n",
    "                getVolume(symbol)\n",
    "            except Exception as e:\n",
    "                print(symbol, e)\n",
    "                break\n",
    "\n",
    "        if os.path.exists(fr'Data\\{symbol}\\docs\\dividend.csv'):\n",
    "            try:\n",
    "                getDividend(symbol)\n",
    "            except Exception as e:\n",
    "                print(symbol, e)\n",
    "                break"
   ]
  }
 ],
 "metadata": {
  "kernelspec": {
   "display_name": "Python 3",
   "language": "python",
   "name": "python3"
  },
  "language_info": {
   "codemirror_mode": {
    "name": "ipython",
    "version": 3
   },
   "file_extension": ".py",
   "mimetype": "text/x-python",
   "name": "python",
   "nbconvert_exporter": "python",
   "pygments_lexer": "ipython3",
   "version": "3.10.7"
  },
  "orig_nbformat": 4
 },
 "nbformat": 4,
 "nbformat_minor": 2
}
