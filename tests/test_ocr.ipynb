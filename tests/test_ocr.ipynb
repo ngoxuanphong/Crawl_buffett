{
 "cells": [
  {
   "cell_type": "code",
   "execution_count": 1,
   "metadata": {},
   "outputs": [
    {
     "name": "stdout",
     "output_type": "stream",
     "text": [
      "a:\\Phong\\Crawl_buffett\n"
     ]
    }
   ],
   "source": [
    "%cd .."
   ]
  },
  {
   "cell_type": "code",
   "execution_count": 4,
   "metadata": {},
   "outputs": [],
   "source": [
    "import pandas as pd\n",
    "import os\n",
    "df_1 = pd.read_csv('docs/May_anhNA.csv')\n",
    "df_2 = pd.read_csv('docs/may_cty.csv')"
   ]
  },
  {
   "cell_type": "code",
   "execution_count": null,
   "metadata": {},
   "outputs": [],
   "source": [
    "df = pd.read_csv('docs/List_company_23052023 - Listing.csv')\n",
    "for id in df.index:\n",
    "    symbol = df['Symbol'][id]\n",
    "    if df['check'][id] == 'Done':\n",
    "        if os.path.exists(fr'Data\\{symbol}\\docs\\volume.csv'):\n",
    "            df['volume'][id] = 'Done'\n",
    "        if os.path.exists(fr'Data\\{symbol}\\docs\\dividend.csv'):\n",
    "            df['dividend'][id] = 'Done'\n",
    "        if os.path.exists(fr'Data\\{symbol}\\docs\\checklist_get_table.csv'):\n",
    "            df['table'][id] = 'Done'\n",
    "df.to_csv('docs/List_company_23052023 - Listing.csv', index = False)"
   ]
  },
  {
   "cell_type": "code",
   "execution_count": 3,
   "metadata": {},
   "outputs": [],
   "source": [
    "df = pd.read_csv('docs\\may_anhNA.csv')\n",
    "for id in df.index:\n",
    "    symbol = df['Symbol'][id]\n",
    "    if os.path.exists(fr'Data\\{symbol}\\docs\\check.csv'):\n",
    "        if os.path.exists(fr'Data\\{symbol}\\docs\\volume.csv'):\n",
    "            df['volume'][id] = 'Done'\n",
    "        if os.path.exists(fr'Data\\{symbol}\\docs\\dividend.csv'):\n",
    "            df['dividend'][id] = 'Done'\n",
    "        if os.path.exists(fr'Data\\{symbol}\\docs\\checklist_get_table.csv'):\n",
    "            df['table'][id] = 'Done'\n",
    "df.to_csv('docs\\may_anhNA.csv', index = False)"
   ]
  },
  {
   "cell_type": "code",
   "execution_count": null,
   "metadata": {},
   "outputs": [],
   "source": [
    "df_1[df_1['check'] == 'Done']"
   ]
  },
  {
   "cell_type": "code",
   "execution_count": 9,
   "metadata": {},
   "outputs": [
    {
     "data": {
      "text/plain": [
       "3615"
      ]
     },
     "execution_count": 9,
     "metadata": {},
     "output_type": "execute_result"
    }
   ],
   "source": [
    "lst_vol = list(df_1[df_1['volume'] == 'Done']['Symbol']) + list(df_2[df_2['volume'] == 'Done']['Symbol'])\n",
    "len(set(lst_vol))"
   ]
  },
  {
   "cell_type": "code",
   "execution_count": 10,
   "metadata": {},
   "outputs": [
    {
     "data": {
      "text/plain": [
       "3615"
      ]
     },
     "execution_count": 10,
     "metadata": {},
     "output_type": "execute_result"
    }
   ],
   "source": [
    "lst_table = list(df_1[df_1['table'] == 'Done']['Symbol']) + list(df_2[df_2['table'] == 'Done']['Symbol'])\n",
    "len(set(lst_table))"
   ]
  },
  {
   "cell_type": "code",
   "execution_count": 11,
   "metadata": {},
   "outputs": [
    {
     "data": {
      "text/plain": [
       "3611"
      ]
     },
     "execution_count": 11,
     "metadata": {},
     "output_type": "execute_result"
    }
   ],
   "source": [
    "lst_table = list(df_1[df_1['dividend'] == 'Done']['Symbol']) + list(df_2[df_2['dividend'] == 'Done']['Symbol'])\n",
    "len(set(lst_table))"
   ]
  },
  {
   "cell_type": "code",
   "execution_count": 2,
   "metadata": {},
   "outputs": [],
   "source": [
    "from src.ocrPdf import ocrPDF\n",
    "ocrPDF(r'tests\\Data\\1332\\PDF\\2016_Q2_決算短信(2016_11_4).pdf', 'tests/a.pdf')\n",
    "from src.volume import GetVolume\n",
    "\n",
    "gv = GetVolume()\n",
    "gv.findData(path = 'tests/a.pdf')"
   ]
  }
 ],
 "metadata": {
  "kernelspec": {
   "display_name": "Python 3",
   "language": "python",
   "name": "python3"
  },
  "language_info": {
   "codemirror_mode": {
    "name": "ipython",
    "version": 3
   },
   "file_extension": ".py",
   "mimetype": "text/x-python",
   "name": "python",
   "nbconvert_exporter": "python",
   "pygments_lexer": "ipython3",
   "version": "3.10.1"
  },
  "orig_nbformat": 4
 },
 "nbformat": 4,
 "nbformat_minor": 2
}
