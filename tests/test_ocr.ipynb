{
 "cells": [
  {
   "cell_type": "code",
   "execution_count": 1,
   "metadata": {},
   "outputs": [
    {
     "name": "stdout",
     "output_type": "stream",
     "text": [
      "a:\\Phong\\Crawl_buffett\n"
     ]
    }
   ],
   "source": [
    "%cd .."
   ]
  },
  {
   "cell_type": "code",
   "execution_count": 2,
   "metadata": {},
   "outputs": [],
   "source": [
    "import pandas as pd\n",
    "import os\n",
    "import numpy as np\n",
    "df_1 = pd.read_csv('docs/May_anhNA.csv')\n",
    "df_2 = pd.read_csv('docs/may_cty.csv')"
   ]
  },
  {
   "cell_type": "code",
   "execution_count": 4,
   "metadata": {},
   "outputs": [
    {
     "name": "stderr",
     "output_type": "stream",
     "text": [
      "C:\\Users\\ADMIN\\AppData\\Local\\Temp\\ipykernel_32808\\3442971729.py:5: SettingWithCopyWarning: \n",
      "A value is trying to be set on a copy of a slice from a DataFrame\n",
      "\n",
      "See the caveats in the documentation: https://pandas.pydata.org/pandas-docs/stable/user_guide/indexing.html#returning-a-view-versus-a-copy\n",
      "  df['check'][id] = 'Done'\n",
      "C:\\Users\\ADMIN\\AppData\\Local\\Temp\\ipykernel_32808\\3442971729.py:7: SettingWithCopyWarning: \n",
      "A value is trying to be set on a copy of a slice from a DataFrame\n",
      "\n",
      "See the caveats in the documentation: https://pandas.pydata.org/pandas-docs/stable/user_guide/indexing.html#returning-a-view-versus-a-copy\n",
      "  df['volume'][id] = 'Done'\n",
      "C:\\Users\\ADMIN\\AppData\\Local\\Temp\\ipykernel_32808\\3442971729.py:9: SettingWithCopyWarning: \n",
      "A value is trying to be set on a copy of a slice from a DataFrame\n",
      "\n",
      "See the caveats in the documentation: https://pandas.pydata.org/pandas-docs/stable/user_guide/indexing.html#returning-a-view-versus-a-copy\n",
      "  df['dividend'][id] = 'Done'\n",
      "C:\\Users\\ADMIN\\AppData\\Local\\Temp\\ipykernel_32808\\3442971729.py:11: SettingWithCopyWarning: \n",
      "A value is trying to be set on a copy of a slice from a DataFrame\n",
      "\n",
      "See the caveats in the documentation: https://pandas.pydata.org/pandas-docs/stable/user_guide/indexing.html#returning-a-view-versus-a-copy\n",
      "  df['table'][id] = 'Done'\n"
     ]
    }
   ],
   "source": [
    "df = pd.read_csv('docs/List_company_23052023 - Listing.csv')\n",
    "for id in df.index:\n",
    "    symbol = df['Symbol'][id]\n",
    "    if os.path.exists(fr'Data\\{symbol}\\docs\\check.csv'):\n",
    "        df['check'][id] = 'Done'\n",
    "        if os.path.exists(fr'Data\\{symbol}\\docs\\volume.csv'):\n",
    "            df['volume'][id] = 'Done'\n",
    "        if os.path.exists(fr'Data\\{symbol}\\docs\\dividend.csv'):\n",
    "            df['dividend'][id] = 'Done'\n",
    "        if os.path.exists(fr'Data\\{symbol}\\docs\\checklist_get_table.csv'):\n",
    "            df['table'][id] = 'Done'\n",
    "df.to_csv('docs/List_company_23052023 - Listing.csv', index = False)"
   ]
  },
  {
   "cell_type": "code",
   "execution_count": null,
   "metadata": {},
   "outputs": [],
   "source": [
    "df = pd.read_csv('docs\\may_cty.csv')\n",
    "for id in df.index:\n",
    "    symbol = df['Symbol'][id]\n",
    "    if os.path.exists(fr'Data\\{symbol}\\docs\\link.csv'):\n",
    "        df['check'][id] = 'Done'\n",
    "        # if os.path.exists(fr'Data\\{symbol}\\docs\\volume.csv'):\n",
    "        #     df['volume'][id] = 'Done'\n",
    "        # if os.path.exists(fr'Data\\{symbol}\\docs\\dividend.csv'):\n",
    "        #     df['dividend'][id] = 'Done'\n",
    "        # if os.path.exists(fr'Data\\{symbol}\\docs\\checklist_get_table.csv'):\n",
    "        #     df['table'][id] = 'Done'\n",
    "    else:\n",
    "        df['check'][id] = np.nan\n",
    "df.to_csv('docs\\may_cty.csv', index = False)\n"
   ]
  },
  {
   "cell_type": "code",
   "execution_count": null,
   "metadata": {},
   "outputs": [],
   "source": [
    "df = pd.read_csv('docs\\May_anhNA.csv')\n",
    "df[['volume']] = np.nan\n",
    "df.to_csv('docs\\May_anhNA.csv', index = False)\n",
    "\n",
    "df = pd.read_csv('docs\\may_cty.csv')\n",
    "df[['volume']] = np.nan\n",
    "df.to_csv('docs\\may_cty.csv', index = False)"
   ]
  },
  {
   "cell_type": "code",
   "execution_count": null,
   "metadata": {},
   "outputs": [],
   "source": [
    "df_1[df_1['check'] == 'Done']"
   ]
  },
  {
   "cell_type": "code",
   "execution_count": null,
   "metadata": {},
   "outputs": [],
   "source": [
    "lst_vol = list(df_1[df_1['volume'] == 'Done']['Symbol']) + list(df_2[df_2['volume'] == 'Done']['Symbol'])\n",
    "len(set(lst_vol))"
   ]
  },
  {
   "cell_type": "code",
   "execution_count": null,
   "metadata": {},
   "outputs": [],
   "source": [
    "lst_table = list(df_1[df_1['table'] == 'Done']['Symbol']) + list(df_2[df_2['table'] == 'Done']['Symbol'])\n",
    "len(set(lst_table))"
   ]
  },
  {
   "cell_type": "code",
   "execution_count": null,
   "metadata": {},
   "outputs": [],
   "source": [
    "lst_table = list(df_1[df_1['dividend'] == 'Done']['Symbol']) + list(df_2[df_2['dividend'] == 'Done']['Symbol'])\n",
    "len(set(lst_table))"
   ]
  },
  {
   "cell_type": "code",
   "execution_count": null,
   "metadata": {},
   "outputs": [],
   "source": [
    "from src.ocrPdf import ocrPDF\n",
    "ocrPDF(r'tests\\Data\\1332\\PDF\\2016_Q2_決算短信(2016_11_4).pdf', 'tests/a.pdf')\n",
    "from src.volume import GetVolume\n",
    "\n",
    "gv = GetVolume()\n",
    "gv.findData(path = 'tests/a.pdf')"
   ]
  },
  {
   "cell_type": "code",
   "execution_count": 10,
   "metadata": {},
   "outputs": [],
   "source": [
    "df = pd.read_csv(fr'Data\\1606\\docs\\link.csv')"
   ]
  },
  {
   "cell_type": "code",
   "execution_count": 13,
   "metadata": {},
   "outputs": [
    {
     "data": {
      "text/plain": [
       "'2018'"
      ]
     },
     "execution_count": 13,
     "metadata": {},
     "output_type": "execute_result"
    }
   ],
   "source": [
    "id = 0\n",
    "year = df.iloc[id, 0][2:6]\n",
    "year"
   ]
  },
  {
   "cell_type": "markdown",
   "metadata": {},
   "source": [
    "# move file"
   ]
  },
  {
   "cell_type": "code",
   "execution_count": 1,
   "metadata": {},
   "outputs": [
    {
     "name": "stdout",
     "output_type": "stream",
     "text": [
      "a:\\Phong\\Crawl_buffett\n"
     ]
    }
   ],
   "source": [
    "%cd ..\n",
    "import pandas as pd\n",
    "import numpy as np\n",
    "import os"
   ]
  },
  {
   "cell_type": "code",
   "execution_count": null,
   "metadata": {},
   "outputs": [],
   "source": [
    "import shutil\n",
    "PATH_DRIVER = \"G:/My Drive/6_2023/Financial_1/\"\n",
    "PATH_IS = PATH_DRIVER + 'IncomeStatement/'\n",
    "PATH_BS = PATH_DRIVER + 'BalanceSheet/'\n",
    "os.makedirs(PATH_IS, exist_ok=True)\n",
    "os.makedirs(PATH_BS, exist_ok=True)\n",
    "\n",
    "symbol = 1301\n",
    "def moveFinan(symbol):\n",
    "    path_bs = rf'Data\\{symbol}\\table_bs'\n",
    "    path_pl = rf'Data\\{symbol}\\table_pl'\n",
    "    for file in os.listdir(path_bs):\n",
    "        if file.endswith('Q4.csv'):\n",
    "            os.makedirs(PATH_BS + '/' + str(symbol), exist_ok=True)\n",
    "            shutil.copy(path_bs + '/' + file, PATH_BS + '/' + str(symbol) + '/' + file)\n",
    "    for file in os.listdir(path_pl):\n",
    "        if file.endswith('Q4.csv'):\n",
    "            os.makedirs(PATH_IS + str(symbol), exist_ok=True)\n",
    "            shutil.copy(path_pl + '/' + file, PATH_IS + '/' + str(symbol) + '/' + file)\n",
    "\n",
    "df = pd.read_csv('docs\\List_company_23052023 - Listing.csv')\n",
    "for id in df.index:\n",
    "    symbol = df['Symbol'][id]\n",
    "    if df['check'][id] == 'Done':\n",
    "        try:\n",
    "            moveFinan(symbol)\n",
    "        except Exception as e:\n",
    "            print(symbol, e)"
   ]
  },
  {
   "cell_type": "code",
   "execution_count": 3,
   "metadata": {},
   "outputs": [
    {
     "data": {
      "text/html": [
       "<div>\n",
       "<style scoped>\n",
       "    .dataframe tbody tr th:only-of-type {\n",
       "        vertical-align: middle;\n",
       "    }\n",
       "\n",
       "    .dataframe tbody tr th {\n",
       "        vertical-align: top;\n",
       "    }\n",
       "\n",
       "    .dataframe thead th {\n",
       "        text-align: right;\n",
       "    }\n",
       "</style>\n",
       "<table border=\"1\" class=\"dataframe\">\n",
       "  <thead>\n",
       "    <tr style=\"text-align: right;\">\n",
       "      <th></th>\n",
       "      <th>Time</th>\n",
       "      <th>Stock</th>\n",
       "      <th>Money</th>\n",
       "      <th>Time2</th>\n",
       "    </tr>\n",
       "  </thead>\n",
       "  <tbody>\n",
       "    <tr>\n",
       "      <th>59</th>\n",
       "      <td>26/06/2009</td>\n",
       "      <td>NaN</td>\n",
       "      <td>5.0</td>\n",
       "      <td>2008_Q4</td>\n",
       "    </tr>\n",
       "    <tr>\n",
       "      <th>55</th>\n",
       "      <td>28/06/2010</td>\n",
       "      <td>NaN</td>\n",
       "      <td>5.0</td>\n",
       "      <td>2009_Q4</td>\n",
       "    </tr>\n",
       "    <tr>\n",
       "      <th>51</th>\n",
       "      <td>27/06/2011</td>\n",
       "      <td>NaN</td>\n",
       "      <td>5.0</td>\n",
       "      <td>2010_Q4</td>\n",
       "    </tr>\n",
       "    <tr>\n",
       "      <th>47</th>\n",
       "      <td>27/06/2012</td>\n",
       "      <td>NaN</td>\n",
       "      <td>5.0</td>\n",
       "      <td>2011_Q4</td>\n",
       "    </tr>\n",
       "    <tr>\n",
       "      <th>43</th>\n",
       "      <td>26/06/2013</td>\n",
       "      <td>NaN</td>\n",
       "      <td>5.0</td>\n",
       "      <td>2012_Q4</td>\n",
       "    </tr>\n",
       "    <tr>\n",
       "      <th>39</th>\n",
       "      <td>25/06/2014</td>\n",
       "      <td>NaN</td>\n",
       "      <td>5.0</td>\n",
       "      <td>2013_Q4</td>\n",
       "    </tr>\n",
       "    <tr>\n",
       "      <th>35</th>\n",
       "      <td>25/06/2015</td>\n",
       "      <td>NaN</td>\n",
       "      <td>5.0</td>\n",
       "      <td>2014_Q4</td>\n",
       "    </tr>\n",
       "    <tr>\n",
       "      <th>31</th>\n",
       "      <td>27/06/2016</td>\n",
       "      <td>NaN</td>\n",
       "      <td>5.0</td>\n",
       "      <td>2015_Q4</td>\n",
       "    </tr>\n",
       "    <tr>\n",
       "      <th>27</th>\n",
       "      <td>28/06/2017</td>\n",
       "      <td>NaN</td>\n",
       "      <td>60.0</td>\n",
       "      <td>2016_Q4</td>\n",
       "    </tr>\n",
       "    <tr>\n",
       "      <th>23</th>\n",
       "      <td>27/06/2018</td>\n",
       "      <td>NaN</td>\n",
       "      <td>60.0</td>\n",
       "      <td>2017_Q4</td>\n",
       "    </tr>\n",
       "    <tr>\n",
       "      <th>19</th>\n",
       "      <td>26/06/2019</td>\n",
       "      <td>NaN</td>\n",
       "      <td>70.0</td>\n",
       "      <td>2018_Q4</td>\n",
       "    </tr>\n",
       "    <tr>\n",
       "      <th>15</th>\n",
       "      <td>25/06/2020</td>\n",
       "      <td>NaN</td>\n",
       "      <td>70.0</td>\n",
       "      <td>2019_Q4</td>\n",
       "    </tr>\n",
       "    <tr>\n",
       "      <th>11</th>\n",
       "      <td>28/06/2021</td>\n",
       "      <td>NaN</td>\n",
       "      <td>80.0</td>\n",
       "      <td>2020_Q4</td>\n",
       "    </tr>\n",
       "    <tr>\n",
       "      <th>7</th>\n",
       "      <td>27/06/2022</td>\n",
       "      <td>NaN</td>\n",
       "      <td>90.0</td>\n",
       "      <td>2021_Q4</td>\n",
       "    </tr>\n",
       "    <tr>\n",
       "      <th>3</th>\n",
       "      <td>28/06/2023</td>\n",
       "      <td>NaN</td>\n",
       "      <td>100.0</td>\n",
       "      <td>2022_Q4</td>\n",
       "    </tr>\n",
       "    <tr>\n",
       "      <th>22</th>\n",
       "      <td>NaN</td>\n",
       "      <td>NaN</td>\n",
       "      <td>ーー</td>\n",
       "      <td>2017_Q3</td>\n",
       "    </tr>\n",
       "    <tr>\n",
       "      <th>30</th>\n",
       "      <td>NaN</td>\n",
       "      <td>NaN</td>\n",
       "      <td>ーー</td>\n",
       "      <td>2015_Q3</td>\n",
       "    </tr>\n",
       "  </tbody>\n",
       "</table>\n",
       "</div>"
      ],
      "text/plain": [
       "          Time Stock  Money    Time2\n",
       "59  26/06/2009   NaN    5.0  2008_Q4\n",
       "55  28/06/2010   NaN    5.0  2009_Q4\n",
       "51  27/06/2011   NaN    5.0  2010_Q4\n",
       "47  27/06/2012   NaN    5.0  2011_Q4\n",
       "43  26/06/2013   NaN    5.0  2012_Q4\n",
       "39  25/06/2014   NaN    5.0  2013_Q4\n",
       "35  25/06/2015   NaN    5.0  2014_Q4\n",
       "31  27/06/2016   NaN    5.0  2015_Q4\n",
       "27  28/06/2017   NaN   60.0  2016_Q4\n",
       "23  27/06/2018   NaN   60.0  2017_Q4\n",
       "19  26/06/2019   NaN   70.0  2018_Q4\n",
       "15  25/06/2020   NaN   70.0  2019_Q4\n",
       "11  28/06/2021   NaN   80.0  2020_Q4\n",
       "7   27/06/2022   NaN   90.0  2021_Q4\n",
       "3   28/06/2023   NaN  100.0  2022_Q4\n",
       "22         NaN   NaN     ーー  2017_Q3\n",
       "30         NaN   NaN     ーー  2015_Q3"
      ]
     },
     "execution_count": 3,
     "metadata": {},
     "output_type": "execute_result"
    }
   ],
   "source": [
    "# PATH_DRIVER = \"H:/My Drive/6_2023/Done_Japan1\"\n",
    "PATH_DRIVER = \"I:/My Drive/6_2023/DoneJapan\"\n",
    "os.makedirs(rf'{PATH_DRIVER}/dividend', exist_ok=True)\n",
    "\n",
    "def sortDate(df, type_ = 'volume'):\n",
    "    if type_ == 'volume':\n",
    "        df['Time'] = pd.to_datetime(df['Time'], format='%Y_%m_%d', errors='coerce')\n",
    "    else:\n",
    "        df['Time'] = pd.to_datetime(df['Time'], format='%d_%m_%Y', errors='coerce')\n",
    "    df.sort_values(by=['Time'], inplace=True)\n",
    "    df['Time'] = df['Time'].dt.strftime('%d/%m/%Y')\n",
    "    return df\n",
    "\n",
    "def getVolume(symbol, PATH = rf'{PATH_DRIVER}/volume/'):\n",
    "    df = pd.read_csv(fr'Data\\{symbol}\\docs\\volume.csv')\n",
    "    df['volume'] = df['vol1'] - df['vol2']\n",
    "    df = df[['date', 'volume']]\n",
    "    df.dropna(inplace=True)\n",
    "    df.rename(columns={'date': 'Time', 'volume': 'Volume'}, inplace=True)\n",
    "    df = sortDate(df, type_ = 'volume')\n",
    "    df.to_csv(fr'{PATH}{symbol}.csv', index = False)\n",
    "    return df\n",
    "\n",
    "def getDividend(symbol, PATH = rf'{PATH_DRIVER}/dividend/'):\n",
    "    df = pd.read_csv(fr'Data\\{symbol}\\docs\\dividend.csv')\n",
    "    df_done = pd.DataFrame(columns = ['Time', 'Stock', 'Money', 'Time2'])\n",
    "    df_done['Time'] = df[['time_split_Q1', 'time_split_Q2', 'time_split_Q3', 'time_split_Q4']].stack(dropna=False).reset_index(drop=True)\n",
    "    df_done['Time'] = df_done['Time'].str.replace(\"['\", '').str.replace(\"']\", '')\n",
    "    df_done['Money'] = df[['Q1', 'Q2', 'Q3', 'Q4']].stack(dropna=False).reset_index(drop=True)\n",
    "    for q in  ['Q1', 'Q2', 'Q3', 'Q4']:\n",
    "        df[q] = df['Year'].astype(str) + '_' + q\n",
    "    df_done['Time2'] = df[['Q1', 'Q2', 'Q3', 'Q4']].stack(dropna=False).reset_index(drop=True)\n",
    "    df_done.replace('－', np.nan, inplace=True)\n",
    "    df_done.replace('―', np.nan, inplace=True)\n",
    "    df_done.replace('-', np.nan, inplace=True)\n",
    "    df_done.replace('—', np.nan, inplace=True)\n",
    "    df_done.replace('一', np.nan, inplace=True)\n",
    "    df_done.replace('=', np.nan, inplace=True)\n",
    "    df_done.dropna(inplace=True, thresh=2)\n",
    "    df_done = sortDate(df_done, type_ = 'dividend')\n",
    "    df_done.to_csv(fr'{PATH}{symbol}.csv', index = False)\n",
    "    return df_done\n",
    "\n",
    "symbol = 1301\n",
    "getVolume(symbol)\n",
    "getDividend(symbol)"
   ]
  },
  {
   "cell_type": "code",
   "execution_count": 4,
   "metadata": {},
   "outputs": [],
   "source": [
    "df = pd.read_csv('docs\\List_company_23052023 - Listing.csv')\n",
    "for id in df.index:\n",
    "    symbol = df['Symbol'][id]\n",
    "    if df['check'][id] == 'Done':\n",
    "        if os.path.exists(fr'Data\\{symbol}\\docs\\volume.csv'):\n",
    "            try:\n",
    "                getVolume(symbol)\n",
    "            except Exception as e:\n",
    "                print(symbol, e)\n",
    "                break\n",
    "\n",
    "        # if os.path.exists(fr'Data\\{symbol}\\docs\\dividend.csv'):\n",
    "        #     try:\n",
    "        #         getDividend(symbol)\n",
    "        #     except Exception as e:\n",
    "        #         print(symbol, e)\n",
    "        #         break\n"
   ]
  },
  {
   "cell_type": "markdown",
   "metadata": {},
   "source": [
    "# volume"
   ]
  },
  {
   "cell_type": "code",
   "execution_count": 1,
   "metadata": {},
   "outputs": [
    {
     "name": "stdout",
     "output_type": "stream",
     "text": [
      "a:\\Phong\\Crawl_buffett\n"
     ]
    }
   ],
   "source": [
    "%cd ..\n",
    "import pandas as pd\n",
    "import numpy as np\n",
    "import os\n",
    "from src.volume import GetVolume"
   ]
  },
  {
   "cell_type": "code",
   "execution_count": 2,
   "metadata": {},
   "outputs": [
    {
     "name": "stdout",
     "output_type": "stream",
     "text": [
      "Need ocr Data/5289/PDF/2019_Q1_(2019_08_09)_ocr.pdf\n"
     ]
    },
    {
     "name": "stderr",
     "output_type": "stream",
     "text": [
      "cannot identify image file 'C:\\\\Users\\\\ADMIN\\\\AppData\\\\Local\\\\Temp\\\\ocrmypdf.io.sl08csic\\\\origin'\n"
     ]
    },
    {
     "name": "stdout",
     "output_type": "stream",
     "text": [
      "5289_2019_Q1: ['N/A', 'N/A']\n",
      "Need ocr Data/5289/PDF/2018_Q1_(2018_08_09)_ocr.pdf\n"
     ]
    },
    {
     "name": "stderr",
     "output_type": "stream",
     "text": [
      "cannot identify image file 'C:\\\\Users\\\\ADMIN\\\\AppData\\\\Local\\\\Temp\\\\ocrmypdf.io.nkoh371s\\\\origin'\n"
     ]
    },
    {
     "name": "stdout",
     "output_type": "stream",
     "text": [
      "5289_2018_Q1: ['N/A', 'N/A']\n",
      "Need ocr Data/5289/PDF/2017_Q1_(2017_08_10)_ocr.pdf\n"
     ]
    },
    {
     "name": "stderr",
     "output_type": "stream",
     "text": [
      "cannot identify image file 'C:\\\\Users\\\\ADMIN\\\\AppData\\\\Local\\\\Temp\\\\ocrmypdf.io.f42b_u5p\\\\origin'\n"
     ]
    },
    {
     "name": "stdout",
     "output_type": "stream",
     "text": [
      "5289_2017_Q1: ['N/A', 'N/A']\n",
      "Need ocr Data/5289/PDF/2016_Q1_(2016_08_07)_ocr.pdf\n"
     ]
    },
    {
     "name": "stderr",
     "output_type": "stream",
     "text": [
      "cannot identify image file 'C:\\\\Users\\\\ADMIN\\\\AppData\\\\Local\\\\Temp\\\\ocrmypdf.io.tyh3f5mv\\\\origin'\n"
     ]
    },
    {
     "name": "stdout",
     "output_type": "stream",
     "text": [
      "5289_2016_Q1: ['N/A', 'N/A']\n",
      "Need ocr Data/5289/PDF/2015_Q1_(2015_08_08)_ocr.pdf\n",
      "5289_2015_Q1: ['N/A', 'N/A']\n",
      "Need ocr Data/5289/PDF/2018_Q2_(2018_11_09)_ocr.pdf\n"
     ]
    },
    {
     "name": "stderr",
     "output_type": "stream",
     "text": [
      "cannot identify image file 'C:\\\\Users\\\\ADMIN\\\\AppData\\\\Local\\\\Temp\\\\ocrmypdf.io.9952g1yk\\\\origin'\n"
     ]
    },
    {
     "name": "stdout",
     "output_type": "stream",
     "text": [
      "5289_2018_Q2: ['N/A', 'N/A']\n",
      "Need ocr Data/5289/PDF/2017_Q2_(2017_11_11)_ocr.pdf\n",
      "5289_2017_Q2: ['N/A', 'N/A']\n",
      "Need ocr Data/5289/PDF/2016_Q2_(2016_11_13)_ocr.pdf\n"
     ]
    },
    {
     "name": "stderr",
     "output_type": "stream",
     "text": [
      "cannot identify image file 'C:\\\\Users\\\\ADMIN\\\\AppData\\\\Local\\\\Temp\\\\ocrmypdf.io.04m0qjsw\\\\origin'\n"
     ]
    },
    {
     "name": "stdout",
     "output_type": "stream",
     "text": [
      "5289_2016_Q2: ['N/A', 'N/A']\n",
      "Need ocr Data/5289/PDF/2015_Q2_(2015_11_13)_ocr.pdf\n"
     ]
    },
    {
     "name": "stderr",
     "output_type": "stream",
     "text": [
      "cannot identify image file 'C:\\\\Users\\\\ADMIN\\\\AppData\\\\Local\\\\Temp\\\\ocrmypdf.io.gi2yt4cp\\\\origin'\n"
     ]
    },
    {
     "name": "stdout",
     "output_type": "stream",
     "text": [
      "5289_2015_Q2: ['N/A', 'N/A']\n",
      "Need ocr Data/5289/PDF/2014_Q2_(2014_11_13)_ocr.pdf\n"
     ]
    },
    {
     "name": "stderr",
     "output_type": "stream",
     "text": [
      "cannot identify image file 'C:\\\\Users\\\\ADMIN\\\\AppData\\\\Local\\\\Temp\\\\ocrmypdf.io.3wrfufhj\\\\origin'\n"
     ]
    },
    {
     "name": "stdout",
     "output_type": "stream",
     "text": [
      "5289_2014_Q2: ['N/A', 'N/A']\n",
      "Need ocr Data/5289/PDF/2018_Q3_(2018_02_14)_ocr.pdf\n"
     ]
    },
    {
     "name": "stderr",
     "output_type": "stream",
     "text": [
      "cannot identify image file 'C:\\\\Users\\\\ADMIN\\\\AppData\\\\Local\\\\Temp\\\\ocrmypdf.io.wyoszlg4\\\\origin'\n"
     ]
    },
    {
     "name": "stdout",
     "output_type": "stream",
     "text": [
      "5289_2018_Q3: ['N/A', 'N/A']\n",
      "Need ocr Data/5289/PDF/2017_Q3_(2017_02_10)_ocr.pdf\n"
     ]
    },
    {
     "name": "stderr",
     "output_type": "stream",
     "text": [
      "cannot identify image file 'C:\\\\Users\\\\ADMIN\\\\AppData\\\\Local\\\\Temp\\\\ocrmypdf.io.64pni_ad\\\\origin'\n"
     ]
    },
    {
     "name": "stdout",
     "output_type": "stream",
     "text": [
      "5289_2017_Q3: ['N/A', 'N/A']\n",
      "Need ocr Data/5289/PDF/2016_Q3_(2016_02_12)_ocr.pdf\n"
     ]
    },
    {
     "name": "stderr",
     "output_type": "stream",
     "text": [
      "cannot identify image file 'C:\\\\Users\\\\ADMIN\\\\AppData\\\\Local\\\\Temp\\\\ocrmypdf.io.mrmnh_i6\\\\origin'\n"
     ]
    },
    {
     "name": "stdout",
     "output_type": "stream",
     "text": [
      "5289_2016_Q3: ['N/A', 'N/A']\n",
      "Need ocr Data/5289/PDF/2015_Q3_(2015_02_13)_ocr.pdf\n"
     ]
    },
    {
     "name": "stderr",
     "output_type": "stream",
     "text": [
      "cannot identify image file 'C:\\\\Users\\\\ADMIN\\\\AppData\\\\Local\\\\Temp\\\\ocrmypdf.io.27nhyqv5\\\\origin'\n"
     ]
    },
    {
     "name": "stdout",
     "output_type": "stream",
     "text": [
      "5289_2015_Q3: ['N/A', 'N/A']\n",
      "Need ocr Data/5289/PDF/2014_Q3_(2014_02_07)_ocr.pdf\n"
     ]
    },
    {
     "name": "stderr",
     "output_type": "stream",
     "text": [
      "cannot identify image file 'C:\\\\Users\\\\ADMIN\\\\AppData\\\\Local\\\\Temp\\\\ocrmypdf.io.tuncat1y\\\\origin'\n"
     ]
    },
    {
     "name": "stdout",
     "output_type": "stream",
     "text": [
      "5289_2014_Q3: ['N/A', 'N/A']\n",
      "Need ocr Data/5289/PDF/2018_Q4_(2018_05_15)_ocr.pdf\n"
     ]
    },
    {
     "name": "stderr",
     "output_type": "stream",
     "text": [
      "cannot identify image file 'C:\\\\Users\\\\ADMIN\\\\AppData\\\\Local\\\\Temp\\\\ocrmypdf.io.jcdu8f7t\\\\origin'\n"
     ]
    },
    {
     "name": "stdout",
     "output_type": "stream",
     "text": [
      "5289_2018_Q4: ['N/A', 'N/A']\n",
      "Need ocr Data/5289/PDF/2017_Q4_(2017_05_11)_ocr.pdf\n"
     ]
    },
    {
     "name": "stderr",
     "output_type": "stream",
     "text": [
      "cannot identify image file 'C:\\\\Users\\\\ADMIN\\\\AppData\\\\Local\\\\Temp\\\\ocrmypdf.io.5647916e\\\\origin'\n"
     ]
    },
    {
     "name": "stdout",
     "output_type": "stream",
     "text": [
      "5289_2017_Q4: ['N/A', 'N/A']\n",
      "Need ocr Data/5289/PDF/2016_Q4_(2016_05_13)_ocr.pdf\n"
     ]
    },
    {
     "name": "stderr",
     "output_type": "stream",
     "text": [
      "cannot identify image file 'C:\\\\Users\\\\ADMIN\\\\AppData\\\\Local\\\\Temp\\\\ocrmypdf.io.ohne_omi\\\\origin'\n"
     ]
    },
    {
     "name": "stdout",
     "output_type": "stream",
     "text": [
      "5289_2016_Q4: ['N/A', 'N/A']\n",
      "Need ocr Data/5289/PDF/2015_Q4_(2015_05_15)_ocr.pdf\n"
     ]
    },
    {
     "name": "stderr",
     "output_type": "stream",
     "text": [
      "cannot identify image file 'C:\\\\Users\\\\ADMIN\\\\AppData\\\\Local\\\\Temp\\\\ocrmypdf.io.sowscr1k\\\\origin'\n"
     ]
    },
    {
     "name": "stdout",
     "output_type": "stream",
     "text": [
      "5289_2015_Q4: ['N/A', 'N/A']\n",
      "Need ocr Data/5289/PDF/2014_Q4_(2014_05_15)_ocr.pdf\n"
     ]
    },
    {
     "name": "stderr",
     "output_type": "stream",
     "text": [
      "cannot identify image file 'C:\\\\Users\\\\ADMIN\\\\AppData\\\\Local\\\\Temp\\\\ocrmypdf.io.8spldwsh\\\\origin'\n"
     ]
    },
    {
     "name": "stdout",
     "output_type": "stream",
     "text": [
      "5289_2014_Q4: ['N/A', 'N/A']\n"
     ]
    }
   ],
   "source": [
    "vol = GetVolume(path_save='')\n",
    "# vol.getDataFromPdf(id_company=1333, year = 2015, quy = 'Q1')\n",
    "vol.getVolume(5289)"
   ]
  }
 ],
 "metadata": {
  "kernelspec": {
   "display_name": "Python 3",
   "language": "python",
   "name": "python3"
  },
  "language_info": {
   "codemirror_mode": {
    "name": "ipython",
    "version": 3
   },
   "file_extension": ".py",
   "mimetype": "text/x-python",
   "name": "python",
   "nbconvert_exporter": "python",
   "pygments_lexer": "ipython3",
   "version": "3.10.7"
  },
  "orig_nbformat": 4
 },
 "nbformat": 4,
 "nbformat_minor": 2
}
