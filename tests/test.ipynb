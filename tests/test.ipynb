{
 "cells": [
  {
   "cell_type": "code",
   "execution_count": 1,
   "metadata": {},
   "outputs": [
    {
     "name": "stdout",
     "output_type": "stream",
     "text": [
      "a:\\Monthy\\5_2023\\Crawl_buffett\n"
     ]
    }
   ],
   "source": [
    "import PyPDF2\n",
    "import re\n",
    "import os\n",
    "import time\n",
    "import pandas as pd\n",
    "import numpy as np\n",
    "import warnings\n",
    "warnings.simplefilter(\"ignore\", UserWarning)\n",
    "%cd .."
   ]
  },
  {
   "cell_type": "code",
   "execution_count": null,
   "metadata": {},
   "outputs": [],
   "source": [
    "\n",
    "def convert_pdf_to_text(pdf_path):\n",
    "    text = \"\"\n",
    "    with open(pdf_path, \"rb\") as file:\n",
    "        pdf_reader = PyPDF2.PdfReader(file)\n",
    "        num_pages = len(pdf_reader.pages)\n",
    "        \n",
    "        for page_number in range(num_pages):\n",
    "            page = pdf_reader.pages[page_number]\n",
    "            text += page.extract_text()\n",
    "    \n",
    "    return text\n",
    "\n",
    "\n",
    "def find_by_re(text2):\n",
    "    text2 = text2.replace(' ', '')  \n",
    "    numbers = re.findall(r'\\d{1,3}(?:,\\d{3})*', text2)\n",
    "    filtered_numbers = [int(number.replace(',', '')) for number in numbers if int(number.replace(',', '')) > 3000]\n",
    "    if len(filtered_numbers) == 4:\n",
    "        lst_data_of_time = [filtered_numbers[0], filtered_numbers[2]]\n",
    "    elif len(filtered_numbers) == 2:\n",
    "        lst_data_of_time = filtered_numbers\n",
    "    else:\n",
    "        lst_data_of_time = [np.nan,np.nan]\n",
    "    return lst_data_of_time\n",
    "\n",
    "def find_row(text):\n",
    "    text1 = text[text.find('期末発行済株式数') :text.find('期末発行済株式数')+125]\n",
    "    matches = re.finditer('株', text1)\n",
    "    positions = [match.start() for match in matches]\n",
    "\n",
    "    text2 = text1[:positions[-1]+1]\n",
    "    text2 = text2.replace('③', '\\n③').replace(' ,', ',')\n",
    "    return find_by_re(text2)\n",
    "\n",
    "\n",
    "def get_data_from_pdf(id_company, year, quy):\n",
    "    for file in os.listdir(f'{id_company}/PDF'):\n",
    "        if file.startswith(f'{year}_{quy}'):\n",
    "            file_name = file\n",
    "            text = convert_pdf_to_text(f'{id_company}/PDF/{file_name}')\n",
    "            try:\n",
    "                lst_data_of_time = find_row(text)\n",
    "            except:\n",
    "                lst_data_of_time = ['Bug',\"Bug\"]\n",
    "            return lst_data_of_time\n",
    "    return ['Không có file','Không có file']\n",
    "\n",
    "\n",
    "get_data_from_pdf(1333, 2014, 'Q1')\n"
   ]
  },
  {
   "cell_type": "code",
   "execution_count": 9,
   "metadata": {},
   "outputs": [],
   "source": [
    "def get_volume(id_company):\n",
    "    df_volume = pd.DataFrame(columns=['time', 'vol1', 'vol2'])\n",
    "    df = pd.read_csv(f'{id_company}/docs/link.csv')\n",
    "    for quy in ['Q1', 'Q2', 'Q3', 'Q4']:\n",
    "        for id in df.index:\n",
    "            year = df[f'Year'][id]\n",
    "            df_volume.loc[(len(df_volume))] = [f'{year}_{quy}'] + get_data_from_pdf(id_company, year, quy)\n",
    "    # return df_volume\n",
    "    df_volume.to_csv(f'{id_company}/docs/volume.csv', index=False)\n",
    "\n",
    "get_volume(5486)"
   ]
  }
 ],
 "metadata": {
  "kernelspec": {
   "display_name": "Python 3",
   "language": "python",
   "name": "python3"
  },
  "language_info": {
   "codemirror_mode": {
    "name": "ipython",
    "version": 3
   },
   "file_extension": ".py",
   "mimetype": "text/x-python",
   "name": "python",
   "nbconvert_exporter": "python",
   "pygments_lexer": "ipython3",
   "version": "3.10.0"
  },
  "orig_nbformat": 4
 },
 "nbformat": 4,
 "nbformat_minor": 2
}
