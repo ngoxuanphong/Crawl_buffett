{
 "cells": [
  {
   "cell_type": "code",
   "execution_count": null,
   "metadata": {},
   "outputs": [],
   "source": [
    "from pdf2docx import Converter\n",
    "\n",
    "def convert_pdf_to_docx(pdf_path, docx_path):\n",
    "    cv = Converter(pdf_path)\n",
    "    cv.convert(docx_path, start=0, end=None)\n",
    "    cv.close()\n",
    "\n",
    "# Example usage\n",
    "pdf_file = \"5486-20090727-F740CDD35D.pdf\"\n",
    "docx_file = \"5486-20090727-F740CDD35D.docx\"\n",
    "\n",
    "convert_pdf_to_docx(pdf_file, docx_file)"
   ]
  },
  {
   "cell_type": "code",
   "execution_count": null,
   "metadata": {},
   "outputs": [],
   "source": [
    "import PyPDF2\n",
    "\n",
    "def convert_pdf_to_text(pdf_path):\n",
    "    text = \"\"\n",
    "    with open(pdf_path, \"rb\") as file:\n",
    "        pdf_reader = PyPDF2.PdfReader(file)\n",
    "        num_pages = len(pdf_reader.pages)\n",
    "        \n",
    "        for page_number in range(num_pages):\n",
    "            page = pdf_reader.pages[page_number]\n",
    "            text += page.extract_text()\n",
    "    \n",
    "    return text\n",
    "\n",
    "# Sử dụng ví dụ\n",
    "pdf_file = \"5486-20090727-F740CDD35D.pdf\"\n",
    "\n",
    "text = convert_pdf_to_text(pdf_file)\n",
    "print(text)\n"
   ]
  },
  {
   "cell_type": "code",
   "execution_count": 32,
   "metadata": {},
   "outputs": [],
   "source": [
    "import re\n",
    "text1 = text[text.find('期末発行済株式数（自己株式を含む') :text.find('四半期連結財務諸表 ')]\n",
    "\n",
    "matches = re.finditer('株', text1)\n",
    "positions = [match.start() for match in matches]\n",
    "\n",
    "text2 = text1[:positions[-1]+1]\n",
    "text2 = text2.replace('③', '\\n③').replace(' ,', ',')"
   ]
  },
  {
   "cell_type": "code",
   "execution_count": 79,
   "metadata": {},
   "outputs": [],
   "source": [
    "text = \"\"\"① 期末発行済株式数（自己株式を含む）\t22年3月期第1四半期 366,557,889株\t21年3月期\t366,557,889株\n",
    "② 期末自己株式数\t22年3月期第1四半期 14,067,616株\t21年3月期\t14,059,816株\n",
    "③ 期中平均株式数（四半期連結累計期間）\t22年3月期第1四半期 352,492,710株\t21年3月期第1四半期 352,547,583株\"\"\"\n"
   ]
  },
  {
   "cell_type": "code",
   "execution_count": 81,
   "metadata": {},
   "outputs": [
    {
     "name": "stdout",
     "output_type": "stream",
     "text": [
      "① 期末発行済株式数（自己株式を含む）\t22年3月期第1四半期 366,557,889株\t21年3月期\t366,557,889株\n",
      "② 期末自己株式数\t22年3月期第1四半期 14,067,616株\t21年3月期\t14,059,816株\n",
      "③ 期中平均株式数（四半期連結累計期間）\t22年3月期第1四半期 352,492,710株\t21年3月期第1四半期 352,547,583株\n"
     ]
    }
   ],
   "source": [
    "print(text)"
   ]
  }
 ],
 "metadata": {
  "kernelspec": {
   "display_name": "Python 3",
   "language": "python",
   "name": "python3"
  },
  "language_info": {
   "codemirror_mode": {
    "name": "ipython",
    "version": 3
   },
   "file_extension": ".py",
   "mimetype": "text/x-python",
   "name": "python",
   "nbconvert_exporter": "python",
   "pygments_lexer": "ipython3",
   "version": "3.10.0"
  },
  "orig_nbformat": 4
 },
 "nbformat": 4,
 "nbformat_minor": 2
}
