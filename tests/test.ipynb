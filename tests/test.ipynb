{
 "cells": [
  {
   "cell_type": "code",
   "execution_count": 1,
   "metadata": {},
   "outputs": [
    {
     "name": "stdout",
     "output_type": "stream",
     "text": [
      "a:\\Phong\\Crawl_buffett\n"
     ]
    }
   ],
   "source": [
    "%cd .."
   ]
  },
  {
   "cell_type": "code",
   "execution_count": 2,
   "metadata": {},
   "outputs": [],
   "source": [
    "from selenium import webdriver\n",
    "from selenium.webdriver.common.by import By\n",
    "import time, os\n",
    "from src.investing import Investing\n",
    "import pandas as pd\n",
    "import numpy as np"
   ]
  },
  {
   "cell_type": "code",
   "execution_count": 3,
   "metadata": {},
   "outputs": [
    {
     "name": "stdout",
     "output_type": "stream",
     "text": [
      "7217 done\n",
      "7218 done\n",
      "7219 done\n",
      "7220 done\n",
      "7222 done\n",
      "7224 done\n",
      "7226 done\n",
      "7228 done\n",
      "7229 done\n",
      "7231 done\n",
      "7235 done\n",
      "7236 done\n",
      "7238 done\n",
      "7239 done\n",
      "7240 done\n",
      "7241 done\n",
      "7242 done\n",
      "7244 done\n",
      "7245 done\n",
      "7246 done\n",
      "7247 done\n",
      "7250 done\n",
      "7254 done\n",
      "7255 done\n",
      "7256 done\n",
      "7259 done\n",
      "7261 done\n",
      "7264 done\n",
      "7265 done\n"
     ]
    }
   ],
   "source": [
    "ivt = Investing()\n",
    "\n",
    "ivt.getFinancialAll()"
   ]
  },
  {
   "cell_type": "code",
   "execution_count": null,
   "metadata": {},
   "outputs": [],
   "source": [
    "ivt = Investing()\n",
    "\n",
    "ivt.getFinancialAll()"
   ]
  }
 ],
 "metadata": {
  "kernelspec": {
   "display_name": "Python 3",
   "language": "python",
   "name": "python3"
  },
  "language_info": {
   "codemirror_mode": {
    "name": "ipython",
    "version": 3
   },
   "file_extension": ".py",
   "mimetype": "text/x-python",
   "name": "python",
   "nbconvert_exporter": "python",
   "pygments_lexer": "ipython3",
   "version": "3.10.0"
  },
  "orig_nbformat": 4
 },
 "nbformat": 4,
 "nbformat_minor": 2
}
