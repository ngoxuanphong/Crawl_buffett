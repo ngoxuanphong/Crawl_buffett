{
 "cells": [
  {
   "cell_type": "code",
   "execution_count": 1,
   "metadata": {},
   "outputs": [
    {
     "name": "stdout",
     "output_type": "stream",
     "text": [
      "a:\\Phong\\Crawl_buffett\n"
     ]
    }
   ],
   "source": [
    "%cd .."
   ]
  },
  {
   "cell_type": "code",
   "execution_count": 2,
   "metadata": {},
   "outputs": [],
   "source": [
    "from selenium import webdriver\n",
    "from selenium.webdriver.common.by import By\n",
    "import time, os\n",
    "from src.investing import Investing\n",
    "import pandas as pd\n",
    "import numpy as np"
   ]
  },
  {
   "cell_type": "code",
   "execution_count": 3,
   "metadata": {},
   "outputs": [
    {
     "data": {
      "text/html": [
       "<div>\n",
       "<style scoped>\n",
       "    .dataframe tbody tr th:only-of-type {\n",
       "        vertical-align: middle;\n",
       "    }\n",
       "\n",
       "    .dataframe tbody tr th {\n",
       "        vertical-align: top;\n",
       "    }\n",
       "\n",
       "    .dataframe thead th {\n",
       "        text-align: right;\n",
       "    }\n",
       "</style>\n",
       "<table border=\"1\" class=\"dataframe\">\n",
       "  <thead>\n",
       "    <tr style=\"text-align: right;\">\n",
       "      <th></th>\n",
       "      <th>Symbol</th>\n",
       "    </tr>\n",
       "  </thead>\n",
       "  <tbody>\n",
       "    <tr>\n",
       "      <th>0</th>\n",
       "      <td>1301</td>\n",
       "    </tr>\n",
       "    <tr>\n",
       "      <th>1</th>\n",
       "      <td>1332</td>\n",
       "    </tr>\n",
       "    <tr>\n",
       "      <th>2</th>\n",
       "      <td>1333</td>\n",
       "    </tr>\n",
       "    <tr>\n",
       "      <th>3</th>\n",
       "      <td>1375</td>\n",
       "    </tr>\n",
       "    <tr>\n",
       "      <th>4</th>\n",
       "      <td>1376</td>\n",
       "    </tr>\n",
       "    <tr>\n",
       "      <th>...</th>\n",
       "      <td>...</td>\n",
       "    </tr>\n",
       "    <tr>\n",
       "      <th>5301</th>\n",
       "      <td>8692</td>\n",
       "    </tr>\n",
       "    <tr>\n",
       "      <th>5302</th>\n",
       "      <td>8703</td>\n",
       "    </tr>\n",
       "    <tr>\n",
       "      <th>5303</th>\n",
       "      <td>8709</td>\n",
       "    </tr>\n",
       "    <tr>\n",
       "      <th>5304</th>\n",
       "      <td>8729</td>\n",
       "    </tr>\n",
       "    <tr>\n",
       "      <th>5305</th>\n",
       "      <td>8740</td>\n",
       "    </tr>\n",
       "  </tbody>\n",
       "</table>\n",
       "<p>5306 rows × 1 columns</p>\n",
       "</div>"
      ],
      "text/plain": [
       "      Symbol\n",
       "0       1301\n",
       "1       1332\n",
       "2       1333\n",
       "3       1375\n",
       "4       1376\n",
       "...      ...\n",
       "5301    8692\n",
       "5302    8703\n",
       "5303    8709\n",
       "5304    8729\n",
       "5305    8740\n",
       "\n",
       "[5306 rows x 1 columns]"
      ]
     },
     "execution_count": 3,
     "metadata": {},
     "output_type": "execute_result"
    }
   ],
   "source": [
    "# pd.read_excel('docs\\List_company_23052023.xlsx').to_csv(, index=False)\n",
    "# pd.read_csv('docs\\List_company_23052023 - Listing.csv')"
   ]
  },
  {
   "cell_type": "code",
   "execution_count": 3,
   "metadata": {},
   "outputs": [
    {
     "name": "stdout",
     "output_type": "stream",
     "text": [
      "5117\n"
     ]
    }
   ],
   "source": [
    "df_all = pd.read_csv('A:\\Phong\\Crawl_buffett\\docs\\List_company_23052023 - Listing.csv')\n",
    "\n",
    "path_save = 'data'\n",
    "miss_count = 0\n",
    "\n",
    "def check_miss(id_company, path_save, miss_count):\n",
    "    if not os.path.exists(f\"{path_save}/{id_company}/docs/check.csv\"):\n",
    "        return miss_count\n",
    "    df = pd.read_csv( f\"{path_save}/{id_company}/docs/check.csv\")  # read file\n",
    "    for quarter in ['Q1', 'Q2', 'Q3', 'Q4']:\n",
    "        miss_count += (df[f'Link_{quarter}'] != \"[]\").sum() - (df[f'download_{quarter}'] == \"OK\").sum()\n",
    "\n",
    "    return miss_count\n",
    "for id_company in df_all['Symbol']:\n",
    "    miss_count = check_miss(id_company, path_save, miss_count)\n",
    "print(miss_count)"
   ]
  }
 ],
 "metadata": {
  "kernelspec": {
   "display_name": "Python 3",
   "language": "python",
   "name": "python3"
  },
  "language_info": {
   "codemirror_mode": {
    "name": "ipython",
    "version": 3
   },
   "file_extension": ".py",
   "mimetype": "text/x-python",
   "name": "python",
   "nbconvert_exporter": "python",
   "pygments_lexer": "ipython3",
   "version": "3.10.7"
  },
  "orig_nbformat": 4
 },
 "nbformat": 4,
 "nbformat_minor": 2
}
