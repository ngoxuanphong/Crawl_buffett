{
 "cells": [
  {
   "cell_type": "code",
   "execution_count": 1,
   "metadata": {},
   "outputs": [
    {
     "name": "stdout",
     "output_type": "stream",
     "text": [
      "a:\\Phong\\Crawl_buffett\n"
     ]
    }
   ],
   "source": [
    "%cd .."
   ]
  },
  {
   "cell_type": "code",
   "execution_count": 2,
   "metadata": {},
   "outputs": [],
   "source": [
    "from selenium import webdriver\n",
    "from selenium.webdriver.common.by import By\n",
    "import time, os\n",
    "from src.investing import Investing\n",
    "import pandas as pd\n",
    "import numpy as np\n",
    "reverse = False"
   ]
  },
  {
   "cell_type": "code",
   "execution_count": 11,
   "metadata": {},
   "outputs": [],
   "source": [
    "def check_miss_file(symbol):\n",
    "    df = pd.read_csv(fr'Data\\{symbol}\\docs\\check.csv')\n",
    "    QUARTER = ['Q1', 'Q2', 'Q3', 'Q4']\n",
    "    df_temp = df[['download_Q1', 'download_Q2', 'download_Q3', 'download_Q4']]\n",
    "    rows, cols = np.where(df_temp.isna())\n",
    "    lst_time, lst_quarter = [],  []\n",
    "    for row, col in zip(rows, cols):\n",
    "        if df[f'Link_{QUARTER[col]}'][row] != '[]' and pd.isna(df[f'Link_{QUARTER[col]}'][row]) == False:\n",
    "            lst_time.append(df['Year'][row])\n",
    "            lst_quarter.append(QUARTER[col])\n",
    "\n",
    "    df_new = pd.DataFrame({\n",
    "                'Symbol': symbol,\n",
    "                    'Year':lst_time,\n",
    "                'Quarter': lst_quarter,\n",
    "                })\n",
    "    return df_new\n",
    "\n",
    "def check_miss_all(reverse = True):\n",
    "    df_all = pd.read_csv('A:\\Phong\\Crawl_buffett\\docs\\List_company_23052023 - Listing.csv')\n",
    "    df_miss = pd.DataFrame(columns=['Symbol', 'Year', 'Quarter'])\n",
    "    for id in df_all['Symbol'].index:\n",
    "        symbol = df_all['Symbol'][id]\n",
    "        if os.path.exists(fr'Data\\{symbol}\\docs\\check.csv'):\n",
    "            df_temp = check_miss_file(symbol)\n",
    "            df_miss = pd.concat([df_miss, df_temp])\n",
    "            df_all['check'][id] = 'Done'\n",
    "    df_miss.to_csv(f'docs\\miss_{reverse}.csv', index=False)\n",
    "    df_all.to_csv('A:\\Phong\\Crawl_buffett\\docs\\List_company_23052023 - Listing.csv', index=False)\n",
    "\n",
    "check_miss_all(reverse = False)"
   ]
  },
  {
   "cell_type": "code",
   "execution_count": null,
   "metadata": {},
   "outputs": [],
   "source": [
    "def get_link(symbol, year, quarter):\n",
    "    df_check = pd.read_csv(fr'Data\\{symbol}\\docs\\check.csv')\n",
    "    print(df_check[f'Link_{quarter}'][df_check['Year'] == year])\n",
    "    links = eval(df_check[f'Link_{quarter}'][df_check['Year'] == year].iloc[0])\n",
    "    times = eval(df_check[f'Time_{quarter}'][df_check['Year'] == year].iloc[0])\n",
    "    for i, time in enumerate(times):\n",
    "        if \"(訂正)\" not in time:\n",
    "            return links[i], time\n",
    "        \n",
    "def thread_file():\n",
    "    df_miss = pd.read_csv(f'docs\\miss_{reverse}.csv')\n",
    "    id = df_miss[df_miss['check'].isna()].index[0]\n",
    "    symbol = int(df_miss['Symbol'][id])\n",
    "    year = int(df_miss['Year'][id])\n",
    "    quarter = df_miss['Quarter'][id]\n",
    "    print(symbol, year, quarter)\n",
    "    df_miss['check'][id] = 'Doing'\n",
    "    df_miss.to_csv(f'docs\\miss_{reverse}.csv', index=False)\n",
    "    link, time = get_link(symbol, year, quarter)\n",
    "    return link, time\n",
    "\n",
    "thread_file()"
   ]
  }
 ],
 "metadata": {
  "kernelspec": {
   "display_name": "Python 3",
   "language": "python",
   "name": "python3"
  },
  "language_info": {
   "codemirror_mode": {
    "name": "ipython",
    "version": 3
   },
   "file_extension": ".py",
   "mimetype": "text/x-python",
   "name": "python",
   "nbconvert_exporter": "python",
   "pygments_lexer": "ipython3",
   "version": "3.10.0"
  },
  "orig_nbformat": 4
 },
 "nbformat": 4,
 "nbformat_minor": 2
}
