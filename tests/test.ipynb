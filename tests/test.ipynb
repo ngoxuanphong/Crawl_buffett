{
 "cells": [
  {
   "cell_type": "code",
   "execution_count": 1,
   "metadata": {},
   "outputs": [],
   "source": [
    "from selenium import webdriver\n",
    "from selenium.webdriver.common.by import By\n",
    "import time, os\n",
    "import pandas as pd\n",
    "import numpy as np"
   ]
  },
  {
   "cell_type": "code",
   "execution_count": 2,
   "metadata": {},
   "outputs": [
    {
     "name": "stdout",
     "output_type": "stream",
     "text": [
      "/Users/mac/Monthy/Crawl_buffett\n"
     ]
    }
   ],
   "source": [
    "%cd .."
   ]
  },
  {
   "cell_type": "code",
   "execution_count": 20,
   "metadata": {},
   "outputs": [],
   "source": [
    "class morningstar():\n",
    "\n",
    "    def __init__(self, \n",
    "                 path_download = '/Users/mac/Downloads',\n",
    "                 email = 'quynhtranga1k2000@gmail.com',\n",
    "                 password = 'Trang0987145288'): \n",
    "        \n",
    "        self.EMAIL = email\n",
    "        self.PASSWORD = password\n",
    "        self.PATH = path_download\n",
    "        self.setDriver()\n",
    "        self.login()\n",
    "\n",
    "    def setDriver(self):\n",
    "        self.driver = webdriver.Chrome()\n",
    "        self.driver.maximize_window()\n",
    "\n",
    "    def login(self):\n",
    "        url_login = 'https://www.morningstar.com/stocks/xber/096/financials'\n",
    "        self.driver.get(url_login)\n",
    "        time.sleep(2)\n",
    "        self.driver.find_element(By.XPATH, '//*[@id=\"__layout\"]/div/div/div[2]/div[1]/div/header/div/div[3]/section/ul/li[3]/a').click() # Find element sign in\n",
    "        time.sleep(10) # wait for login\n",
    "        self.driver.find_element(By.ID, 'emailInput').send_keys(self.EMAIL) # Find element email\n",
    "        self.driver.find_element(By.ID, 'passwordInput').send_keys(self.PASSWORD) # Find element password \n",
    "        self.driver.find_element(By.XPATH, '//*[@id=\"mds-page-shell-content\"]/section/div/div[2]/div/div/form/div/button[2]').click() # Click to sign in \n",
    "        time.sleep(10)\n",
    "\n",
    "    def getFinancialSymbols(self, symbol):\n",
    "        url = f'https://www.morningstar.com/stocks/xber/{symbol}/financials'\n",
    "        self.driver.get(url)\n",
    "        time.sleep(2)\n",
    "\n",
    "        # show all\n",
    "        self.driver.find_element(By.XPATH, '//*[@id=\"__layout\"]/div/div/div[2]/div[3]/div/main/div/div/div[1]/section/sal-components/div/sal-components-stocks-financials/div/div/div/div/div/div/div[2]/div[2]/div/div/a/span[2]').click()\n",
    "        time.sleep(3)\n",
    "\n",
    "        # download income statement\n",
    "        self.driver.find_element(By.XPATH, '//*[@id=\"__layout\"]/div/div/div[2]/div[3]/div/main/div/div/div[1]/section/sal-components/div/sal-components-stocks-financials/div/div/div/div/div/div/div[2]/div[1]/div[2]/div/div/div/div/div/div/div/div[2]/div[2]/div[2]/button').click()\n",
    "        time.sleep(10)\n",
    "        os.rename(f'{self.PATH}/Income Statement_Annual_As Originally Reported.xls', f'{self.PATH}/{symbol}_income.csv')\n",
    "\n",
    "        # balance sheet\n",
    "        self.driver.find_element(By.XPATH, '//*[@id=\"balanceSheet\"]').click()\n",
    "        time.sleep(3)\n",
    "\n",
    "        # download balance sheet\n",
    "        self.driver.find_element(By.XPATH, '//*[@id=\"__layout\"]/div/div/div[2]/div[3]/div/main/div/div/div[1]/section/sal-components/div/sal-components-stocks-financials/div/div/div/div/div/div/div[2]/div[1]/div[2]/div/div/div/div/div/div/div/div[2]/div[2]/div[2]/button').click()\n",
    "        time.sleep(10)\n",
    "        os.rename(f'{self.PATH}/Balance Sheet_Annual_As Originally Reported.xls', f'{self.PATH}/{symbol}_balance.csv')\n",
    "\n",
    "    def run(self, path_symbol):\n",
    "\n",
    "        df = pd.read_excel(path_symbol)\n",
    "        if 'check' not in df.columns: # create column if not exist\n",
    "            df['check'] = np.nan\n",
    "\n",
    "        for id in df.index:\n",
    "            symbol = df['Abbreviation'][id] # get symbol\n",
    "            check = df['check'][id] # get check\n",
    "            if check == 'Done':\n",
    "                continue\n",
    "            try:\n",
    "                if os.path.exists(f'{self.PATH}/{symbol}_balance.csv') and os.path.exists(f'{self.PATH}/{symbol}_income.csv'):\n",
    "                    df['check'][id] = 'Done'\n",
    "                    continue\n",
    "                self.getFinancialSymbols(symbol)\n",
    "                df['check'][id] = 'Done'\n",
    "                print(symbol, 'done')\n",
    "            except Exception as e:\n",
    "                df['check'][id] = e\n",
    "                print(symbol, e)\n",
    "\n",
    "        df.to_excel(path_symbol, index=False)"
   ]
  },
  {
   "cell_type": "code",
   "execution_count": 21,
   "metadata": {},
   "outputs": [],
   "source": [
    "ms = morningstar(path_download = '/Users/mac/Downloads')\n",
    "ms.run('docs/ListCom_Germany.xlsx')"
   ]
  }
 ],
 "metadata": {
  "kernelspec": {
   "display_name": "Python 3",
   "language": "python",
   "name": "python3"
  },
  "language_info": {
   "codemirror_mode": {
    "name": "ipython",
    "version": 3
   },
   "file_extension": ".py",
   "mimetype": "text/x-python",
   "name": "python",
   "nbconvert_exporter": "python",
   "pygments_lexer": "ipython3",
   "version": "3.10.1"
  },
  "orig_nbformat": 4
 },
 "nbformat": 4,
 "nbformat_minor": 2
}
