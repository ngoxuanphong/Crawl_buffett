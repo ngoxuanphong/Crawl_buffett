{
 "cells": [
  {
   "cell_type": "code",
   "execution_count": 1,
   "metadata": {},
   "outputs": [
    {
     "name": "stdout",
     "output_type": "stream",
     "text": [
      "a:\\Phong\\Crawl_buffett\n"
     ]
    }
   ],
   "source": [
    "%cd .."
   ]
  },
  {
   "cell_type": "code",
   "execution_count": 2,
   "metadata": {},
   "outputs": [],
   "source": [
    "from selenium import webdriver\n",
    "from selenium.webdriver.common.by import By\n",
    "import time, os\n",
    "from src.investing import Investing\n",
    "import pandas as pd\n",
    "import numpy as np"
   ]
  },
  {
   "cell_type": "code",
   "execution_count": 3,
   "metadata": {},
   "outputs": [
    {
     "name": "stdout",
     "output_type": "stream",
     "text": [
      "3635\n"
     ]
    }
   ],
   "source": [
    "df_all = pd.read_csv('A:\\Phong\\Crawl_buffett\\docs\\List_company_23052023 - Listing.csv')\n",
    "\n",
    "path_save = 'data'\n",
    "miss_count = 0\n",
    "\n",
    "def check_miss(id_company, path_save, miss_count):\n",
    "    if not os.path.exists(f\"{path_save}/{id_company}/docs/check.csv\"):\n",
    "        return miss_count\n",
    "    df = pd.read_csv( f\"{path_save}/{id_company}/docs/check.csv\")  # read file\n",
    "    for quarter in ['Q1', 'Q2', 'Q3', 'Q4']:\n",
    "        miss_count += (df[f'Link_{quarter}'] != \"[]\").sum() - (df[f'download_{quarter}'] == \"OK\").sum()\n",
    "\n",
    "    return miss_count\n",
    "for id_company in df_all['Symbol']:\n",
    "    miss_count = check_miss(id_company, path_save, miss_count)\n",
    "print(miss_count)"
   ]
  }
 ],
 "metadata": {
  "kernelspec": {
   "display_name": "Python 3",
   "language": "python",
   "name": "python3"
  },
  "language_info": {
   "codemirror_mode": {
    "name": "ipython",
    "version": 3
   },
   "file_extension": ".py",
   "mimetype": "text/x-python",
   "name": "python",
   "nbconvert_exporter": "python",
   "pygments_lexer": "ipython3",
   "version": "3.10.0"
  },
  "orig_nbformat": 4
 },
 "nbformat": 4,
 "nbformat_minor": 2
}
