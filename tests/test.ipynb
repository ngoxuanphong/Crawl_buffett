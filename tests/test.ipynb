{
 "cells": [
  {
   "cell_type": "code",
   "execution_count": 1,
   "metadata": {},
   "outputs": [
    {
     "name": "stdout",
     "output_type": "stream",
     "text": [
      "a:\\Phong\\Crawl_buffett\n"
     ]
    }
   ],
   "source": [
    "%cd .."
   ]
  },
  {
   "cell_type": "code",
   "execution_count": 2,
   "metadata": {},
   "outputs": [],
   "source": [
    "from selenium import webdriver\n",
    "from selenium.webdriver.common.by import By\n",
    "import time, os\n",
    "from src.investing import Investing\n",
    "import pandas as pd\n",
    "import numpy as np"
   ]
  },
  {
   "cell_type": "code",
   "execution_count": null,
   "metadata": {},
   "outputs": [],
   "source": [
    "df_all = pd.read_csv('A:\\Phong\\Crawl_buffett\\docs\\List_company_23052023 - Listing.csv')\n",
    "\n",
    "path_save = 'data'\n",
    "miss_count = 0\n",
    "\n",
    "def check_miss(id_company, path_save, miss_count):\n",
    "    if not os.path.exists(f\"{path_save}/{id_company}/docs/check.csv\"):\n",
    "        return miss_count\n",
    "    df = pd.read_csv( f\"{path_save}/{id_company}/docs/check.csv\")  # read file\n",
    "    for quarter in ['Q1', 'Q2', 'Q3', 'Q4']:\n",
    "        miss_count += (df[f'Link_{quarter}'] != \"[]\").sum() - (df[f'download_{quarter}'] == \"OK\").sum()\n",
    "    if miss_count > 0:\n",
    "        print(id_company)\n",
    "    return miss_count\n",
    "for id_company in df_all['Symbol']:\n",
    "    miss_count = check_miss(id_company, path_save, miss_count)\n",
    "print(miss_count)"
   ]
  },
  {
   "cell_type": "code",
   "execution_count": 30,
   "metadata": {},
   "outputs": [],
   "source": [
    "def check_miss_file(symbol):\n",
    "    df = pd.read_csv(fr'Data\\{symbol}\\docs\\check.csv')\n",
    "    QUARTER = ['Q1', 'Q2', 'Q3', 'Q4']\n",
    "    df_temp = df[['download_Q1', 'download_Q2', 'download_Q3', 'download_Q4']]\n",
    "    rows, cols = np.where(df_temp.isna())\n",
    "    lst_time, lst_quarter = [],  []\n",
    "    for row, col in zip(rows, cols):\n",
    "        if df[f'Link_{QUARTER[col]}'][row] != '[]':\n",
    "            lst_time.append(df['Year'][row])\n",
    "            lst_quarter.append(QUARTER[col])\n",
    "\n",
    "    df_new = pd.DataFrame({\n",
    "                'Symbol': symbol,\n",
    "                    'Year':lst_time,\n",
    "                'Quarter': lst_quarter,\n",
    "                })\n",
    "    return df_new\n",
    "\n",
    "df_all = pd.read_csv('A:\\Phong\\Crawl_buffett\\docs\\List_company_23052023 - Listing.csv')\n",
    "df_miss = pd.DataFrame(columns=['Symbol', 'Year', 'Quarter'])\n",
    "for symbol in df_all['Symbol']:\n",
    "    if os.path.exists(fr'Data\\{symbol}\\docs\\check.csv'):\n",
    "        df_temp = check_miss_file(symbol)\n",
    "        df_miss = pd.concat([df_miss, df_temp])\n",
    "df_miss['check'] = np.nan\n",
    "df_miss.to_csv('docs\\miss_True.csv', index=False)"
   ]
  },
  {
   "cell_type": "code",
   "execution_count": 8,
   "metadata": {},
   "outputs": [
    {
     "data": {
      "text/plain": [
       "('https://www.buffett-code.com/company/3928/library/3e54c1d3a782a5d880224c/preview',\n",
       " '決算短信 (2022/5/13)')"
      ]
     },
     "execution_count": 8,
     "metadata": {},
     "output_type": "execute_result"
    }
   ],
   "source": [
    "reverse = True\n",
    "def get_link(symbol, year, quarter):\n",
    "    df_check = pd.read_csv(fr'Data\\{symbol}\\docs\\check.csv')\n",
    "    links = eval(df_check[f'Link_{quarter}'][df_check['Year'] == year].iloc[0])\n",
    "    times = eval(df_check[f'Time_{quarter}'][df_check['Year'] == year].iloc[0])\n",
    "    for i, time in enumerate(times):\n",
    "        if \"(訂正)\" not in time:\n",
    "            return links[i], time\n",
    "        \n",
    "def thread_file():\n",
    "    df_miss = pd.read_csv(f'docs\\miss_{reverse}.csv')\n",
    "    id = df_miss[df_miss['check'] != 'OK'].index[0]\n",
    "    symbol = df_miss['Symbol'][id]\n",
    "    year = df_miss['Year'][id]\n",
    "    quarter = df_miss['Quarter'][id]\n",
    "    df_miss['check'][id] = 'Doing'\n",
    "    df_miss.to_csv(f'docs\\miss_{reverse}.csv', index=False)\n",
    "    link, time = get_link(symbol, year, quarter)\n",
    "    return link, time\n",
    "\n",
    "thread_file()"
   ]
  }
 ],
 "metadata": {
  "kernelspec": {
   "display_name": "Python 3",
   "language": "python",
   "name": "python3"
  },
  "language_info": {
   "codemirror_mode": {
    "name": "ipython",
    "version": 3
   },
   "file_extension": ".py",
   "mimetype": "text/x-python",
   "name": "python",
   "nbconvert_exporter": "python",
   "pygments_lexer": "ipython3",
   "version": "3.10.7"
  },
  "orig_nbformat": 4
 },
 "nbformat": 4,
 "nbformat_minor": 2
}
