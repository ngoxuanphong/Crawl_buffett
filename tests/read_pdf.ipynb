{
 "cells": [
  {
   "cell_type": "code",
   "execution_count": 2,
   "metadata": {},
   "outputs": [
    {
     "name": "stdout",
     "output_type": "stream",
     "text": [
      "a:\\Monthy\\5_2023\\Crawl_buffett\n"
     ]
    }
   ],
   "source": [
    "import tabula, camelot, os\n",
    "import pandas as pd\n",
    "import numpy as np\n",
    "import warnings\n",
    "warnings.simplefilter(\"ignore\", UserWarning)\n",
    "%cd .."
   ]
  },
  {
   "cell_type": "code",
   "execution_count": 3,
   "metadata": {},
   "outputs": [],
   "source": [
    "def convert_table(df):\n",
    "    df.loc[-1] = df.columns\n",
    "    df = df.sort_index()\n",
    "    df.columns = np.arange(len(df.columns))\n",
    "    return df.reset_index(drop=True)\n",
    "\n",
    "def find_row(df, text):\n",
    "    list_id = np.where((df[0].str.find(text) > 0) == True)[0]\n",
    "    if len(list_id) == 0:\n",
    "        return None\n",
    "    else:\n",
    "        return list_id[0] \n",
    "    \n",
    "def get_vol_table_tabula(file_path):\n",
    "    if 'https' in file_path:\n",
    "        tables = tabula.read_pdf(file_path, pages=\"all\", multiple_tables=True, silent=True, stream=True)\n",
    "    else:\n",
    "        tables = tabula.read_pdf(file_path, pages=\"all\", multiple_tables=True, silent=True)\n",
    "    for table in range(len(tables)):\n",
    "        df = pd.DataFrame(tables[table])\n",
    "        df = convert_table(df)\n",
    "        row_id = find_row(df, \"期末発行済株式数(自己株式を含む)\")\n",
    "        if row_id is not None and len(df.columns) < 10 and len(df[0][0]) < 100:\n",
    "            return df\n",
    "    return None\n"
   ]
  },
  {
   "cell_type": "code",
   "execution_count": 4,
   "metadata": {},
   "outputs": [],
   "source": [
    "def cut_vol_table(tables):\n",
    "    for i in range(len(tables)):\n",
    "        df = tables[i].df\n",
    "        df_find_key = df[0].str.find('期末発行済株式数（自己株式を含む）')\n",
    "        for i in df_find_key.index:\n",
    "            if df_find_key[i] >= 0:\n",
    "                id_have_key = i\n",
    "                df = df.iloc[id_have_key:, :].reset_index(drop=True)\n",
    "                return df\n",
    "\n",
    "def convert_table_mix_data(df):\n",
    "    df_add = df[3].str.split(' ', expand=True)\n",
    "    df_add2 = df[4].str.split(' ', expand=True)\n",
    "    for i in df.index:\n",
    "        if df[2][i] == '':\n",
    "            df[2][i] = df_add[0][i]\n",
    "            df[3][i] = df_add[1][i]\n",
    "        if df[5][i] == '':\n",
    "            df[5][i] = df_add2[1][i]\n",
    "            df[4][i] = df_add2[0][i]\n",
    "    return df\n",
    "     \n",
    "def drop_empty_col(df):\n",
    "    for col in df.columns:\n",
    "        if (df[col]=='').all():\n",
    "            df = df.drop(columns=col)\n",
    "    df.columns = np.arange(len(df.columns))\n",
    "    return df\n",
    "\n",
    "def get_vol_table_camelot(file_path):\n",
    "    tables = camelot.read_pdf(file_path, pages=\"all\", multiple_tables=True, flavor=\"stream\", suppress_stdout=True)\n",
    "    df = cut_vol_table(tables)\n",
    "    print(df)\n",
    "    df = convert_table_mix_data(df)\n",
    "    df = drop_empty_col(df)\n",
    "    return df"
   ]
  },
  {
   "cell_type": "code",
   "execution_count": 5,
   "metadata": {},
   "outputs": [],
   "source": [
    "def get_vol_table(file_path):\n",
    "    df = get_vol_table_tabula(file_path)\n",
    "    if df is None:\n",
    "        df = get_vol_table_camelot(file_path)\n",
    "    return df\n"
   ]
  },
  {
   "cell_type": "code",
   "execution_count": 6,
   "metadata": {},
   "outputs": [],
   "source": [
    "link = 'https://buffett-code-archives.s3.amazonaws.com/tdnet_archives/5486-20090727-F740CDD35D.pdf'"
   ]
  },
  {
   "cell_type": "code",
   "execution_count": 7,
   "metadata": {},
   "outputs": [],
   "source": [
    "import setup\n",
    "import numpy as np\n",
    "from bs4 import BeautifulSoup\n",
    "import pandas as pd\n",
    "import time\n",
    "\n",
    "\n",
    "\n",
    "class FinancailStatement(setup.Setup):\n",
    "    def __init__(self):\n",
    "        super().__init__('Selenium',source=\"VS\")\n",
    "        # self.link = \"https://www.buffett-code.com/company/5486/library\"\n",
    "    \n",
    "    def get_data(self, link):\n",
    "        self.driver.get(link)\n",
    "        time.sleep(5)\n",
    "        soup = BeautifulSoup(self.driver.page_source,'html.parser',from_encoding='utf-8')\n",
    "        # self.driver.close()\n",
    "        # self.driver.quit()\n",
    "        return soup\n",
    "    \n",
    "    def get_table(self,soup = \"\", id_company = 5486):\n",
    "        # if soup == \"\":\n",
    "        print(f\"https://www.buffett-code.com/company/{id_company}/library\")\n",
    "        soup = self.get_data(f\"https://www.buffett-code.com/company/{id_company}/library\")\n",
    "        # else:\n",
    "        #     soup = BeautifulSoup(soup,'html.parser',from_encoding='utf-8')\n",
    "        table = soup.find_all('table')\n",
    "        return table\n",
    "    \n",
    "    def get_pdf_link(self,link_):\n",
    "        self.driver.get(link_)\n",
    "        time.sleep(1)\n",
    "        soup = BeautifulSoup(self.driver.page_source,'html.parser',from_encoding='utf-8')\n",
    "        arr = soup.find_all('a')\n",
    "        for i in arr:\n",
    "            if i[\"href\"].find(\"pdf\") != -1:\n",
    "                return i[\"href\"]\n",
    "        return \"\"\n"
   ]
  },
  {
   "cell_type": "code",
   "execution_count": 8,
   "metadata": {},
   "outputs": [],
   "source": [
    "def create_link_df(table):\n",
    "    json_company = {}\n",
    "    for id_year, tr_year in enumerate(table[0].find_all('tr')):\n",
    "        json_company_quy = {}\n",
    "        year = ''\n",
    "        for id_quy, td_quy in enumerate(tr_year.find_all('td')):\n",
    "            lst_text, lst_link = [], []\n",
    "            for li in td_quy.find_all('li'):\n",
    "                if '決算短信' in li.text:\n",
    "                    lst_text.append(li.text)\n",
    "                    lst_link.append(f\"https://www.buffett-code.com{li.find('a')['href']}\")\n",
    "            if id_quy != 0 and id_quy != 5:\n",
    "                json_company_quy[f'Time_Q{id_quy}'] = lst_text\n",
    "                json_company_quy[f'Link_Q{id_quy}'] = lst_link\n",
    "            if td_quy['class'][0] == 'center':\n",
    "                year = td_quy.text\n",
    "        if year != '':\n",
    "            json_company[year] = json_company_quy.copy()\n",
    "    return pd.DataFrame(json_company).T\n"
   ]
  },
  {
   "cell_type": "code",
   "execution_count": 9,
   "metadata": {},
   "outputs": [],
   "source": [
    "def save_csv(F, df, id_company, df_check):\n",
    "    for quy in ['Q1', 'Q2', 'Q3', 'Q4']:\n",
    "        for year in df.index:\n",
    "            for id_link in range(len(df[f'Time_{quy}'][year])):\n",
    "                link_preview = df[f'Link_{quy}'][year][id_link]\n",
    "                link_pdf = F.get_pdf_link(link_preview)\n",
    "                name = df[f'Time_{quy}'][year][id_link]\n",
    "                if link_preview != 'https://www.buffett-code.com#':\n",
    "                    print(year, quy, link_pdf)\n",
    "                    try:\n",
    "                        df_vol = get_vol_table(link_pdf)\n",
    "                        df_vol.to_csv(f'{id_company}/{year}_{quy}.csv', index=False)\n",
    "                        df_check[f'Link_{quy}'][year][id_link] = 'Done'\n",
    "                    except:\n",
    "                        pass\n",
    "                    df_check.to_csv(f'{id_company}/docs/checklist.csv')\n",
    "                    df_check.to_csv(f'{id_company}/docs/checklist.csv', index=False)"
   ]
  },
  {
   "cell_type": "code",
   "execution_count": 10,
   "metadata": {},
   "outputs": [],
   "source": [
    "def re_download(F, id_company):\n",
    "    df = pd.read_csv(f'{id_company}/docs/checklist.csv')\n",
    "    for quy in ['Q1', 'Q2', 'Q3', 'Q4']:\n",
    "        for year in df.index:\n",
    "            df[f'Link_{quy}'][year] = df[f'Link_{quy}'][year].replace(\"[\",\"\").replace(\"]\",\"\").replace(\"'\",\"\").replace(\" \",\"\").split(\",\")\n",
    "            for id_link in range(len(df[f'Link_{quy}'][year])):\n",
    "                link_pdf_ = df[f'Link_{quy}'][year][id_link]\n",
    "                if link_pdf_ != 'Done' and link_pdf_ != '':\n",
    "                    link_preview = link_pdf_\n",
    "                    print('------------------', link_preview)\n",
    "                    link_pdf = F.get_pdf_link(link_preview)\n",
    "                    name = df[f'Time_{quy}'][year][id_link]\n",
    "                    if link_preview != 'https://www.buffett-code.com#':\n",
    "                        print(year, quy, link_pdf)\n",
    "                        try:\n",
    "                            df_vol = get_vol_table(link_pdf)\n",
    "                            df_vol.to_csv(f'{id_company}/{year}_{quy}.csv', index=False)\n",
    "                            df[f'Link_{quy}'][year][id_link] = 'Done'\n",
    "                        except:\n",
    "                            pass\n",
    "                        df.to_csv(f'{id_company}/docs/checklist.csv', index=False)"
   ]
  },
  {
   "cell_type": "code",
   "execution_count": 11,
   "metadata": {},
   "outputs": [],
   "source": [
    "def get_vol_buffett(id_company):\n",
    "    if not os.path.exists(f'{id_company}'):\n",
    "        os.mkdir(f'{id_company}')\n",
    "    if not os.path.exists(f'{id_company}/docs'):\n",
    "        os.mkdir(f'{id_company}/docs')\n",
    "\n",
    "    F = FinancailStatement()\n",
    "\n",
    "    if not os.path.exists(f'{id_company}/docs/checklist.csv'):\n",
    "        table = F.get_table(id_company = id_company)\n",
    "        df = create_link_df(table)\n",
    "        df_check = df.copy()\n",
    "        df.to_csv(f'{id_company}/link.csv')\n",
    "        df_check.to_csv(f'{id_company}/docs/checklist.csv', index=False)\n",
    "\n",
    "        save_csv(F, df, id_company, df_check)\n",
    "    else:\n",
    "        print('Re download')\n",
    "        re_download(F, id_company)"
   ]
  },
  {
   "cell_type": "code",
   "execution_count": 12,
   "metadata": {},
   "outputs": [
    {
     "name": "stdout",
     "output_type": "stream",
     "text": [
      "Re download\n",
      "------------------ https://www.buffett-code.com/company/1333/library/be2355e056bf761eaf6b3e/preview\n",
      "4 Q1 https://buffett-code-archives.s3.amazonaws.com/tdnet_archives/1333-20180806-DB8F64663B.pdf\n",
      "None\n",
      "------------------ https://www.buffett-code.com/company/1333/library/c8856fdcb7cabb24c31853/preview\n",
      "7 Q1 https://buffett-code-archives.s3.amazonaws.com/tdnet_archives/1333-20150803-B6861E37E2.pdf\n",
      "None\n",
      "------------------ https://www.buffett-code.com/company/1333/library/2a571aa1fe9f8c9b202d6c/preview\n",
      "4 Q2 https://buffett-code-archives.s3.amazonaws.com/tdnet_archives/1333-20181105-5CE3CB9B08.pdf\n",
      "None\n",
      "------------------ https://www.buffett-code.com/company/1333/library/d67fe41946d1f2aab2d32b/preview\n",
      "7 Q2 https://buffett-code-archives.s3.amazonaws.com/tdnet_archives/1333-20151102-C7E498AA7E.pdf\n",
      "None\n",
      "------------------ https://www.buffett-code.com/company/1333/library/9b2366d972df92ca97a143/preview\n",
      "7 Q3 https://buffett-code-archives.s3.amazonaws.com/tdnet_archives/1333-20160208-657402881C.pdf\n",
      "None\n",
      "------------------ https://www.buffett-code.com/company/1333/library/39479f8bafaa8c721feddf/preview\n",
      "2 Q4 https://buffett-code-archives.s3.amazonaws.com/tdnet_archives/140120210507408047.pdf\n",
      "------------------ https://www.buffett-code.com/company/1333/library/2538cfa2fda3d50faf81f5/preview\n",
      "3 Q4 https://buffett-code-archives.s3.amazonaws.com/tdnet_archives/1333-20200514150000-X3FC15D23D1.pdf\n",
      "------------------ https://www.buffett-code.com/company/1333/library/c62ce7e534cfe20261b05d/preview\n",
      "3 Q4 https://buffett-code-archives.s3.amazonaws.com/tdnet_archives/1333-20200514-03D2AAF904.pdf\n",
      "------------------ https://www.buffett-code.com/company/1333/library/b44ed3f1d4bba2de4a1ddc/preview\n",
      "4 Q4 https://buffett-code-archives.s3.amazonaws.com/tdnet_archives/1333-20190513-2156340627.pdf\n",
      "------------------ https://www.buffett-code.com/company/1333/library/b05a5331ef5082b6f0a92d/preview\n",
      "5 Q4 https://buffett-code-archives.s3.amazonaws.com/tdnet_archives/1333-20180507-C0EF2EC83C.pdf\n",
      "------------------ https://www.buffett-code.com/company/1333/library/0e24dc2c1627cee093f5f9/preview\n",
      "6 Q4 https://buffett-code-archives.s3.amazonaws.com/tdnet_archives/1333-20170508-C415DD25B9.pdf\n",
      "------------------ https://www.buffett-code.com/company/1333/library/b0e8eb9e2ce4c054e85526/preview\n",
      "7 Q4 https://buffett-code-archives.s3.amazonaws.com/tdnet_archives/1333-20160509-842B169B2B.pdf\n",
      "------------------ https://www.buffett-code.com/company/1333/library/7546aedd9b16d39f54afef/preview\n",
      "8 Q4 https://buffett-code-archives.s3.amazonaws.com/tdnet_archives/1333-20150507-3B0AA1E4C5.pdf\n"
     ]
    }
   ],
   "source": [
    "get_vol_buffett(1333)"
   ]
  },
  {
   "cell_type": "code",
   "execution_count": 13,
   "metadata": {},
   "outputs": [
    {
     "name": "stdout",
     "output_type": "stream",
     "text": [
      "Re download\n",
      "------------------ https://www.buffett-code.com/company/1333/library/be2355e056bf761eaf6b3e/preview\n",
      "4 Q1 https://buffett-code-archives.s3.amazonaws.com/tdnet_archives/1333-20180806-DB8F64663B.pdf\n",
      "None\n",
      "------------------ https://www.buffett-code.com/company/1333/library/c8856fdcb7cabb24c31853/preview\n",
      "7 Q1 https://buffett-code-archives.s3.amazonaws.com/tdnet_archives/1333-20150803-B6861E37E2.pdf\n",
      "None\n",
      "------------------ https://www.buffett-code.com/company/1333/library/2a571aa1fe9f8c9b202d6c/preview\n",
      "4 Q2 https://buffett-code-archives.s3.amazonaws.com/tdnet_archives/1333-20181105-5CE3CB9B08.pdf\n",
      "None\n",
      "------------------ https://www.buffett-code.com/company/1333/library/d67fe41946d1f2aab2d32b/preview\n",
      "7 Q2 https://buffett-code-archives.s3.amazonaws.com/tdnet_archives/1333-20151102-C7E498AA7E.pdf\n",
      "------------------ https://www.buffett-code.com/company/1333/library/9b2366d972df92ca97a143/preview\n",
      "7 Q3 https://buffett-code-archives.s3.amazonaws.com/tdnet_archives/1333-20160208-657402881C.pdf\n"
     ]
    }
   ],
   "source": [
    "get_vol_buffett(1333)"
   ]
  }
 ],
 "metadata": {
  "kernelspec": {
   "display_name": "Python 3",
   "language": "python",
   "name": "python3"
  },
  "language_info": {
   "codemirror_mode": {
    "name": "ipython",
    "version": 3
   },
   "file_extension": ".py",
   "mimetype": "text/x-python",
   "name": "python",
   "nbconvert_exporter": "python",
   "pygments_lexer": "ipython3",
   "version": "3.10.0"
  },
  "orig_nbformat": 4
 },
 "nbformat": 4,
 "nbformat_minor": 2
}
