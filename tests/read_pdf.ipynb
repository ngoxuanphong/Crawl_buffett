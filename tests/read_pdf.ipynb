{
 "cells": [
  {
   "cell_type": "code",
   "execution_count": 2,
   "metadata": {},
   "outputs": [
    {
     "name": "stdout",
     "output_type": "stream",
     "text": [
      "a:\\Monthy\\5_2023\\Crawl_buffett\n"
     ]
    }
   ],
   "source": [
    "import tabula, camelot, os, time\n",
    "import pandas as pd\n",
    "import numpy as np\n",
    "import warnings\n",
    "import requests\n",
    "\n",
    "warnings.simplefilter(\"ignore\", UserWarning)\n",
    "%cd .."
   ]
  },
  {
   "attachments": {},
   "cell_type": "markdown",
   "metadata": {},
   "source": [
    "# get table from pdf"
   ]
  },
  {
   "cell_type": "code",
   "execution_count": 3,
   "metadata": {},
   "outputs": [],
   "source": [
    "def convert_table(df):\n",
    "    df.loc[-1] = df.columns\n",
    "    df = df.sort_index()\n",
    "    df.columns = np.arange(len(df.columns))\n",
    "    return df.reset_index(drop=True)\n",
    "\n",
    "def find_row(df, text):\n",
    "    list_id = np.where((df[0].str.find(text) > 0) == True)[0]\n",
    "    if len(list_id) == 0:\n",
    "        return None\n",
    "    else:\n",
    "        return list_id[0] \n",
    "    \n",
    "def get_vol_table_tabula(file_path):\n",
    "    if 'https' in file_path:\n",
    "        tables = tabula.read_pdf(file_path, pages=\"all\", multiple_tables=True, silent=True, stream=True)\n",
    "    else:\n",
    "        tables = tabula.read_pdf(file_path, pages=\"all\", multiple_tables=True, silent=True)\n",
    "    for table in range(len(tables)):\n",
    "        df = pd.DataFrame(tables[table])\n",
    "        df = convert_table(df)\n",
    "        row_id = find_row(df, \"期末発行済株式数(自己株式を含む)\")\n",
    "        if row_id is not None and len(df.columns) < 10 and len(df[0][0]) < 100:\n",
    "            return df\n",
    "    return None\n"
   ]
  },
  {
   "cell_type": "code",
   "execution_count": 4,
   "metadata": {},
   "outputs": [],
   "source": [
    "def cut_vol_table(tables):\n",
    "    for i in range(len(tables)):\n",
    "        df = tables[i].df\n",
    "        df_find_key = df[0].str.find('期末発行済株式数（自己株式を含む）')\n",
    "        for i in df_find_key.index:\n",
    "            if df_find_key[i] >= 0:\n",
    "                id_have_key = i\n",
    "                df = df.iloc[id_have_key:, :].reset_index(drop=True)\n",
    "                return df\n",
    "\n",
    "def convert_table_mix_data(df):\n",
    "    df_add = df[3].str.split(' ', expand=True)\n",
    "    df_add2 = df[4].str.split(' ', expand=True)\n",
    "    for i in df.index:\n",
    "        if df[2][i] == '':\n",
    "            df[2][i] = df_add[0][i]\n",
    "            df[3][i] = df_add[1][i]\n",
    "        if df[5][i] == '':\n",
    "            df[5][i] = df_add2[1][i]\n",
    "            df[4][i] = df_add2[0][i]\n",
    "    return df\n",
    "     \n",
    "def drop_empty_col(df):\n",
    "    for col in df.columns:\n",
    "        if (df[col]=='').all():\n",
    "            df = df.drop(columns=col)\n",
    "    df.columns = np.arange(len(df.columns))\n",
    "    return df\n",
    "\n",
    "def get_vol_table_camelot(file_path):\n",
    "    tables = camelot.read_pdf(file_path, pages=\"all\", multiple_tables=True, flavor=\"stream\", suppress_stdout=True)\n",
    "    df = cut_vol_table(tables)\n",
    "    print(df)\n",
    "    df = convert_table_mix_data(df)\n",
    "    df = drop_empty_col(df)\n",
    "    return df"
   ]
  },
  {
   "cell_type": "code",
   "execution_count": 5,
   "metadata": {},
   "outputs": [],
   "source": [
    "def get_vol_table(file_path):\n",
    "    df = get_vol_table_tabula(file_path)\n",
    "    if df is None:\n",
    "        df = get_vol_table_camelot(file_path)\n",
    "    return df\n"
   ]
  },
  {
   "attachments": {},
   "cell_type": "markdown",
   "metadata": {},
   "source": [
    "# Get pdf"
   ]
  },
  {
   "cell_type": "code",
   "execution_count": 3,
   "metadata": {},
   "outputs": [],
   "source": [
    "import setup\n",
    "import numpy as np\n",
    "from bs4 import BeautifulSoup\n",
    "import pandas as pd\n",
    "import time\n",
    "\n",
    "\n",
    "\n",
    "class FinancailStatement(setup.Setup):\n",
    "    def __init__(self):\n",
    "        super().__init__('Selenium',source=\"VS\")\n",
    "    \n",
    "    def get_data(self, link):\n",
    "        self.driver.get(link)\n",
    "        time.sleep(5)\n",
    "        soup = BeautifulSoup(self.driver.page_source,'html.parser',from_encoding='utf-8')\n",
    "        return soup\n",
    "    \n",
    "    def get_table(self,soup = \"\", id_company = 5486):\n",
    "        print(f\"https://www.buffett-code.com/company/{id_company}/library\")\n",
    "        soup = self.get_data(f\"https://www.buffett-code.com/company/{id_company}/library\")\n",
    "        table = soup.find_all('table')\n",
    "        return table, soup\n",
    "    \n",
    "    def get_pdf_link(self,link_):\n",
    "        self.driver.get(link_)\n",
    "        time.sleep(1)\n",
    "        soup = BeautifulSoup(self.driver.page_source,'html.parser',from_encoding='utf-8')\n",
    "        arr = soup.find_all('a')\n",
    "        for i in arr:\n",
    "            if i[\"href\"].find(\"pdf\") != -1:\n",
    "                return i[\"href\"]\n",
    "        return \"\"\n"
   ]
  },
  {
   "cell_type": "code",
   "execution_count": 4,
   "metadata": {},
   "outputs": [
    {
     "name": "stdout",
     "output_type": "stream",
     "text": [
      "https://www.buffett-code.com/company/5486/library\n"
     ]
    },
    {
     "data": {
      "text/plain": [
       "(<table class=\"custom-table table-bordered table-hover table-condensed quarterly-disclosure-table\"><thead><tr><th class=\"center\">年度</th><th class=\"center\">Q1</th><th class=\"center\">Q2</th><th class=\"center\">Q3</th><th class=\"center\">Q4</th><th class=\"center\">年次</th></tr></thead><tbody><tr><td class=\"center\">2022</td><td class=\"data top\"><ul class=\"disclosure\"><li><a href=\"/company/5486/library/b5610b23f3796a2819638e/preview\" rel=\"noopener\" target=\"_blank\">四半期報 (2022/8/5)</a></li><li><a href=\"/company/5486/library/77a40925850ada08b51fba/preview\" rel=\"noopener\" target=\"_blank\">決算短信 (2022/7/27)</a></li><li><a href=\"#\" onclick=\"alert('ダウンロードするにはログインしてください')\" rel=\"nofollow\">決算説明</a></li></ul></td><td class=\"data top\"><ul class=\"disclosure\"><li><a href=\"/company/5486/library/6a7bbb337397fc0e0f5a75/preview\" rel=\"noopener\" target=\"_blank\">四半期報 (2022/11/9)</a></li><li><a href=\"/company/5486/library/e51e4b171962a49acc6d53/preview\" rel=\"noopener\" target=\"_blank\">決算短信 (2022/10/26)</a></li><li><a href=\"#\" onclick=\"alert('ダウンロードするにはログインしてください')\" rel=\"nofollow\">決算説明</a></li></ul></td><td class=\"data top\"><ul class=\"disclosure\"><li><a href=\"/company/5486/library/08aa252a12229fd1868f12/preview\" rel=\"noopener\" target=\"_blank\">四半期報 (2023/2/9)</a></li></ul></td><td class=\"data center\">-</td><td class=\"data center\">-</td></tr><tr><td class=\"center\">2021</td><td class=\"data top\"><ul class=\"disclosure\"><li><a href=\"/company/5486/library/7438b484203ead4b21cdd6/preview\" rel=\"noopener\" target=\"_blank\">四半期報 (2021/8/6)</a></li><li><a href=\"/company/5486/library/167aaa63b62068cc964897/preview\" rel=\"noopener\" target=\"_blank\">決算短信 (2021/7/28)</a></li><li><a href=\"#\" onclick=\"alert('ダウンロードするにはログインしてください')\" rel=\"nofollow\">決算説明</a></li></ul></td><td class=\"data top\"><ul class=\"disclosure\"><li><a href=\"/company/5486/library/0533354597e37db3903a09/preview\" rel=\"noopener\" target=\"_blank\">四半期報 (2021/11/5)</a></li><li><a href=\"/company/5486/library/d02aa23c1f09e6a40220fe/preview\" rel=\"noopener\" target=\"_blank\">決算短信 (2021/10/26)</a></li><li><a href=\"#\" onclick=\"alert('ダウンロードするにはログインしてください')\" rel=\"nofollow\">決算説明</a></li></ul></td><td class=\"data top\"><ul class=\"disclosure\"><li><a href=\"/company/5486/library/f8cbbbce980c9cf801689e/preview\" rel=\"noopener\" target=\"_blank\">四半期報 (2022/2/9)</a></li><li><a href=\"/company/5486/library/3a0f0a2c4aac5ab2710599/preview\" rel=\"noopener\" target=\"_blank\">決算短信 (2022/1/31)</a></li><li><a href=\"#\" onclick=\"alert('ダウンロードするにはログインしてください')\" rel=\"nofollow\">決算説明</a></li></ul></td><td class=\"data top\"><ul class=\"disclosure\"><li><a href=\"/company/5486/library/39158f4094f6c60e291f87/preview\" rel=\"noopener\" target=\"_blank\">有報 (2022/6/21)</a></li><li><a href=\"/company/5486/library/a1bbf207389297f2b68bce/preview\" rel=\"noopener\" target=\"_blank\">(訂正)有報 (2022/6/28)</a></li><li><a href=\"/company/5486/library/11fbe36d125f919a13c0e2/preview\" rel=\"noopener\" target=\"_blank\">(訂正)有報 (2022/12/13)</a></li><li><a href=\"/company/5486/library/81b71fde1a171b25ebab8a/preview\" rel=\"noopener\" target=\"_blank\">決算短信 (2022/4/26)</a></li><li><a href=\"#\" onclick=\"alert('ダウンロードするにはログインしてください')\" rel=\"nofollow\">決算説明</a></li></ul></td><td class=\"data top\"><a href=\"#\" onclick=\"alert('ダウンロードするにはログインしてください')\" rel=\"nofollow\">統合報告書 (2022/10)</a></td></tr><tr><td class=\"center\">2020</td><td class=\"data top\"><ul class=\"disclosure\"><li><a href=\"/company/5486/library/606afc3b556fce1da91545/preview\" rel=\"noopener\" target=\"_blank\">四半期報 (2020/8/7)</a></li><li><a href=\"/company/5486/library/a138f1a0bf49c9bb27fc52/preview\" rel=\"noopener\" target=\"_blank\">決算短信 (2020/7/28)</a></li><li><a href=\"#\" onclick=\"alert('ダウンロードするにはログインしてください')\" rel=\"nofollow\">決算説明</a></li></ul></td><td class=\"data top\"><ul class=\"disclosure\"><li><a href=\"/company/5486/library/2629634d7c7cc7268cab98/preview\" rel=\"noopener\" target=\"_blank\">四半期報 (2020/11/10)</a></li><li><a href=\"/company/5486/library/d2ea1a560bb18dbe928c3b/preview\" rel=\"noopener\" target=\"_blank\">決算短信 (2020/10/27)</a></li><li><a href=\"#\" onclick=\"alert('ダウンロードするにはログインしてください')\" rel=\"nofollow\">決算説明</a></li></ul></td><td class=\"data top\"><ul class=\"disclosure\"><li><a href=\"/company/5486/library/e6b32017d14a931461ea99/preview\" rel=\"noopener\" target=\"_blank\">四半期報 (2021/2/8)</a></li><li><a href=\"/company/5486/library/d928eb1ddfed0b498129aa/preview\" rel=\"noopener\" target=\"_blank\">決算短信 (2021/1/28)</a></li><li><a href=\"#\" onclick=\"alert('ダウンロードするにはログインしてください')\" rel=\"nofollow\">決算説明</a></li></ul></td><td class=\"data top\"><ul class=\"disclosure\"><li><a href=\"/company/5486/library/32df87ae28644d7d8e38ba/preview\" rel=\"noopener\" target=\"_blank\">有報 (2021/6/18)</a></li><li><a href=\"/company/5486/library/f8f4bc653980203806d89b/preview\" rel=\"noopener\" target=\"_blank\">決算短信 (2021/4/26)</a></li><li><a href=\"#\" onclick=\"alert('ダウンロードするにはログインしてください')\" rel=\"nofollow\">決算説明</a></li></ul></td><td class=\"data top\"><a href=\"#\" onclick=\"alert('ダウンロードするにはログインしてください')\" rel=\"nofollow\">統合報告書 (2021/09)</a></td></tr><tr><td class=\"center\">2019</td><td class=\"data top\"><ul class=\"disclosure\"><li><a href=\"/company/5486/library/c8da5151051d67e642bcd1/preview\" rel=\"noopener\" target=\"_blank\">四半期報 (2019/8/9)</a></li><li><a href=\"/company/5486/library/df88990c7dff896fb74d8f/preview\" rel=\"noopener\" target=\"_blank\">決算短信 (2019/7/26)</a></li><li><a href=\"#\" onclick=\"alert('ダウンロードするにはログインしてください')\" rel=\"nofollow\">決算説明</a></li></ul></td><td class=\"data top\"><ul class=\"disclosure\"><li><a href=\"/company/5486/library/94a459cc394e6cd3c9f705/preview\" rel=\"noopener\" target=\"_blank\">四半期報 (2019/11/8)</a></li><li><a href=\"/company/5486/library/747f550010fb13e031b12b/preview\" rel=\"noopener\" target=\"_blank\">決算短信 (2019/10/29)</a></li><li><a href=\"#\" onclick=\"alert('ダウンロードするにはログインしてください')\" rel=\"nofollow\">決算説明</a></li></ul></td><td class=\"data top\"><ul class=\"disclosure\"><li><a href=\"/company/5486/library/140570f4f0c3a7d31aea24/preview\" rel=\"noopener\" target=\"_blank\">四半期報 (2020/2/7)</a></li><li><a href=\"/company/5486/library/693299b9fe2068286c3caa/preview\" rel=\"noopener\" target=\"_blank\">決算短信 (2020/1/30)</a></li><li><a href=\"#\" onclick=\"alert('ダウンロードするにはログインしてください')\" rel=\"nofollow\">決算説明</a></li></ul></td><td class=\"data top\"><ul class=\"disclosure\"><li><a href=\"/company/5486/library/bb5f0aa449439158aad2df/preview\" rel=\"noopener\" target=\"_blank\">有報 (2020/6/23)</a></li><li><a href=\"/company/5486/library/4e3e5ceaa35acb49d770b6/preview\" rel=\"noopener\" target=\"_blank\">(訂正)有報 (2022/12/13)</a></li><li><a href=\"/company/5486/library/c95ee4aa4b5b6a56366610/preview\" rel=\"noopener\" target=\"_blank\">決算短信 (2020/5/27)</a></li><li><a href=\"/company/5486/library/8b27f9d335f9a580017c4a/preview\" rel=\"noopener\" target=\"_blank\">決算短信 (2020/5/27)</a></li><li><a href=\"#\" onclick=\"alert('ダウンロードするにはログインしてください')\" rel=\"nofollow\">決算説明</a></li></ul></td><td class=\"data top\"><a href=\"#\" onclick=\"alert('ダウンロードするにはログインしてください')\" rel=\"nofollow\">統合報告書 (2020/10)</a></td></tr><tr><td class=\"center\">2018</td><td class=\"data top\"><ul class=\"disclosure\"><li><a href=\"/company/5486/library/bf27dabba6ae6551cf6ccc/preview\" rel=\"noopener\" target=\"_blank\">四半期報 (2018/8/10)</a></li><li><a href=\"/company/5486/library/0a31d6b0ddf2b10c325941/preview\" rel=\"noopener\" target=\"_blank\">決算短信 (2018/7/26)</a></li><li><a href=\"#\" onclick=\"alert('ダウンロードするにはログインしてください')\" rel=\"nofollow\">決算説明</a></li></ul></td><td class=\"data top\"><ul class=\"disclosure\"><li><a href=\"/company/5486/library/a776f37f33f5b3943a6c6d/preview\" rel=\"noopener\" target=\"_blank\">四半期報 (2018/11/9)</a></li><li><a href=\"/company/5486/library/f22ef788240e80641db197/preview\" rel=\"noopener\" target=\"_blank\">決算短信 (2018/10/25)</a></li><li><a href=\"#\" onclick=\"alert('ダウンロードするにはログインしてください')\" rel=\"nofollow\">決算説明</a></li></ul></td><td class=\"data top\"><ul class=\"disclosure\"><li><a href=\"/company/5486/library/b33342924009ec9943c268/preview\" rel=\"noopener\" target=\"_blank\">四半期報 (2019/2/8)</a></li><li><a href=\"/company/5486/library/f9941f9cb7112018e77f46/preview\" rel=\"noopener\" target=\"_blank\">決算短信 (2019/1/31)</a></li><li><a href=\"#\" onclick=\"alert('ダウンロードするにはログインしてください')\" rel=\"nofollow\">決算説明</a></li></ul></td><td class=\"data top\"><ul class=\"disclosure\"><li><a href=\"/company/5486/library/ed0492cf144b66ff215c34/preview\" rel=\"noopener\" target=\"_blank\">有報 (2019/6/25)</a></li><li><a href=\"/company/5486/library/fed974d828b14382bd7de3/preview\" rel=\"noopener\" target=\"_blank\">(訂正)有報 (2022/12/13)</a></li><li><a href=\"/company/5486/library/f19bbefaa22f0f949e4a3e/preview\" rel=\"noopener\" target=\"_blank\">決算短信 (2019/4/25)</a></li><li><a href=\"#\" onclick=\"alert('ダウンロードするにはログインしてください')\" rel=\"nofollow\">決算説明</a></li><li><a href=\"https://finance.logmi.jp/339428\" rel=\"noopener\" target=\"_blank\">文字起し</a></li></ul></td><td class=\"data top\"><a href=\"#\" onclick=\"alert('ダウンロードするにはログインしてください')\" rel=\"nofollow\">統合報告書 (2019/07)</a></td></tr><tr><td class=\"center\">2017</td><td class=\"data top\"><ul class=\"disclosure\"><li><a href=\"/company/5486/library/4b368a3fb88bd766b22612/preview\" rel=\"noopener\" target=\"_blank\">四半期報 (2017/8/10)</a></li><li><a href=\"/company/5486/library/9eeb00088317b99a99f6b4/preview\" rel=\"noopener\" target=\"_blank\">決算短信 (2017/7/27)</a></li><li><a href=\"#\" onclick=\"alert('ダウンロードするにはログインしてください')\" rel=\"nofollow\">決算説明</a></li></ul></td><td class=\"data top\"><ul class=\"disclosure\"><li><a href=\"/company/5486/library/303ca8c42cc01301300e34/preview\" rel=\"noopener\" target=\"_blank\">四半期報 (2017/11/10)</a></li><li><a href=\"/company/5486/library/5010cc4ee22e935b6b06ca/preview\" rel=\"noopener\" target=\"_blank\">決算短信 (2017/10/24)</a></li><li><a href=\"#\" onclick=\"alert('ダウンロードするにはログインしてください')\" rel=\"nofollow\">決算説明</a></li></ul></td><td class=\"data top\"><ul class=\"disclosure\"><li><a href=\"/company/5486/library/9e3aa19aefce89de27c6bd/preview\" rel=\"noopener\" target=\"_blank\">四半期報 (2018/2/9)</a></li><li><a href=\"/company/5486/library/44590e47cfd7b040fc8a35/preview\" rel=\"noopener\" target=\"_blank\">決算短信 (2018/1/29)</a></li><li><a href=\"#\" onclick=\"alert('ダウンロードするにはログインしてください')\" rel=\"nofollow\">決算説明</a></li></ul></td><td class=\"data top\"><ul class=\"disclosure\"><li><a href=\"/company/5486/library/beeeed78989167b0b342b9/preview\" rel=\"noopener\" target=\"_blank\">有報 (2018/6/19)</a></li><li><a href=\"/company/5486/library/07ba8658bf3db97f071bba/preview\" rel=\"noopener\" target=\"_blank\">(訂正)有報 (2022/12/13)</a></li><li><a href=\"/company/5486/library/7feea3a7795c38520300ed/preview\" rel=\"noopener\" target=\"_blank\">決算短信 (2018/4/26)</a></li><li><a href=\"#\" onclick=\"alert('ダウンロードするにはログインしてください')\" rel=\"nofollow\">決算説明</a></li></ul></td><td class=\"data top\"><a href=\"#\" onclick=\"alert('ダウンロードするにはログインしてください')\" rel=\"nofollow\">統合報告書 (2018/07)</a></td></tr><tr><td class=\"center\">2016</td><td class=\"data top\"><ul class=\"disclosure\"><li><a href=\"/company/5486/library/f42eae5b7b9e9d67e42f61/preview\" rel=\"noopener\" target=\"_blank\">四半期報 (2016/8/10)</a></li><li><a href=\"/company/5486/library/0dc92dcfb2cee293d851ab/preview\" rel=\"noopener\" target=\"_blank\">決算短信 (2016/7/28)</a></li><li><a href=\"#\" onclick=\"alert('ダウンロードするにはログインしてください')\" rel=\"nofollow\">決算説明</a></li></ul></td><td class=\"data top\"><ul class=\"disclosure\"><li><a href=\"/company/5486/library/d85a7eff47a17648b67dc6/preview\" rel=\"noopener\" target=\"_blank\">四半期報 (2016/11/10)</a></li><li><a href=\"/company/5486/library/f973739299677d1a718720/preview\" rel=\"noopener\" target=\"_blank\">決算短信 (2016/10/27)</a></li><li><a href=\"#\" onclick=\"alert('ダウンロードするにはログインしてください')\" rel=\"nofollow\">決算説明</a></li></ul></td><td class=\"data top\"><ul class=\"disclosure\"><li><a href=\"/company/5486/library/4401b40c3fae122f7329cc/preview\" rel=\"noopener\" target=\"_blank\">四半期報 (2017/2/10)</a></li><li><a href=\"/company/5486/library/37126149fb51d32cda5bc9/preview\" rel=\"noopener\" target=\"_blank\">決算短信 (2017/1/26)</a></li><li><a href=\"#\" onclick=\"alert('ダウンロードするにはログインしてください')\" rel=\"nofollow\">決算説明</a></li></ul></td><td class=\"data top\"><ul class=\"disclosure\"><li><a href=\"/company/5486/library/6898fdafa09f5381c4e133/preview\" rel=\"noopener\" target=\"_blank\">有報 (2017/6/27)</a></li><li><a href=\"/company/5486/library/dfdd1bf0d33d65a0344164/preview\" rel=\"noopener\" target=\"_blank\">決算短信 (2017/4/28)</a></li><li><a href=\"#\" onclick=\"alert('ダウンロードするにはログインしてください')\" rel=\"nofollow\">決算説明</a></li></ul></td><td class=\"data top\"><a href=\"#\" onclick=\"alert('ダウンロードするにはログインしてください')\" rel=\"nofollow\">統合報告書 (2017/07)</a></td></tr><tr><td class=\"center\">2015</td><td class=\"data top\"><ul class=\"disclosure\"><li><a href=\"/company/5486/library/ef321f439a5b1dabdcd8e0/preview\" rel=\"noopener\" target=\"_blank\">四半期報 (2015/8/11)</a></li><li><a href=\"/company/5486/library/94c64b5dbcc714c911ce60/preview\" rel=\"noopener\" target=\"_blank\">決算短信 (2015/7/28)</a></li><li><a href=\"#\" onclick=\"alert('ダウンロードするにはログインしてください')\" rel=\"nofollow\">決算説明</a></li></ul></td><td class=\"data top\"><ul class=\"disclosure\"><li><a href=\"/company/5486/library/cebda4803ff5f425dc50df/preview\" rel=\"noopener\" target=\"_blank\">四半期報 (2015/11/11)</a></li><li><a href=\"/company/5486/library/ca19ffc81f37103398fbef/preview\" rel=\"noopener\" target=\"_blank\">決算短信 (2015/10/27)</a></li><li><a href=\"#\" onclick=\"alert('ダウンロードするにはログインしてください')\" rel=\"nofollow\">決算説明</a></li></ul></td><td class=\"data top\"><ul class=\"disclosure\"><li><a href=\"/company/5486/library/66387ef441235f84ecec72/preview\" rel=\"noopener\" target=\"_blank\">四半期報 (2016/2/10)</a></li><li><a href=\"/company/5486/library/dcbdafbca009f3f3e9c44f/preview\" rel=\"noopener\" target=\"_blank\">決算短信 (2016/1/28)</a></li><li><a href=\"#\" onclick=\"alert('ダウンロードするにはログインしてください')\" rel=\"nofollow\">決算説明</a></li></ul></td><td class=\"data top\"><ul class=\"disclosure\"><li><a href=\"/company/5486/library/1793be9495ef02e358073d/preview\" rel=\"noopener\" target=\"_blank\">有報 (2016/6/23)</a></li><li><a href=\"/company/5486/library/bb2f9c7559f277508bc49b/preview\" rel=\"noopener\" target=\"_blank\">(訂正)有報 (2017/2/28)</a></li><li><a href=\"/company/5486/library/fe38a98df616afe1548a23/preview\" rel=\"noopener\" target=\"_blank\">決算短信 (2016/4/27)</a></li><li><a href=\"#\" onclick=\"alert('ダウンロードするにはログインしてください')\" rel=\"nofollow\">決算説明</a></li></ul></td><td class=\"data top\"><a href=\"#\" onclick=\"alert('ダウンロードするにはログインしてください')\" rel=\"nofollow\">統合報告書 (2016/08)</a></td></tr><tr><td class=\"center\">2014</td><td class=\"data top\"><ul class=\"disclosure\"><li><a href=\"/company/5486/library/0098353f9fe832ebda1d83/preview\" rel=\"noopener\" target=\"_blank\">四半期報 (2014/8/11)</a></li><li><a href=\"/company/5486/library/58c36af52d75bdc01a4ffb/preview\" rel=\"noopener\" target=\"_blank\">決算短信 (2014/7/29)</a></li><li><a href=\"#\" onclick=\"alert('ダウンロードするにはログインしてください')\" rel=\"nofollow\">決算説明</a></li></ul></td><td class=\"data top\"><ul class=\"disclosure\"><li><a href=\"/company/5486/library/7bdd05f25c521e59506553/preview\" rel=\"noopener\" target=\"_blank\">四半期報 (2014/11/11)</a></li><li><a href=\"/company/5486/library/5d1042cebc2a7569247b80/preview\" rel=\"noopener\" target=\"_blank\">決算短信 (2014/10/27)</a></li><li><a href=\"#\" onclick=\"alert('ダウンロードするにはログインしてください')\" rel=\"nofollow\">決算説明</a></li></ul></td><td class=\"data top\"><ul class=\"disclosure\"><li><a href=\"/company/5486/library/a5529da477950e8ca62ac0/preview\" rel=\"noopener\" target=\"_blank\">四半期報 (2015/2/10)</a></li><li><a href=\"/company/5486/library/121c2e680ccbbf33a992af/preview\" rel=\"noopener\" target=\"_blank\">決算短信 (2015/2/3)</a></li><li><a href=\"#\" onclick=\"alert('ダウンロードするにはログインしてください')\" rel=\"nofollow\">決算説明</a></li></ul></td><td class=\"data top\"><ul class=\"disclosure\"><li><a href=\"/company/5486/library/64696f4ee448d517650438/preview\" rel=\"noopener\" target=\"_blank\">有報 (2015/6/23)</a></li><li><a href=\"/company/5486/library/28fccbd8e4f91f901caa44/preview\" rel=\"noopener\" target=\"_blank\">(訂正)有報 (2015/9/29)</a></li><li><a href=\"/company/5486/library/6e8e299b89421a19185548/preview\" rel=\"noopener\" target=\"_blank\">決算短信 (2015/5/12)</a></li><li><a href=\"/company/5486/library/0ada5cd2c2f35b928d8f5a/preview\" rel=\"noopener\" target=\"_blank\">決算短信 (2015/6/23)</a></li><li><a href=\"#\" onclick=\"alert('ダウンロードするにはログインしてください')\" rel=\"nofollow\">決算説明</a></li></ul></td><td class=\"data top\"><a href=\"#\" onclick=\"alert('ダウンロードするにはログインしてください')\" rel=\"nofollow\">統合報告書 (2015/07)</a></td></tr><tr><td class=\"center\">2013</td><td class=\"data top\"><ul class=\"disclosure\"><li><a href=\"/company/5486/library/b8e83f8305707763c008ef/preview\" rel=\"noopener\" target=\"_blank\">四半期報 (2013/8/9)</a></li><li><a href=\"/company/5486/library/25c8defd1822f901bfa77a/preview\" rel=\"noopener\" target=\"_blank\">決算短信 (2013/7/26)</a></li><li><a href=\"#\" onclick=\"alert('ダウンロードするにはログインしてください')\" rel=\"nofollow\">決算説明</a></li></ul></td><td class=\"data top\"><ul class=\"disclosure\"><li><a href=\"/company/5486/library/d53cc43b91cd9b7624e2dd/preview\" rel=\"noopener\" target=\"_blank\">四半期報 (2013/11/14)</a></li><li><a href=\"/company/5486/library/47c90cd3428df834981410/preview\" rel=\"noopener\" target=\"_blank\">決算短信 (2013/10/28)</a></li><li><a href=\"/company/5486/library/ab5b4c1374df1856e3fcac/preview\" rel=\"noopener\" target=\"_blank\">(訂正)決算短信 (2013/11/14)</a></li><li><a href=\"#\" onclick=\"alert('ダウンロードするにはログインしてください')\" rel=\"nofollow\">決算説明</a></li></ul></td><td class=\"data top\"><ul class=\"disclosure\"><li><a href=\"/company/5486/library/f0c9d3d9496f3352546305/preview\" rel=\"noopener\" target=\"_blank\">四半期報 (2014/2/10)</a></li><li><a href=\"/company/5486/library/421c4fd69161cb4832e0ab/preview\" rel=\"noopener\" target=\"_blank\">決算短信 (2014/1/29)</a></li><li><a href=\"#\" onclick=\"alert('ダウンロードするにはログインしてください')\" rel=\"nofollow\">決算説明</a></li></ul></td><td class=\"data top\"><ul class=\"disclosure\"><li><a href=\"/company/5486/library/44a4d9c03a0a723c2d5aa8/preview\" rel=\"noopener\" target=\"_blank\">有報 (2014/6/25)</a></li><li><a href=\"/company/5486/library/4951a05bc738bc116f46a0/preview\" rel=\"noopener\" target=\"_blank\">決算短信 (2014/4/24)</a></li><li><a href=\"#\" onclick=\"alert('ダウンロードするにはログインしてください')\" rel=\"nofollow\">決算説明</a></li></ul></td><td class=\"data top\"><a href=\"#\" onclick=\"alert('ダウンロードするにはログインしてください')\" rel=\"nofollow\">統合報告書 (2014/08)</a></td></tr><tr><td class=\"center\">2012</td><td class=\"data top\"><ul class=\"disclosure\"><li><a href=\"/company/5486/library/fedc79ba36f08811622738/preview\" rel=\"noopener\" target=\"_blank\">四半期報 (2012/8/10)</a></li><li><a href=\"/company/5486/library/5fead62b96881a23eecfaa/preview\" rel=\"noopener\" target=\"_blank\">決算短信 (2012/7/27)</a></li><li><a href=\"#\" onclick=\"alert('ダウンロードするにはログインしてください')\" rel=\"nofollow\">決算説明</a></li></ul></td><td class=\"data top\"><ul class=\"disclosure\"><li><a href=\"/company/5486/library/9eda066576f06b5a445eff/preview\" rel=\"noopener\" target=\"_blank\">四半期報 (2012/11/9)</a></li><li><a href=\"/company/5486/library/e69fc0b3c88c2797d7c755/preview\" rel=\"noopener\" target=\"_blank\">決算短信 (2012/10/25)</a></li><li><a href=\"#\" onclick=\"alert('ダウンロードするにはログインしてください')\" rel=\"nofollow\">決算説明</a></li></ul></td><td class=\"data top\"><ul class=\"disclosure\"><li><a href=\"/company/5486/library/e8ef8ca03c70c7d57c2631/preview\" rel=\"noopener\" target=\"_blank\">四半期報 (2013/2/8)</a></li><li><a href=\"/company/5486/library/df3ef340c3b11d4629e304/preview\" rel=\"noopener\" target=\"_blank\">決算短信 (2013/1/30)</a></li><li><a href=\"#\" onclick=\"alert('ダウンロードするにはログインしてください')\" rel=\"nofollow\">決算説明</a></li></ul></td><td class=\"data top\"><ul class=\"disclosure\"><li><a href=\"/company/5486/library/6cd0310796503a7a14bf62/preview\" rel=\"noopener\" target=\"_blank\">有報 (2013/6/25)</a></li><li><a href=\"/company/5486/library/615aa3ae9c5e9dae476298/preview\" rel=\"noopener\" target=\"_blank\">決算短信 (2013/4/25)</a></li><li><a href=\"#\" onclick=\"alert('ダウンロードするにはログインしてください')\" rel=\"nofollow\">決算説明</a></li></ul></td><td class=\"data center\">-</td></tr><tr><td class=\"center\">2011</td><td class=\"data top\"><ul class=\"disclosure\"><li><a href=\"/company/5486/library/533c183a445b7f35f17d7b/preview\" rel=\"noopener\" target=\"_blank\">四半期報 (2011/8/11)</a></li><li><a href=\"/company/5486/library/6ad2a9a91880efaf073cd4/preview\" rel=\"noopener\" target=\"_blank\">決算短信 (2011/7/28)</a></li><li><a href=\"#\" onclick=\"alert('ダウンロードするにはログインしてください')\" rel=\"nofollow\">決算説明</a></li></ul></td><td class=\"data top\"><ul class=\"disclosure\"><li><a href=\"/company/5486/library/ec948218c91825d5534b80/preview\" rel=\"noopener\" target=\"_blank\">四半期報 (2011/11/11)</a></li><li><a href=\"/company/5486/library/b1d5af113f74295bd706c2/preview\" rel=\"noopener\" target=\"_blank\">決算短信 (2011/10/27)</a></li><li><a href=\"#\" onclick=\"alert('ダウンロードするにはログインしてください')\" rel=\"nofollow\">決算説明</a></li></ul></td><td class=\"data top\"><ul class=\"disclosure\"><li><a href=\"/company/5486/library/49b80caf357aa6b40a845c/preview\" rel=\"noopener\" target=\"_blank\">四半期報 (2012/2/10)</a></li><li><a href=\"/company/5486/library/9e099a539be02eca2cfea4/preview\" rel=\"noopener\" target=\"_blank\">決算短信 (2012/1/31)</a></li><li><a href=\"#\" onclick=\"alert('ダウンロードするにはログインしてください')\" rel=\"nofollow\">決算説明</a></li></ul></td><td class=\"data top\"><ul class=\"disclosure\"><li><a href=\"/company/5486/library/b20c0101c6054630da656f/preview\" rel=\"noopener\" target=\"_blank\">有報 (2012/6/20)</a></li><li><a href=\"/company/5486/library/671f4732c4f0a024a4ee74/preview\" rel=\"noopener\" target=\"_blank\">決算短信 (2012/4/25)</a></li><li><a href=\"#\" onclick=\"alert('ダウンロードするにはログインしてください')\" rel=\"nofollow\">決算説明</a></li></ul></td><td class=\"data center\">-</td></tr><tr><td class=\"center\">2010</td><td class=\"data top\"><ul class=\"disclosure\"><li><a href=\"/company/5486/library/27afcf3d8889493a5c8ea6/preview\" rel=\"noopener\" target=\"_blank\">四半期報 (2010/8/10)</a></li><li><a href=\"/company/5486/library/3b73e85ec39f3375494fd8/preview\" rel=\"noopener\" target=\"_blank\">決算短信 (2010/7/27)</a></li></ul></td><td class=\"data top\"><ul class=\"disclosure\"><li><a href=\"/company/5486/library/fadafb3ac637315b1939e4/preview\" rel=\"noopener\" target=\"_blank\">四半期報 (2010/11/11)</a></li><li><a href=\"/company/5486/library/412c858a49140d3b9f93c3/preview\" rel=\"noopener\" target=\"_blank\">決算短信 (2010/10/26)</a></li></ul></td><td class=\"data top\"><ul class=\"disclosure\"><li><a href=\"/company/5486/library/76b81ecaf64e823b64ab1a/preview\" rel=\"noopener\" target=\"_blank\">四半期報 (2011/2/7)</a></li><li><a href=\"/company/5486/library/cb156cf9c343e35ef2c04a/preview\" rel=\"noopener\" target=\"_blank\">決算短信 (2011/2/2)</a></li></ul></td><td class=\"data top\"><ul class=\"disclosure\"><li><a href=\"/company/5486/library/a99bcde160c127894c54f4/preview\" rel=\"noopener\" target=\"_blank\">有報 (2011/6/22)</a></li><li><a href=\"/company/5486/library/b2933e09fdb813f84304c2/preview\" rel=\"noopener\" target=\"_blank\">決算短信 (2011/4/26)</a></li></ul></td><td class=\"data center\">-</td></tr><tr><td class=\"center\">2009</td><td class=\"data top\"><ul class=\"disclosure\"><li><a href=\"/company/5486/library/663e8095c4c3b8c654ef64/preview\" rel=\"noopener\" target=\"_blank\">四半期報 (2009/8/11)</a></li><li><a href=\"/company/5486/library/b63d5f91b8fda0df0679b7/preview\" rel=\"noopener\" target=\"_blank\">決算短信 (2009/7/27)</a></li></ul></td><td class=\"data top\"><ul class=\"disclosure\"><li><a href=\"/company/5486/library/fb12a733da2fc8f7a09c70/preview\" rel=\"noopener\" target=\"_blank\">四半期報 (2009/11/11)</a></li><li><a href=\"/company/5486/library/c09ebe3b052987b0ac1ed7/preview\" rel=\"noopener\" target=\"_blank\">決算短信 (2009/10/27)</a></li></ul></td><td class=\"data top\"><ul class=\"disclosure\"><li><a href=\"/company/5486/library/e8e0f768d4274f3bdaca33/preview\" rel=\"noopener\" target=\"_blank\">四半期報 (2010/2/10)</a></li><li><a href=\"/company/5486/library/3ba20c7683db2053a25920/preview\" rel=\"noopener\" target=\"_blank\">決算短信 (2010/2/2)</a></li></ul></td><td class=\"data top\"><ul class=\"disclosure\"><li><a href=\"/company/5486/library/43235ae463481f472fd3b5/preview\" rel=\"noopener\" target=\"_blank\">有報 (2010/6/18)</a></li><li><a href=\"/company/5486/library/7e64ce1428f1ae20a25b34/preview\" rel=\"noopener\" target=\"_blank\">決算短信 (2010/4/27)</a></li></ul></td><td class=\"data center\">-</td></tr><tr><td class=\"center\">2008</td><td class=\"data top\"><ul class=\"disclosure\"><li><a href=\"/company/5486/library/bf5d6051fd8d96d1ae24ff/preview\" rel=\"noopener\" target=\"_blank\">四半期報 (2008/8/11)</a></li><li><a href=\"/company/5486/library/1cbf1c25f2032f35f781bb/preview\" rel=\"noopener\" target=\"_blank\">決算短信 (2008/7/30)</a></li></ul></td><td class=\"data top\"><ul class=\"disclosure\"><li><a href=\"/company/5486/library/4cce512a4f5b7102f32f76/preview\" rel=\"noopener\" target=\"_blank\">四半期報 (2008/11/11)</a></li><li><a href=\"/company/5486/library/7ac43d4dc03b678eb5040d/preview\" rel=\"noopener\" target=\"_blank\">決算短信 (2008/10/28)</a></li><li><a href=\"/company/5486/library/bcc460b5cb94c77909c80e/preview\" rel=\"noopener\" target=\"_blank\">(訂正)決算短信 (2008/10/28)</a></li></ul></td><td class=\"data top\"><ul class=\"disclosure\"><li><a href=\"/company/5486/library/c132c4ebf2769886491945/preview\" rel=\"noopener\" target=\"_blank\">四半期報 (2009/2/10)</a></li><li><a href=\"/company/5486/library/1f8c44adae5b5d7f66187f/preview\" rel=\"noopener\" target=\"_blank\">決算短信 (2009/2/2)</a></li></ul></td><td class=\"data top\"><ul class=\"disclosure\"><li><a href=\"/company/5486/library/04563bf0a1d6d5b2df12bf/preview\" rel=\"noopener\" target=\"_blank\">有報 (2009/6/18)</a></li><li><a href=\"/company/5486/library/e82a80f6872bda70b15fb0/preview\" rel=\"noopener\" target=\"_blank\">決算短信 (2009/4/30)</a></li></ul></td><td class=\"data center\">-</td></tr></tbody></table>,\n",
       " <table class=\"custom-table table-bordered table-hover table-condensed tdnet-disclosure-list__container\"><thead><tr><th class=\"center\">日時</th><th class=\"center\">表題</th><th class=\"center nowrap\">XBRL</th></tr></thead><tbody><tr><td>2022/12/28 15:00</td><td class=\"tdnet-disclosure-list__title\"><a href=\"/disclosures/529bdc710de7476cc7c5d5/preview\" rel=\"noopener\" target=\"_blank\">当社株式の上場廃止に関するお知らせ</a></td><td class=\"center tdnet-disclosure-list__download\"></td></tr><tr><td>2022/12/12 15:00</td><td class=\"tdnet-disclosure-list__title\"><a href=\"/disclosures/f567437542d6542493e62b/preview\" rel=\"noopener\" target=\"_blank\">監査役会設置会社への移行および移行に伴う役員人事(代表者の異動を含む)について</a></td><td class=\"center tdnet-disclosure-list__download\"></td></tr><tr><td>2022/12/09 15:00</td><td class=\"tdnet-disclosure-list__title\"><a href=\"/disclosures/afccd529f5c5f736d4bfa2/preview\" rel=\"noopener\" target=\"_blank\">株式併合並びに単元株式数の定めの廃止及び定款の一部変更の承認決議に関するお知らせ</a></td><td class=\"center tdnet-disclosure-list__download\"></td></tr><tr><td>2022/11/30 15:00</td><td class=\"tdnet-disclosure-list__title\"><a href=\"/disclosures/c650c7c1ac47a6f361bb26/preview\" rel=\"noopener\" target=\"_blank\">(変更)「自己株式の消却に関するお知らせ」の一部変更について</a></td><td class=\"center tdnet-disclosure-list__download\"></td></tr><tr><td>2022/11/21 15:00</td><td class=\"tdnet-disclosure-list__title\"><a href=\"/disclosures/17a8bf95077961593ef6b2/preview\" rel=\"noopener\" target=\"_blank\">第三者割当による種類株式の発行、定款の一部変更、並びに資本金、資本準備金及び利益準備金の額の減少に関するお知らせ</a></td><td class=\"center tdnet-disclosure-list__download\"></td></tr><tr><td>2022/11/21 15:00</td><td class=\"tdnet-disclosure-list__title\"><a href=\"/disclosures/2e2f941ed50b53f7bacaa8/preview\" rel=\"noopener\" target=\"_blank\">自己株式の消却に関するお知らせ</a></td><td class=\"center tdnet-disclosure-list__download\"></td></tr><tr><td>2022/11/21 15:00</td><td class=\"tdnet-disclosure-list__title\"><a href=\"/disclosures/500875d443212be32613cc/preview\" rel=\"noopener\" target=\"_blank\">株式併合並びに単元株式数の定めの廃止及び定款の一部変更に関する臨時株主総会開催のお知らせ</a></td><td class=\"center tdnet-disclosure-list__download\"></td></tr><tr><td>2022/10/26 19:00</td><td class=\"tdnet-disclosure-list__title\"><a href=\"/disclosures/e51e4b171962a49acc6d53/preview\" rel=\"noopener\" target=\"_blank\">2023年3月期 第2四半期決算短信〔IFRS〕(連結)</a></td><td class=\"center tdnet-disclosure-list__download\"><a class=\"glyphicon glyphicon-download-alt\" href=\"https://buffett-code-archives.s3.amazonaws.com/tdnet_archives/081220221026549839.zip\" rel=\"noopener nofollow\" target=\"_blank\"></a></td></tr><tr><td>2022/10/26 15:00</td><td class=\"tdnet-disclosure-list__title\"><a href=\"/disclosures/a667d49dc6d01ab9881ab9/preview\" rel=\"noopener\" target=\"_blank\">株式会社BCJ-52による当社株式に対する公開買付けの結果並びに主要株主及びその他の関係会社の異動に関するお知らせ</a></td><td class=\"center tdnet-disclosure-list__download\"></td></tr><tr><td>2022/10/13 15:00</td><td class=\"tdnet-disclosure-list__title\"><a href=\"/disclosures/06c6c3695b9be9f0a4345d/preview\" rel=\"noopener\" target=\"_blank\">臨時株主総会招集のための基準日設定に関するお知らせ</a></td><td class=\"center tdnet-disclosure-list__download\"></td></tr><tr><td>2022/09/26 16:00</td><td class=\"tdnet-disclosure-list__title\"><a href=\"/disclosures/6fc7f893270046eb4864b9/preview\" rel=\"noopener\" target=\"_blank\">商号の変更に関するお知らせ</a></td><td class=\"center tdnet-disclosure-list__download\"></td></tr><tr><td>2022/09/26 16:00</td><td class=\"tdnet-disclosure-list__title\"><a href=\"/disclosures/c9303c271e400133f201d6/preview\" rel=\"noopener\" target=\"_blank\">株式会社BCJ-52による当社株式に対する公開買付けに関する賛同の意見表明及び応募推奨に関するお知らせ</a></td><td class=\"center tdnet-disclosure-list__download\"></td></tr><tr><td>2022/09/26 16:00</td><td class=\"tdnet-disclosure-list__title\"><a href=\"/disclosures/45411950bb35bc13e1ac51/preview\" rel=\"noopener\" target=\"_blank\">株式会社BCJ-52による日立金属株式会社普通株式(証券コード5486)に対する公開買付けに関するお知らせ</a></td><td class=\"center tdnet-disclosure-list__download\"></td></tr><tr><td>2022/07/27 15:00</td><td class=\"tdnet-disclosure-list__title\"><a href=\"/disclosures/77a40925850ada08b51fba/preview\" rel=\"noopener\" target=\"_blank\">2023年3月期 第1四半期決算短信〔IFRS〕(連結)</a></td><td class=\"center tdnet-disclosure-list__download\"><a class=\"glyphicon glyphicon-download-alt\" href=\"https://buffett-code-archives.s3.amazonaws.com/tdnet_archives/081220220726505072.zip\" rel=\"noopener nofollow\" target=\"_blank\"></a></td></tr><tr><td>2022/06/28 15:00</td><td class=\"tdnet-disclosure-list__title\"><a href=\"/disclosures/6a743fa146a7ab6d7fed35/preview\" rel=\"noopener\" target=\"_blank\">支配株主等に関する事項について</a></td><td class=\"center tdnet-disclosure-list__download\"></td></tr><tr><td>2022/04/26 15:00</td><td class=\"tdnet-disclosure-list__title\"><a href=\"/disclosures/d5d5e684e76075480a4c6f/preview\" rel=\"noopener\" target=\"_blank\">繰延延税金資産の取り崩し、連結業績と連結業績予想および前期実績値との差異、並びに個別業績と前期実績値との差異に関するお知らせ</a></td><td class=\"center tdnet-disclosure-list__download\"></td></tr><tr><td>2022/04/26 15:00</td><td class=\"tdnet-disclosure-list__title\"><a href=\"/disclosures/81b71fde1a171b25ebab8a/preview\" rel=\"noopener\" target=\"_blank\">2022年3月期 決算短信〔IFRS〕(連結)</a></td><td class=\"center tdnet-disclosure-list__download\"><a class=\"glyphicon glyphicon-download-alt\" href=\"https://buffett-code-archives.s3.amazonaws.com/tdnet_archives/081220220426527620.zip\" rel=\"noopener nofollow\" target=\"_blank\"></a></td></tr><tr><td>2022/03/03 15:00</td><td class=\"tdnet-disclosure-list__title\"><a href=\"/disclosures/722bc4de25d071c8d7ee7f/preview\" rel=\"noopener\" target=\"_blank\">代表執行役および執行役の異動に関するお知らせ</a></td><td class=\"center tdnet-disclosure-list__download\"></td></tr><tr><td>2022/01/31 15:00</td><td class=\"tdnet-disclosure-list__title\"><a href=\"/disclosures/3a0f0a2c4aac5ab2710599/preview\" rel=\"noopener\" target=\"_blank\">2022年3月期 第3四半期決算短信〔IFRS〕(連結)</a></td><td class=\"center tdnet-disclosure-list__download\"><a class=\"glyphicon glyphicon-download-alt\" href=\"https://buffett-code-archives.s3.amazonaws.com/tdnet_archives/081220220131575670.zip\" rel=\"noopener nofollow\" target=\"_blank\"></a></td></tr><tr><td>2021/11/30 15:00</td><td class=\"tdnet-disclosure-list__title\"><a href=\"/disclosures/fbf86fa0f57dc804d380d3/preview\" rel=\"noopener\" target=\"_blank\">株式会社BCJ-52による当社株式(証券コード5486)に対する公開買付け実施に向けた進捗状況のお知らせ</a></td><td class=\"center tdnet-disclosure-list__download\"></td></tr><tr><td>2021/11/10 15:00</td><td class=\"tdnet-disclosure-list__title\"><a href=\"/disclosures/da3aa952e27df4a61e1f22/preview\" rel=\"noopener\" target=\"_blank\">特定子会社の異動に関するお知らせ</a></td><td class=\"center tdnet-disclosure-list__download\"></td></tr><tr><td>2021/10/26 15:00</td><td class=\"tdnet-disclosure-list__title\"><a href=\"/disclosures/742a63d81623eb8c8e543b/preview\" rel=\"noopener\" target=\"_blank\">当社製品における不適切な検査等に関する継続調査結果等について</a></td><td class=\"center tdnet-disclosure-list__download\"></td></tr><tr><td>2021/10/26 15:00</td><td class=\"tdnet-disclosure-list__title\"><a href=\"/disclosures/d02aa23c1f09e6a40220fe/preview\" rel=\"noopener\" target=\"_blank\">2022年3月期 第2四半期決算短信〔IFRS〕(連結)</a></td><td class=\"center tdnet-disclosure-list__download\"><a class=\"glyphicon glyphicon-download-alt\" href=\"https://buffett-code-archives.s3.amazonaws.com/tdnet_archives/081220211026416564.zip\" rel=\"noopener nofollow\" target=\"_blank\"></a></td></tr><tr><td>2021/07/28 15:00</td><td class=\"tdnet-disclosure-list__title\"><a href=\"/disclosures/167aaa63b62068cc964897/preview\" rel=\"noopener\" target=\"_blank\">2022年3月期 第1四半期決算短信〔IFRS〕(連結)</a></td><td class=\"center tdnet-disclosure-list__download\"><a class=\"glyphicon glyphicon-download-alt\" href=\"https://buffett-code-archives.s3.amazonaws.com/tdnet_archives/081220210727472282.zip\" rel=\"noopener nofollow\" target=\"_blank\"></a></td></tr><tr><td>2021/06/25 15:00</td><td class=\"tdnet-disclosure-list__title\"><a href=\"/disclosures/b5299fdcaf9583b37f188e/preview\" rel=\"noopener\" target=\"_blank\">支配株主等に関する事項について</a></td><td class=\"center tdnet-disclosure-list__download\"></td></tr><tr><td>2021/05/27 19:00</td><td class=\"tdnet-disclosure-list__title\"><a href=\"/disclosures/823c9cc93e833bfda73b9e/preview\" rel=\"noopener\" target=\"_blank\">(訂正)「国内営業体制の再編に関するお知らせ(完全子会社の事業部門を 承継させる会社分割(簡易吸収分割))」の一部訂正について</a></td><td class=\"center tdnet-disclosure-list__download\"></td></tr><tr><td>2021/05/26 15:00</td><td class=\"tdnet-disclosure-list__title\"><a href=\"/disclosures/2b8f68220147e180288389/preview\" rel=\"noopener\" target=\"_blank\">国内営業体制の再編に関するお知らせ (完全子会社の事業部門を承継させる会社分割(簡易吸収分割))</a></td><td class=\"center tdnet-disclosure-list__download\"></td></tr><tr><td>2021/04/28 15:00</td><td class=\"tdnet-disclosure-list__title\"><a href=\"/disclosures/d101439d123f08c667df24/preview\" rel=\"noopener\" target=\"_blank\">剰余金の配当(無配)に関するお知らせ</a></td><td class=\"center tdnet-disclosure-list__download\"></td></tr><tr><td>2021/04/28 15:00</td><td class=\"tdnet-disclosure-list__title\"><a href=\"/disclosures/ff27e97408b5ff9c3f706e/preview\" rel=\"noopener\" target=\"_blank\">株式会社BCJ-52による当社株式に対する公開買付けの開始予定に係る賛同の意見表明及び応募推奨に関するお知らせ</a></td><td class=\"center tdnet-disclosure-list__download\"></td></tr><tr><td>2021/04/26 15:00</td><td class=\"tdnet-disclosure-list__title\"><a href=\"/disclosures/f8f4bc653980203806d89b/preview\" rel=\"noopener\" target=\"_blank\">2021年3月期  決算短信〔IFRS〕(連結)</a></td><td class=\"center tdnet-disclosure-list__download\"><a class=\"glyphicon glyphicon-download-alt\" href=\"https://buffett-code-archives.s3.amazonaws.com/tdnet_archives/081220210425499539.zip\" rel=\"noopener nofollow\" target=\"_blank\"></a></td></tr><tr><td>2021/04/26 15:00</td><td class=\"tdnet-disclosure-list__title\"><a href=\"/disclosures/7440bcb1f7eb858b56b815/preview\" rel=\"noopener\" target=\"_blank\">連結業績予想と実績値の差異および個別業績の前期実績値との差異に関するお知らせ</a></td><td class=\"center tdnet-disclosure-list__download\"></td></tr><tr><td>2021/04/26 15:00</td><td class=\"tdnet-disclosure-list__title\"><a href=\"/disclosures/b6429d6d4e46a6b52c4231/preview\" rel=\"noopener\" target=\"_blank\">配当予想の修正に関するお知らせ</a></td><td class=\"center tdnet-disclosure-list__download\"></td></tr><tr><td>2021/02/26 14:00</td><td class=\"tdnet-disclosure-list__title\"><a href=\"/disclosures/3311f6bd595df485c07a19/preview\" rel=\"noopener\" target=\"_blank\">(訂正)「耐熱鋳造部品事業およびセラミックスフィルター事業の構造改革に関するお知らせ」の一部訂正について</a></td><td class=\"center tdnet-disclosure-list__download\"></td></tr><tr><td>2021/01/28 15:00</td><td class=\"tdnet-disclosure-list__title\"><a href=\"/disclosures/39be3d0cfaed5239393c51/preview\" rel=\"noopener\" target=\"_blank\">当社製品における不適切な検査等に関する調査報告及び再発防止策並びに役員の処分について</a></td><td class=\"center tdnet-disclosure-list__download\"></td></tr><tr><td>2021/01/28 15:00</td><td class=\"tdnet-disclosure-list__title\"><a href=\"/disclosures/d718cc194332b4ce5711a2/preview\" rel=\"noopener\" target=\"_blank\">執行役の異動に関するお知らせ</a></td><td class=\"center tdnet-disclosure-list__download\"></td></tr><tr><td>2021/01/28 15:00</td><td class=\"tdnet-disclosure-list__title\"><a href=\"/disclosures/d928eb1ddfed0b498129aa/preview\" rel=\"noopener\" target=\"_blank\">2021年3月期 第3四半期決算短信〔IFRS〕(連結)</a></td><td class=\"center tdnet-disclosure-list__download\"><a class=\"glyphicon glyphicon-download-alt\" href=\"https://buffett-code-archives.s3.amazonaws.com/tdnet_archives/081220210128450242.zip\" rel=\"noopener nofollow\" target=\"_blank\"></a></td></tr><tr><td>2021/01/28 15:00</td><td class=\"tdnet-disclosure-list__title\"><a href=\"/disclosures/84b4b2b7c279dc3dabefe4/preview\" rel=\"noopener\" target=\"_blank\">耐熱鋳造部品事業およびセラミックスフィルター事業の構造改革に関するお知らせ(完全子会社に事業部門を承継させる会社分割(簡易吸収分割))</a></td><td class=\"center tdnet-disclosure-list__download\"></td></tr><tr><td>2020/10/27 15:00</td><td class=\"tdnet-disclosure-list__title\"><a href=\"/disclosures/c86984c93646d31a2af11c/preview\" rel=\"noopener\" target=\"_blank\">減損損失の計上、通期連結業績予想の修正および剰余金の配当に関するお知らせ</a></td><td class=\"center tdnet-disclosure-list__download\"></td></tr><tr><td>2020/10/27 15:00</td><td class=\"tdnet-disclosure-list__title\"><a href=\"/disclosures/d2ea1a560bb18dbe928c3b/preview\" rel=\"noopener\" target=\"_blank\">2021年3月期 第2四半期決算短信〔IFRS〕(連結)</a></td><td class=\"center tdnet-disclosure-list__download\"><a class=\"glyphicon glyphicon-download-alt\" href=\"https://buffett-code-archives.s3.amazonaws.com/tdnet_archives/081220201026408931.zip\" rel=\"noopener nofollow\" target=\"_blank\"></a></td></tr><tr><td>2020/07/28 17:00</td><td class=\"tdnet-disclosure-list__title\"><a href=\"/disclosures/a138f1a0bf49c9bb27fc52/preview\" rel=\"noopener\" target=\"_blank\">2021年3月期 第1四半期決算短信〔IFRS〕(連結)</a></td><td class=\"center tdnet-disclosure-list__download\"><a class=\"glyphicon glyphicon-download-alt\" href=\"https://buffett-code-archives.s3.amazonaws.com/tdnet_archives/081220200727467438.zip\" rel=\"noopener nofollow\" target=\"_blank\"></a></td></tr></tbody></table>)"
      ]
     },
     "execution_count": 4,
     "metadata": {},
     "output_type": "execute_result"
    }
   ],
   "source": [
    "F = FinancailStatement()\n",
    "table, soup = F.get_table(id_company=5486)\n",
    "table, soup"
   ]
  },
  {
   "cell_type": "code",
   "execution_count": 5,
   "metadata": {},
   "outputs": [
    {
     "name": "stdout",
     "output_type": "stream",
     "text": [
      "<table class=\"custom-table table-bordered table-hover table-condensed tdnet-disclosure-list__container\"><thead><tr><th class=\"center\">日時</th><th class=\"center\">表題</th><th class=\"center nowrap\">XBRL</th></tr></thead><tbody><tr><td>2022/12/28 15:00</td><td class=\"tdnet-disclosure-list__title\"><a href=\"/disclosures/529bdc710de7476cc7c5d5/preview\" rel=\"noopener\" target=\"_blank\">当社株式の上場廃止に関するお知らせ</a></td><td class=\"center tdnet-disclosure-list__download\"></td></tr><tr><td>2022/12/12 15:00</td><td class=\"tdnet-disclosure-list__title\"><a href=\"/disclosures/f567437542d6542493e62b/preview\" rel=\"noopener\" target=\"_blank\">監査役会設置会社への移行および移行に伴う役員人事(代表者の異動を含む)について</a></td><td class=\"center tdnet-disclosure-list__download\"></td></tr><tr><td>2022/12/09 15:00</td><td class=\"tdnet-disclosure-list__title\"><a href=\"/disclosures/afccd529f5c5f736d4bfa2/preview\" rel=\"noopener\" target=\"_blank\">株式併合並びに単元株式数の定めの廃止及び定款の一部変更の承認決議に関するお知らせ</a></td><td class=\"center tdnet-disclosure-list__download\"></td></tr><tr><td>2022/11/30 15:00</td><td class=\"tdnet-disclosure-list__title\"><a href=\"/disclosures/c650c7c1ac47a6f361bb26/preview\" rel=\"noopener\" target=\"_blank\">(変更)「自己株式の消却に関するお知らせ」の一部変更について</a></td><td class=\"center tdnet-disclosure-list__download\"></td></tr><tr><td>2022/11/21 15:00</td><td class=\"tdnet-disclosure-list__title\"><a href=\"/disclosures/17a8bf95077961593ef6b2/preview\" rel=\"noopener\" target=\"_blank\">第三者割当による種類株式の発行、定款の一部変更、並びに資本金、資本準備金及び利益準備金の額の減少に関するお知らせ</a></td><td class=\"center tdnet-disclosure-list__download\"></td></tr><tr><td>2022/11/21 15:00</td><td class=\"tdnet-disclosure-list__title\"><a href=\"/disclosures/2e2f941ed50b53f7bacaa8/preview\" rel=\"noopener\" target=\"_blank\">自己株式の消却に関するお知らせ</a></td><td class=\"center tdnet-disclosure-list__download\"></td></tr><tr><td>2022/11/21 15:00</td><td class=\"tdnet-disclosure-list__title\"><a href=\"/disclosures/500875d443212be32613cc/preview\" rel=\"noopener\" target=\"_blank\">株式併合並びに単元株式数の定めの廃止及び定款の一部変更に関する臨時株主総会開催のお知らせ</a></td><td class=\"center tdnet-disclosure-list__download\"></td></tr><tr><td>2022/10/26 19:00</td><td class=\"tdnet-disclosure-list__title\"><a href=\"/disclosures/e51e4b171962a49acc6d53/preview\" rel=\"noopener\" target=\"_blank\">2023年3月期 第2四半期決算短信〔IFRS〕(連結)</a></td><td class=\"center tdnet-disclosure-list__download\"><a class=\"glyphicon glyphicon-download-alt\" href=\"https://buffett-code-archives.s3.amazonaws.com/tdnet_archives/081220221026549839.zip\" rel=\"noopener nofollow\" target=\"_blank\"></a></td></tr><tr><td>2022/10/26 15:00</td><td class=\"tdnet-disclosure-list__title\"><a href=\"/disclosures/a667d49dc6d01ab9881ab9/preview\" rel=\"noopener\" target=\"_blank\">株式会社BCJ-52による当社株式に対する公開買付けの結果並びに主要株主及びその他の関係会社の異動に関するお知らせ</a></td><td class=\"center tdnet-disclosure-list__download\"></td></tr><tr><td>2022/10/13 15:00</td><td class=\"tdnet-disclosure-list__title\"><a href=\"/disclosures/06c6c3695b9be9f0a4345d/preview\" rel=\"noopener\" target=\"_blank\">臨時株主総会招集のための基準日設定に関するお知らせ</a></td><td class=\"center tdnet-disclosure-list__download\"></td></tr><tr><td>2022/09/26 16:00</td><td class=\"tdnet-disclosure-list__title\"><a href=\"/disclosures/6fc7f893270046eb4864b9/preview\" rel=\"noopener\" target=\"_blank\">商号の変更に関するお知らせ</a></td><td class=\"center tdnet-disclosure-list__download\"></td></tr><tr><td>2022/09/26 16:00</td><td class=\"tdnet-disclosure-list__title\"><a href=\"/disclosures/c9303c271e400133f201d6/preview\" rel=\"noopener\" target=\"_blank\">株式会社BCJ-52による当社株式に対する公開買付けに関する賛同の意見表明及び応募推奨に関するお知らせ</a></td><td class=\"center tdnet-disclosure-list__download\"></td></tr><tr><td>2022/09/26 16:00</td><td class=\"tdnet-disclosure-list__title\"><a href=\"/disclosures/45411950bb35bc13e1ac51/preview\" rel=\"noopener\" target=\"_blank\">株式会社BCJ-52による日立金属株式会社普通株式(証券コード5486)に対する公開買付けに関するお知らせ</a></td><td class=\"center tdnet-disclosure-list__download\"></td></tr><tr><td>2022/07/27 15:00</td><td class=\"tdnet-disclosure-list__title\"><a href=\"/disclosures/77a40925850ada08b51fba/preview\" rel=\"noopener\" target=\"_blank\">2023年3月期 第1四半期決算短信〔IFRS〕(連結)</a></td><td class=\"center tdnet-disclosure-list__download\"><a class=\"glyphicon glyphicon-download-alt\" href=\"https://buffett-code-archives.s3.amazonaws.com/tdnet_archives/081220220726505072.zip\" rel=\"noopener nofollow\" target=\"_blank\"></a></td></tr><tr><td>2022/06/28 15:00</td><td class=\"tdnet-disclosure-list__title\"><a href=\"/disclosures/6a743fa146a7ab6d7fed35/preview\" rel=\"noopener\" target=\"_blank\">支配株主等に関する事項について</a></td><td class=\"center tdnet-disclosure-list__download\"></td></tr><tr><td>2022/04/26 15:00</td><td class=\"tdnet-disclosure-list__title\"><a href=\"/disclosures/d5d5e684e76075480a4c6f/preview\" rel=\"noopener\" target=\"_blank\">繰延延税金資産の取り崩し、連結業績と連結業績予想および前期実績値との差異、並びに個別業績と前期実績値との差異に関するお知らせ</a></td><td class=\"center tdnet-disclosure-list__download\"></td></tr><tr><td>2022/04/26 15:00</td><td class=\"tdnet-disclosure-list__title\"><a href=\"/disclosures/81b71fde1a171b25ebab8a/preview\" rel=\"noopener\" target=\"_blank\">2022年3月期 決算短信〔IFRS〕(連結)</a></td><td class=\"center tdnet-disclosure-list__download\"><a class=\"glyphicon glyphicon-download-alt\" href=\"https://buffett-code-archives.s3.amazonaws.com/tdnet_archives/081220220426527620.zip\" rel=\"noopener nofollow\" target=\"_blank\"></a></td></tr><tr><td>2022/03/03 15:00</td><td class=\"tdnet-disclosure-list__title\"><a href=\"/disclosures/722bc4de25d071c8d7ee7f/preview\" rel=\"noopener\" target=\"_blank\">代表執行役および執行役の異動に関するお知らせ</a></td><td class=\"center tdnet-disclosure-list__download\"></td></tr><tr><td>2022/01/31 15:00</td><td class=\"tdnet-disclosure-list__title\"><a href=\"/disclosures/3a0f0a2c4aac5ab2710599/preview\" rel=\"noopener\" target=\"_blank\">2022年3月期 第3四半期決算短信〔IFRS〕(連結)</a></td><td class=\"center tdnet-disclosure-list__download\"><a class=\"glyphicon glyphicon-download-alt\" href=\"https://buffett-code-archives.s3.amazonaws.com/tdnet_archives/081220220131575670.zip\" rel=\"noopener nofollow\" target=\"_blank\"></a></td></tr><tr><td>2021/11/30 15:00</td><td class=\"tdnet-disclosure-list__title\"><a href=\"/disclosures/fbf86fa0f57dc804d380d3/preview\" rel=\"noopener\" target=\"_blank\">株式会社BCJ-52による当社株式(証券コード5486)に対する公開買付け実施に向けた進捗状況のお知らせ</a></td><td class=\"center tdnet-disclosure-list__download\"></td></tr><tr><td>2021/11/10 15:00</td><td class=\"tdnet-disclosure-list__title\"><a href=\"/disclosures/da3aa952e27df4a61e1f22/preview\" rel=\"noopener\" target=\"_blank\">特定子会社の異動に関するお知らせ</a></td><td class=\"center tdnet-disclosure-list__download\"></td></tr><tr><td>2021/10/26 15:00</td><td class=\"tdnet-disclosure-list__title\"><a href=\"/disclosures/742a63d81623eb8c8e543b/preview\" rel=\"noopener\" target=\"_blank\">当社製品における不適切な検査等に関する継続調査結果等について</a></td><td class=\"center tdnet-disclosure-list__download\"></td></tr><tr><td>2021/10/26 15:00</td><td class=\"tdnet-disclosure-list__title\"><a href=\"/disclosures/d02aa23c1f09e6a40220fe/preview\" rel=\"noopener\" target=\"_blank\">2022年3月期 第2四半期決算短信〔IFRS〕(連結)</a></td><td class=\"center tdnet-disclosure-list__download\"><a class=\"glyphicon glyphicon-download-alt\" href=\"https://buffett-code-archives.s3.amazonaws.com/tdnet_archives/081220211026416564.zip\" rel=\"noopener nofollow\" target=\"_blank\"></a></td></tr><tr><td>2021/07/28 15:00</td><td class=\"tdnet-disclosure-list__title\"><a href=\"/disclosures/167aaa63b62068cc964897/preview\" rel=\"noopener\" target=\"_blank\">2022年3月期 第1四半期決算短信〔IFRS〕(連結)</a></td><td class=\"center tdnet-disclosure-list__download\"><a class=\"glyphicon glyphicon-download-alt\" href=\"https://buffett-code-archives.s3.amazonaws.com/tdnet_archives/081220210727472282.zip\" rel=\"noopener nofollow\" target=\"_blank\"></a></td></tr><tr><td>2021/06/25 15:00</td><td class=\"tdnet-disclosure-list__title\"><a href=\"/disclosures/b5299fdcaf9583b37f188e/preview\" rel=\"noopener\" target=\"_blank\">支配株主等に関する事項について</a></td><td class=\"center tdnet-disclosure-list__download\"></td></tr><tr><td>2021/05/27 19:00</td><td class=\"tdnet-disclosure-list__title\"><a href=\"/disclosures/823c9cc93e833bfda73b9e/preview\" rel=\"noopener\" target=\"_blank\">(訂正)「国内営業体制の再編に関するお知らせ(完全子会社の事業部門を 承継させる会社分割(簡易吸収分割))」の一部訂正について</a></td><td class=\"center tdnet-disclosure-list__download\"></td></tr><tr><td>2021/05/26 15:00</td><td class=\"tdnet-disclosure-list__title\"><a href=\"/disclosures/2b8f68220147e180288389/preview\" rel=\"noopener\" target=\"_blank\">国内営業体制の再編に関するお知らせ (完全子会社の事業部門を承継させる会社分割(簡易吸収分割))</a></td><td class=\"center tdnet-disclosure-list__download\"></td></tr><tr><td>2021/04/28 15:00</td><td class=\"tdnet-disclosure-list__title\"><a href=\"/disclosures/d101439d123f08c667df24/preview\" rel=\"noopener\" target=\"_blank\">剰余金の配当(無配)に関するお知らせ</a></td><td class=\"center tdnet-disclosure-list__download\"></td></tr><tr><td>2021/04/28 15:00</td><td class=\"tdnet-disclosure-list__title\"><a href=\"/disclosures/ff27e97408b5ff9c3f706e/preview\" rel=\"noopener\" target=\"_blank\">株式会社BCJ-52による当社株式に対する公開買付けの開始予定に係る賛同の意見表明及び応募推奨に関するお知らせ</a></td><td class=\"center tdnet-disclosure-list__download\"></td></tr><tr><td>2021/04/26 15:00</td><td class=\"tdnet-disclosure-list__title\"><a href=\"/disclosures/f8f4bc653980203806d89b/preview\" rel=\"noopener\" target=\"_blank\">2021年3月期  決算短信〔IFRS〕(連結)</a></td><td class=\"center tdnet-disclosure-list__download\"><a class=\"glyphicon glyphicon-download-alt\" href=\"https://buffett-code-archives.s3.amazonaws.com/tdnet_archives/081220210425499539.zip\" rel=\"noopener nofollow\" target=\"_blank\"></a></td></tr><tr><td>2021/04/26 15:00</td><td class=\"tdnet-disclosure-list__title\"><a href=\"/disclosures/7440bcb1f7eb858b56b815/preview\" rel=\"noopener\" target=\"_blank\">連結業績予想と実績値の差異および個別業績の前期実績値との差異に関するお知らせ</a></td><td class=\"center tdnet-disclosure-list__download\"></td></tr><tr><td>2021/04/26 15:00</td><td class=\"tdnet-disclosure-list__title\"><a href=\"/disclosures/b6429d6d4e46a6b52c4231/preview\" rel=\"noopener\" target=\"_blank\">配当予想の修正に関するお知らせ</a></td><td class=\"center tdnet-disclosure-list__download\"></td></tr><tr><td>2021/02/26 14:00</td><td class=\"tdnet-disclosure-list__title\"><a href=\"/disclosures/3311f6bd595df485c07a19/preview\" rel=\"noopener\" target=\"_blank\">(訂正)「耐熱鋳造部品事業およびセラミックスフィルター事業の構造改革に関するお知らせ」の一部訂正について</a></td><td class=\"center tdnet-disclosure-list__download\"></td></tr><tr><td>2021/01/28 15:00</td><td class=\"tdnet-disclosure-list__title\"><a href=\"/disclosures/39be3d0cfaed5239393c51/preview\" rel=\"noopener\" target=\"_blank\">当社製品における不適切な検査等に関する調査報告及び再発防止策並びに役員の処分について</a></td><td class=\"center tdnet-disclosure-list__download\"></td></tr><tr><td>2021/01/28 15:00</td><td class=\"tdnet-disclosure-list__title\"><a href=\"/disclosures/d718cc194332b4ce5711a2/preview\" rel=\"noopener\" target=\"_blank\">執行役の異動に関するお知らせ</a></td><td class=\"center tdnet-disclosure-list__download\"></td></tr><tr><td>2021/01/28 15:00</td><td class=\"tdnet-disclosure-list__title\"><a href=\"/disclosures/d928eb1ddfed0b498129aa/preview\" rel=\"noopener\" target=\"_blank\">2021年3月期 第3四半期決算短信〔IFRS〕(連結)</a></td><td class=\"center tdnet-disclosure-list__download\"><a class=\"glyphicon glyphicon-download-alt\" href=\"https://buffett-code-archives.s3.amazonaws.com/tdnet_archives/081220210128450242.zip\" rel=\"noopener nofollow\" target=\"_blank\"></a></td></tr><tr><td>2021/01/28 15:00</td><td class=\"tdnet-disclosure-list__title\"><a href=\"/disclosures/84b4b2b7c279dc3dabefe4/preview\" rel=\"noopener\" target=\"_blank\">耐熱鋳造部品事業およびセラミックスフィルター事業の構造改革に関するお知らせ(完全子会社に事業部門を承継させる会社分割(簡易吸収分割))</a></td><td class=\"center tdnet-disclosure-list__download\"></td></tr><tr><td>2020/10/27 15:00</td><td class=\"tdnet-disclosure-list__title\"><a href=\"/disclosures/c86984c93646d31a2af11c/preview\" rel=\"noopener\" target=\"_blank\">減損損失の計上、通期連結業績予想の修正および剰余金の配当に関するお知らせ</a></td><td class=\"center tdnet-disclosure-list__download\"></td></tr><tr><td>2020/10/27 15:00</td><td class=\"tdnet-disclosure-list__title\"><a href=\"/disclosures/d2ea1a560bb18dbe928c3b/preview\" rel=\"noopener\" target=\"_blank\">2021年3月期 第2四半期決算短信〔IFRS〕(連結)</a></td><td class=\"center tdnet-disclosure-list__download\"><a class=\"glyphicon glyphicon-download-alt\" href=\"https://buffett-code-archives.s3.amazonaws.com/tdnet_archives/081220201026408931.zip\" rel=\"noopener nofollow\" target=\"_blank\"></a></td></tr><tr><td>2020/07/28 17:00</td><td class=\"tdnet-disclosure-list__title\"><a href=\"/disclosures/a138f1a0bf49c9bb27fc52/preview\" rel=\"noopener\" target=\"_blank\">2021年3月期 第1四半期決算短信〔IFRS〕(連結)</a></td><td class=\"center tdnet-disclosure-list__download\"><a class=\"glyphicon glyphicon-download-alt\" href=\"https://buffett-code-archives.s3.amazonaws.com/tdnet_archives/081220200727467438.zip\" rel=\"noopener nofollow\" target=\"_blank\"></a></td></tr></tbody></table>\n"
     ]
    }
   ],
   "source": [
    "print(soup)"
   ]
  },
  {
   "cell_type": "code",
   "execution_count": 6,
   "metadata": {},
   "outputs": [],
   "source": [
    "def create_link_df(table):\n",
    "    json_company = {}\n",
    "    for id_year, tr_year in enumerate(table[0].find_all('tr')):\n",
    "        json_company_quy = {}\n",
    "        year = ''\n",
    "        for id_quy, td_quy in enumerate(tr_year.find_all('td')):\n",
    "            lst_text, lst_link = [], []\n",
    "            for li in td_quy.find_all('li'):\n",
    "                if '決算短信' in li.text:\n",
    "                    lst_text.append(li.text)\n",
    "                    lst_link.append(f\"https://www.buffett-code.com{li.find('a')['href']}\")\n",
    "            if id_quy != 0 and id_quy != 5:\n",
    "                json_company_quy[f'Time_Q{id_quy}'] = lst_text\n",
    "                json_company_quy[f'Link_Q{id_quy}'] = lst_link\n",
    "                json_company_quy[f'Link_pdf_Q{id_quy}'] = np.nan\n",
    "            if td_quy['class'][0] == 'center':\n",
    "                year = td_quy.text\n",
    "        if year != '':\n",
    "            json_company[year] = json_company_quy.copy()\n",
    "\n",
    "    df = pd.DataFrame(json_company).T.reset_index(drop=False)\n",
    "    return df.rename(columns={'index': 'Year'})\n"
   ]
  },
  {
   "cell_type": "code",
   "execution_count": 7,
   "metadata": {},
   "outputs": [],
   "source": [
    "def make_folder(id_company):\n",
    "    try:\n",
    "        os.mkdir(f'{id_company}')\n",
    "        os.mkdir(f'{id_company}/PDF')\n",
    "        os.mkdir(f'{id_company}/docs')\n",
    "        os.mkdir(f'{id_company}/docx')\n",
    "        os.mkdir(f'{id_company}/volume')\n",
    "    except:\n",
    "        pass\n"
   ]
  },
  {
   "cell_type": "code",
   "execution_count": 8,
   "metadata": {},
   "outputs": [],
   "source": [
    "def save_check_point(F, id_company):\n",
    "    if not os.path.exists(f'{id_company}/docs/link.csv'):\n",
    "        table = F.get_table(id_company=id_company)\n",
    "        df = create_link_df(table)\n",
    "        df.to_csv(f'{id_company}/docs/link.csv', index=False)\n",
    "        df_check = df.copy()\n",
    "        for quy in ['Q1', 'Q2', 'Q3', 'Q4']:\n",
    "            df_check[f'download_{quy}'] = np.nan\n",
    "        df_check.to_csv(f'{id_company}/docs/check.csv', index=False)\n",
    "    else:\n",
    "        df = pd.read_csv(f'{id_company}/docs/link.csv')\n",
    "        for quy in ['Q1', 'Q2', 'Q3', 'Q4']:\n",
    "            df[f'Time_{quy}'] = df[f'Time_{quy}'].apply(lambda x: eval(x))\n",
    "            df[f'Link_{quy}'] = df[f'Link_{quy}'].apply(lambda x: eval(x))\n",
    "    return df"
   ]
  },
  {
   "cell_type": "code",
   "execution_count": 9,
   "metadata": {},
   "outputs": [],
   "source": [
    "def get_download_pdf(F, id_company, df):\n",
    "    df_check = pd.read_csv(f'{id_company}/docs/check.csv')\n",
    "\n",
    "    for quy in ['Q1', 'Q2', 'Q3', 'Q4']:\n",
    "        for id in df.index:\n",
    "            if pd.isna(df_check[f'download_{quy}'][id]):\n",
    "                for id_link in range(len(df[f'Time_{quy}'][id])):\n",
    "                    year_ = df[f'Year'][id]\n",
    "                    link_preview = df[f'Link_{quy}'][id][id_link]\n",
    "                    if not 'https://www.buffett-code.com/company' in link_preview:\n",
    "                        msg = 'Nan'\n",
    "                    else:\n",
    "                        try:\n",
    "                            link_pdf = F.get_pdf_link(link_preview)\n",
    "                            name = df[f'Time_{quy}'][id][id_link].replace(' ', '').replace('/', '_')\n",
    "                            response = requests.get(link_pdf)\n",
    "                            with open(f'{id_company}/PDF/{year_}_{quy}_{name}.pdf', 'wb') as f:\n",
    "                                f.write(response.content)\n",
    "                            msg = 'OK'\n",
    "                        except:\n",
    "                            msg = None\n",
    "                    print(f'{id_company} - {year_} - {quy} - {id_link} - {msg} - {link_preview}')\n",
    "                    df_check[f'download_{quy}'][id] = msg\n",
    "                    df_check.to_csv(f'{id_company}/docs/check.csv', index=False)\n",
    "                    time.sleep(20)\n",
    "\n",
    "# get_download_pdf(F, id_company, df)"
   ]
  },
  {
   "cell_type": "code",
   "execution_count": 11,
   "metadata": {},
   "outputs": [
    {
     "name": "stdout",
     "output_type": "stream",
     "text": [
      "5486 - 2019 - Q4 - 0 - None - https://www.buffett-code.com/company/5486/library/8b27f9d335f9a580017c4a/preview\n",
      "5486 - 2019 - Q4 - 1 - None - https://www.buffett-code.com/company/5486/library/c95ee4aa4b5b6a56366610/preview\n",
      "5486 - 2018 - Q4 - 0 - None - https://www.buffett-code.com/company/5486/library/f19bbefaa22f0f949e4a3e/preview\n",
      "5486 - 2017 - Q4 - 0 - None - https://www.buffett-code.com/company/5486/library/7feea3a7795c38520300ed/preview\n",
      "5486 - 2016 - Q4 - 0 - None - https://www.buffett-code.com/company/5486/library/dfdd1bf0d33d65a0344164/preview\n",
      "5486 - 2015 - Q4 - 0 - None - https://www.buffett-code.com/company/5486/library/fe38a98df616afe1548a23/preview\n",
      "5486 - 2014 - Q4 - 0 - None - https://www.buffett-code.com/company/5486/library/6e8e299b89421a19185548/preview\n",
      "5486 - 2014 - Q4 - 1 - None - https://www.buffett-code.com/company/5486/library/0ada5cd2c2f35b928d8f5a/preview\n",
      "5486 - 2013 - Q4 - 0 - None - https://www.buffett-code.com/company/5486/library/4951a05bc738bc116f46a0/preview\n",
      "5486 - 2012 - Q4 - 0 - None - https://www.buffett-code.com/company/5486/library/615aa3ae9c5e9dae476298/preview\n",
      "5486 - 2011 - Q4 - 0 - None - https://www.buffett-code.com/company/5486/library/671f4732c4f0a024a4ee74/preview\n",
      "5486 - 2010 - Q4 - 0 - None - https://www.buffett-code.com/company/5486/library/b2933e09fdb813f84304c2/preview\n",
      "5486 - 2009 - Q4 - 0 - None - https://www.buffett-code.com/company/5486/library/7e64ce1428f1ae20a25b34/preview\n",
      "5486 - 2008 - Q4 - 0 - None - https://www.buffett-code.com/company/5486/library/e82a80f6872bda70b15fb0/preview\n"
     ]
    }
   ],
   "source": [
    "def save_pdf(id_company):\n",
    "    make_folder(id_company)\n",
    "    F = FinancailStatement()\n",
    "    df = save_check_point(F, id_company)\n",
    "    get_download_pdf(F, id_company, df)\n",
    "\n",
    "save_pdf(5486)"
   ]
  }
 ],
 "metadata": {
  "kernelspec": {
   "display_name": "Python 3",
   "language": "python",
   "name": "python3"
  },
  "language_info": {
   "codemirror_mode": {
    "name": "ipython",
    "version": 3
   },
   "file_extension": ".py",
   "mimetype": "text/x-python",
   "name": "python",
   "nbconvert_exporter": "python",
   "pygments_lexer": "ipython3",
   "version": "3.10.0"
  },
  "orig_nbformat": 4
 },
 "nbformat": 4,
 "nbformat_minor": 2
}
