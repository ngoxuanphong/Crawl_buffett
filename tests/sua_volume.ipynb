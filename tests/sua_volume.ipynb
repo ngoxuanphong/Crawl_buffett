{
 "cells": [
  {
   "cell_type": "code",
   "execution_count": 1,
   "metadata": {},
   "outputs": [
    {
     "name": "stdout",
     "output_type": "stream",
     "text": [
      "/Users/mac/Monthy/Crawl_buffett\n"
     ]
    }
   ],
   "source": [
    "%cd .."
   ]
  },
  {
   "cell_type": "code",
   "execution_count": 21,
   "metadata": {},
   "outputs": [
    {
     "name": "stdout",
     "output_type": "stream",
     "text": [
      "2022_Q1: [94244472, 559257]\n",
      "2021_Q1: [97244472, 571892]\n",
      "2020_Q1: [97244472, 587411]\n",
      "2019_Q1: [97244472, 547210]\n",
      "2018_Q1: [97236456, 97235670]\n",
      "2017_Q1: [97236456, 97236328]\n",
      "2016_Q1: [113184548, 15947744]\n",
      "2015_Q1: [113184548, 15947119]\n",
      "2014_Q1: [113184548, 15945962]\n",
      "Need ocr tests/Data/9997/PDF/2013_Q1_決算短信(2013_8_2)_ocr.pdf\n",
      "2013_Q1: [56592274, 7972451]\n",
      "2012_Q1: [56592274, 7657719]\n",
      "2011_Q1: [56592274, 6467479]\n",
      "2010_Q1: [56592274, 6466786]\n",
      "2009_Q1: [56592274, 6466290]\n",
      "2008_Q1: [56592274, 5465128]\n",
      "2022_Q2: [97244472, 554132]\n",
      "2021_Q2: [97244472, 559121]\n",
      "2020_Q2: [97244472, 571586]\n",
      "2019_Q2: [97244472, 587185]\n",
      "2018_Q2: [97244472, 97237271]\n",
      "2017_Q2: [97236456, 97236197]\n",
      "2016_Q2: [113184548, 15947812]\n",
      "2015_Q2: [113184548, 15947496]\n",
      "2014_Q2: [113184548, 15946404]\n",
      "Need ocr tests/Data/9997/PDF/2013_Q2_決算短信(2013_11_1)_ocr.pdf\n",
      "2013_Q2: [113184548, 15945222]\n",
      "Need ocr tests/Data/9997/PDF/2012_Q2_決算短信(2012_11_2)_ocr.pdf\n",
      "2012_Q2: [56592274, 7911619]\n",
      "2011_Q2: [56592274, 6995339]\n",
      "Need ocr tests/Data/9997/PDF/2010_Q2_決算短信(2010_11_4)_ocr.pdf\n",
      "2010_Q2: [56592274, 6466996]\n",
      "2009_Q2: [56592274, 6466350]\n",
      "2008_Q2: [56592274, 6465408]\n",
      "2022_Q3: [97244472, 554232]\n",
      "2021_Q3: [97244472, 559165]\n",
      "2020_Q3: [97244472, 571610]\n",
      "2019_Q3: [97244472, 587369]\n",
      "2018_Q3: [97244472, 97239368]\n",
      "2017_Q3: [97236456, 97236101]\n",
      "2016_Q3: [113184548, 15947964]\n",
      "2015_Q3: [113184548, 15947496]\n",
      "2014_Q3: [113184548, 15946663]\n",
      "2013_Q3: [113184548, 15945754]\n"
     ]
    },
    {
     "name": "stderr",
     "output_type": "stream",
     "text": [
      "\n",
      "The program 'tesseract' could not be executed or was not found on your\n",
      "system PATH.\n",
      "\n"
     ]
    },
    {
     "name": "stdout",
     "output_type": "stream",
     "text": [
      "Need ocr tests/Data/9997/PDF/2012_Q3_決算短信(2013_2_4)_ocr.pdf\n"
     ]
    },
    {
     "ename": "MissingDependencyError",
     "evalue": "Could not find program 'tesseract' on the PATH",
     "output_type": "error",
     "traceback": [
      "\u001b[0;31m---------------------------------------------------------------------------\u001b[0m",
      "\u001b[0;31mTypeError\u001b[0m                                 Traceback (most recent call last)",
      "Cell \u001b[0;32mIn[21], line 49\u001b[0m, in \u001b[0;36mGetVolume.getDataFromPdf\u001b[0;34m(self, id_company, year, quy)\u001b[0m\n\u001b[1;32m     48\u001b[0m \u001b[39mtry\u001b[39;00m:\n\u001b[0;32m---> 49\u001b[0m     lst_data_of_time \u001b[39m=\u001b[39m \u001b[39mself\u001b[39;49m\u001b[39m.\u001b[39;49mfindData(input_path)\n\u001b[1;32m     50\u001b[0m \u001b[39mexcept\u001b[39;00m:\n\u001b[1;32m     51\u001b[0m     \u001b[39m# try:\u001b[39;00m\n",
      "Cell \u001b[0;32mIn[21], line 34\u001b[0m, in \u001b[0;36mGetVolume.findData\u001b[0;34m(self, path)\u001b[0m\n\u001b[1;32m     33\u001b[0m text \u001b[39m=\u001b[39m \u001b[39mself\u001b[39m\u001b[39m.\u001b[39mfindText(pdf)\n\u001b[0;32m---> 34\u001b[0m numbers \u001b[39m=\u001b[39m re\u001b[39m.\u001b[39;49mfindall(\u001b[39mr\u001b[39;49m\u001b[39m\"\u001b[39;49m\u001b[39m\\\u001b[39;49m\u001b[39md\u001b[39;49m\u001b[39m{\u001b[39;49m\u001b[39m1,3}(?:,\u001b[39;49m\u001b[39m\\\u001b[39;49m\u001b[39md\u001b[39;49m\u001b[39m{3}\u001b[39;49;00m\u001b[39m)*\u001b[39;49m\u001b[39m\"\u001b[39;49m, text)\n\u001b[1;32m     35\u001b[0m numbers \u001b[39m=\u001b[39m [\u001b[39mint\u001b[39m(number\u001b[39m.\u001b[39mreplace(\u001b[39m\"\u001b[39m\u001b[39m,\u001b[39m\u001b[39m\"\u001b[39m, \u001b[39m\"\u001b[39m\u001b[39m\"\u001b[39m)) \u001b[39mfor\u001b[39;00m number \u001b[39min\u001b[39;00m numbers \u001b[39mif\u001b[39;00m \u001b[39mint\u001b[39m(number\u001b[39m.\u001b[39mreplace(\u001b[39m\"\u001b[39m\u001b[39m,\u001b[39m\u001b[39m\"\u001b[39m, \u001b[39m\"\u001b[39m\u001b[39m\"\u001b[39m)) \u001b[39m>\u001b[39m \u001b[39m3000\u001b[39m]\n",
      "File \u001b[0;32m/Library/Frameworks/Python.framework/Versions/3.10/lib/python3.10/re.py:240\u001b[0m, in \u001b[0;36mfindall\u001b[0;34m(pattern, string, flags)\u001b[0m\n\u001b[1;32m    233\u001b[0m \u001b[39m\u001b[39m\u001b[39m\"\"\"Return a list of all non-overlapping matches in the string.\u001b[39;00m\n\u001b[1;32m    234\u001b[0m \n\u001b[1;32m    235\u001b[0m \u001b[39mIf one or more capturing groups are present in the pattern, return\u001b[39;00m\n\u001b[0;32m   (...)\u001b[0m\n\u001b[1;32m    238\u001b[0m \n\u001b[1;32m    239\u001b[0m \u001b[39mEmpty matches are included in the result.\"\"\"\u001b[39;00m\n\u001b[0;32m--> 240\u001b[0m \u001b[39mreturn\u001b[39;00m _compile(pattern, flags)\u001b[39m.\u001b[39;49mfindall(string)\n",
      "\u001b[0;31mTypeError\u001b[0m: expected string or bytes-like object",
      "\nDuring handling of the above exception, another exception occurred:\n",
      "\u001b[0;31mFileNotFoundError\u001b[0m                         Traceback (most recent call last)",
      "File \u001b[0;32m/Library/Frameworks/Python.framework/Versions/3.10/lib/python3.10/site-packages/ocrmypdf/subprocess/__init__.py:160\u001b[0m, in \u001b[0;36mget_version\u001b[0;34m(program, version_arg, regex, env)\u001b[0m\n\u001b[1;32m    159\u001b[0m \u001b[39mtry\u001b[39;00m:\n\u001b[0;32m--> 160\u001b[0m     proc \u001b[39m=\u001b[39m run(\n\u001b[1;32m    161\u001b[0m         args_prog,\n\u001b[1;32m    162\u001b[0m         close_fds\u001b[39m=\u001b[39;49m\u001b[39mTrue\u001b[39;49;00m,\n\u001b[1;32m    163\u001b[0m         text\u001b[39m=\u001b[39;49m\u001b[39mTrue\u001b[39;49;00m,\n\u001b[1;32m    164\u001b[0m         stdout\u001b[39m=\u001b[39;49mPIPE,\n\u001b[1;32m    165\u001b[0m         stderr\u001b[39m=\u001b[39;49mSTDOUT,\n\u001b[1;32m    166\u001b[0m         check\u001b[39m=\u001b[39;49m\u001b[39mTrue\u001b[39;49;00m,\n\u001b[1;32m    167\u001b[0m         env\u001b[39m=\u001b[39;49menv,\n\u001b[1;32m    168\u001b[0m     )\n\u001b[1;32m    169\u001b[0m     output: \u001b[39mstr\u001b[39m \u001b[39m=\u001b[39m proc\u001b[39m.\u001b[39mstdout\n",
      "File \u001b[0;32m/Library/Frameworks/Python.framework/Versions/3.10/lib/python3.10/site-packages/ocrmypdf/subprocess/__init__.py:62\u001b[0m, in \u001b[0;36mrun\u001b[0;34m(args, env, logs_errors_to_stdout, check, **kwargs)\u001b[0m\n\u001b[1;32m     61\u001b[0m \u001b[39mtry\u001b[39;00m:\n\u001b[0;32m---> 62\u001b[0m     proc \u001b[39m=\u001b[39m subprocess_run(args, env\u001b[39m=\u001b[39;49menv, check\u001b[39m=\u001b[39;49mcheck, \u001b[39m*\u001b[39;49m\u001b[39m*\u001b[39;49mkwargs)\n\u001b[1;32m     63\u001b[0m \u001b[39mexcept\u001b[39;00m CalledProcessError \u001b[39mas\u001b[39;00m e:\n",
      "File \u001b[0;32m/Library/Frameworks/Python.framework/Versions/3.10/lib/python3.10/subprocess.py:501\u001b[0m, in \u001b[0;36mrun\u001b[0;34m(input, capture_output, timeout, check, *popenargs, **kwargs)\u001b[0m\n\u001b[1;32m    499\u001b[0m     kwargs[\u001b[39m'\u001b[39m\u001b[39mstderr\u001b[39m\u001b[39m'\u001b[39m] \u001b[39m=\u001b[39m PIPE\n\u001b[0;32m--> 501\u001b[0m \u001b[39mwith\u001b[39;00m Popen(\u001b[39m*\u001b[39;49mpopenargs, \u001b[39m*\u001b[39;49m\u001b[39m*\u001b[39;49mkwargs) \u001b[39mas\u001b[39;00m process:\n\u001b[1;32m    502\u001b[0m     \u001b[39mtry\u001b[39;00m:\n",
      "File \u001b[0;32m/Library/Frameworks/Python.framework/Versions/3.10/lib/python3.10/subprocess.py:966\u001b[0m, in \u001b[0;36mPopen.__init__\u001b[0;34m(self, args, bufsize, executable, stdin, stdout, stderr, preexec_fn, close_fds, shell, cwd, env, universal_newlines, startupinfo, creationflags, restore_signals, start_new_session, pass_fds, user, group, extra_groups, encoding, errors, text, umask, pipesize)\u001b[0m\n\u001b[1;32m    963\u001b[0m             \u001b[39mself\u001b[39m\u001b[39m.\u001b[39mstderr \u001b[39m=\u001b[39m io\u001b[39m.\u001b[39mTextIOWrapper(\u001b[39mself\u001b[39m\u001b[39m.\u001b[39mstderr,\n\u001b[1;32m    964\u001b[0m                     encoding\u001b[39m=\u001b[39mencoding, errors\u001b[39m=\u001b[39merrors)\n\u001b[0;32m--> 966\u001b[0m     \u001b[39mself\u001b[39;49m\u001b[39m.\u001b[39;49m_execute_child(args, executable, preexec_fn, close_fds,\n\u001b[1;32m    967\u001b[0m                         pass_fds, cwd, env,\n\u001b[1;32m    968\u001b[0m                         startupinfo, creationflags, shell,\n\u001b[1;32m    969\u001b[0m                         p2cread, p2cwrite,\n\u001b[1;32m    970\u001b[0m                         c2pread, c2pwrite,\n\u001b[1;32m    971\u001b[0m                         errread, errwrite,\n\u001b[1;32m    972\u001b[0m                         restore_signals,\n\u001b[1;32m    973\u001b[0m                         gid, gids, uid, umask,\n\u001b[1;32m    974\u001b[0m                         start_new_session)\n\u001b[1;32m    975\u001b[0m \u001b[39mexcept\u001b[39;00m:\n\u001b[1;32m    976\u001b[0m     \u001b[39m# Cleanup if the child failed starting.\u001b[39;00m\n",
      "File \u001b[0;32m/Library/Frameworks/Python.framework/Versions/3.10/lib/python3.10/subprocess.py:1842\u001b[0m, in \u001b[0;36mPopen._execute_child\u001b[0;34m(self, args, executable, preexec_fn, close_fds, pass_fds, cwd, env, startupinfo, creationflags, shell, p2cread, p2cwrite, c2pread, c2pwrite, errread, errwrite, restore_signals, gid, gids, uid, umask, start_new_session)\u001b[0m\n\u001b[1;32m   1841\u001b[0m         err_msg \u001b[39m=\u001b[39m os\u001b[39m.\u001b[39mstrerror(errno_num)\n\u001b[0;32m-> 1842\u001b[0m     \u001b[39mraise\u001b[39;00m child_exception_type(errno_num, err_msg, err_filename)\n\u001b[1;32m   1843\u001b[0m \u001b[39mraise\u001b[39;00m child_exception_type(err_msg)\n",
      "\u001b[0;31mFileNotFoundError\u001b[0m: [Errno 2] No such file or directory: 'tesseract'",
      "\nThe above exception was the direct cause of the following exception:\n",
      "\u001b[0;31mMissingDependencyError\u001b[0m                    Traceback (most recent call last)",
      "Cell \u001b[0;32mIn[21], line 82\u001b[0m\n\u001b[1;32m     79\u001b[0m             \u001b[39mreturn\u001b[39;00m df_volume\n\u001b[1;32m     81\u001b[0m get_volume \u001b[39m=\u001b[39m GetVolume()\n\u001b[0;32m---> 82\u001b[0m get_volume\u001b[39m.\u001b[39;49mgetVolume(\n\u001b[1;32m     83\u001b[0m     id_company\u001b[39m=\u001b[39;49m\u001b[39m9997\u001b[39;49m,\n\u001b[1;32m     84\u001b[0m     return_df\u001b[39m=\u001b[39;49m\u001b[39mTrue\u001b[39;49;00m, \n\u001b[1;32m     85\u001b[0m     save_file\u001b[39m=\u001b[39;49m\u001b[39mFalse\u001b[39;49;00m)\n",
      "Cell \u001b[0;32mIn[21], line 74\u001b[0m, in \u001b[0;36mGetVolume.getVolume\u001b[0;34m(self, id_company, return_df, save_file)\u001b[0m\n\u001b[1;32m     72\u001b[0m     \u001b[39mfor\u001b[39;00m \u001b[39mid\u001b[39m \u001b[39min\u001b[39;00m df\u001b[39m.\u001b[39mindex:\n\u001b[1;32m     73\u001b[0m         year \u001b[39m=\u001b[39m df[\u001b[39mf\u001b[39m\u001b[39m\"\u001b[39m\u001b[39mYear\u001b[39m\u001b[39m\"\u001b[39m][\u001b[39mid\u001b[39m]\n\u001b[0;32m---> 74\u001b[0m         df_volume\u001b[39m.\u001b[39mloc[(\u001b[39mlen\u001b[39m(df_volume))] \u001b[39m=\u001b[39m [\u001b[39mf\u001b[39m\u001b[39m\"\u001b[39m\u001b[39m{\u001b[39;00myear\u001b[39m}\u001b[39;00m\u001b[39m_\u001b[39m\u001b[39m{\u001b[39;00mquy\u001b[39m}\u001b[39;00m\u001b[39m\"\u001b[39m] \u001b[39m+\u001b[39m \u001b[39mself\u001b[39;49m\u001b[39m.\u001b[39;49mgetDataFromPdf(\n\u001b[1;32m     75\u001b[0m             id_company, year, quy)\n\u001b[1;32m     76\u001b[0m \u001b[39mif\u001b[39;00m save_file:\n\u001b[1;32m     77\u001b[0m     df_volume\u001b[39m.\u001b[39mto_csv(\u001b[39mself\u001b[39m\u001b[39m.\u001b[39mpath_save \u001b[39m+\u001b[39m \u001b[39mf\u001b[39m\u001b[39m\"\u001b[39m\u001b[39mData/\u001b[39m\u001b[39m{\u001b[39;00mid_company\u001b[39m}\u001b[39;00m\u001b[39m/docs/volume.csv\u001b[39m\u001b[39m\"\u001b[39m, index\u001b[39m=\u001b[39m\u001b[39mFalse\u001b[39;00m)\n",
      "Cell \u001b[0;32mIn[21], line 55\u001b[0m, in \u001b[0;36mGetVolume.getDataFromPdf\u001b[0;34m(self, id_company, year, quy)\u001b[0m\n\u001b[1;32m     53\u001b[0m     \u001b[39mprint\u001b[39m(\u001b[39m'\u001b[39m\u001b[39mNeed ocr\u001b[39m\u001b[39m'\u001b[39m, path_pdf_ocr)\n\u001b[1;32m     54\u001b[0m     \u001b[39mif\u001b[39;00m \u001b[39mnot\u001b[39;00m os\u001b[39m.\u001b[39mpath\u001b[39m.\u001b[39mexists(path_pdf_ocr):\n\u001b[0;32m---> 55\u001b[0m         ocrPDF(input_path)\n\u001b[1;32m     56\u001b[0m     lst_data_of_time \u001b[39m=\u001b[39m \u001b[39mself\u001b[39m\u001b[39m.\u001b[39mfindData(path_pdf_ocr)\n\u001b[1;32m     57\u001b[0m \u001b[39m# except:\u001b[39;00m\n\u001b[1;32m     58\u001b[0m \u001b[39m#     lst_data_of_time = [\"N/A\", \"N/A\"]\u001b[39;00m\n",
      "File \u001b[0;32m~/Monthy/Crawl_buffett/src/ocrpdf.py:7\u001b[0m, in \u001b[0;36mocrPDF\u001b[0;34m(input_file)\u001b[0m\n\u001b[1;32m      5\u001b[0m \u001b[39mdef\u001b[39;00m \u001b[39mocrPDF\u001b[39m(input_file):\n\u001b[1;32m      6\u001b[0m     output_file \u001b[39m=\u001b[39m input_file\u001b[39m.\u001b[39mreplace(\u001b[39m\"\u001b[39m\u001b[39m.pdf\u001b[39m\u001b[39m\"\u001b[39m, \u001b[39m\"\u001b[39m\u001b[39m_ocr.pdf\u001b[39m\u001b[39m\"\u001b[39m)\n\u001b[0;32m----> 7\u001b[0m     ocrmypdf\u001b[39m.\u001b[39;49mocr(\n\u001b[1;32m      8\u001b[0m         input_file,\n\u001b[1;32m      9\u001b[0m         output_file,\n\u001b[1;32m     10\u001b[0m         language\u001b[39m=\u001b[39;49m\u001b[39m\"\u001b[39;49m\u001b[39meng+jpn\u001b[39;49m\u001b[39m\"\u001b[39;49m,\n\u001b[1;32m     11\u001b[0m         force_ocr\u001b[39m=\u001b[39;49m\u001b[39mTrue\u001b[39;49;00m,\n\u001b[1;32m     12\u001b[0m         output_type\u001b[39m=\u001b[39;49m\u001b[39m\"\u001b[39;49m\u001b[39mpdf\u001b[39;49m\u001b[39m\"\u001b[39;49m,\n\u001b[1;32m     13\u001b[0m         optimize\u001b[39m=\u001b[39;49m\u001b[39m0\u001b[39;49m,\n\u001b[1;32m     14\u001b[0m         progress_bar\u001b[39m=\u001b[39;49m\u001b[39mFalse\u001b[39;49;00m,\n\u001b[1;32m     15\u001b[0m         \u001b[39m# skip_big = True,\u001b[39;49;00m\n\u001b[1;32m     16\u001b[0m         max_image_mpixels\u001b[39m=\u001b[39;49m\u001b[39m500\u001b[39;49m,\n\u001b[1;32m     17\u001b[0m     )\n\u001b[1;32m     18\u001b[0m     \u001b[39mreturn\u001b[39;00m output_file\n",
      "File \u001b[0;32m/Library/Frameworks/Python.framework/Versions/3.10/lib/python3.10/site-packages/ocrmypdf/api.py:345\u001b[0m, in \u001b[0;36mocr\u001b[0;34m(input_file, output_file, language, image_dpi, output_type, sidecar, jobs, use_threads, title, author, subject, keywords, rotate_pages, remove_background, deskew, clean, clean_final, unpaper_args, oversample, remove_vectors, force_ocr, skip_text, redo_ocr, skip_big, optimize, jpg_quality, png_quality, jbig2_lossy, jbig2_page_group_size, pages, max_image_mpixels, tesseract_config, tesseract_pagesegmode, tesseract_oem, tesseract_thresholding, pdf_renderer, tesseract_timeout, tesseract_non_ocr_timeout, rotate_pages_threshold, pdfa_image_compression, user_words, user_patterns, fast_web_view, plugins, plugin_manager, keep_temporary_files, progress_bar, **kwargs)\u001b[0m\n\u001b[1;32m    342\u001b[0m     warn(\u001b[39m\"\u001b[39m\u001b[39mocrmypdf.ocr(verbose=) is ignored. Use ocrmypdf.configure_logging().\u001b[39m\u001b[39m\"\u001b[39m)\n\u001b[1;32m    344\u001b[0m options \u001b[39m=\u001b[39m create_options(\u001b[39m*\u001b[39m\u001b[39m*\u001b[39mcreate_options_kwargs)\n\u001b[0;32m--> 345\u001b[0m check_options(options, plugin_manager)\n\u001b[1;32m    346\u001b[0m \u001b[39mreturn\u001b[39;00m run_pipeline(options\u001b[39m=\u001b[39moptions, plugin_manager\u001b[39m=\u001b[39mplugin_manager, api\u001b[39m=\u001b[39m\u001b[39mTrue\u001b[39;00m)\n",
      "File \u001b[0;32m/Library/Frameworks/Python.framework/Versions/3.10/lib/python3.10/site-packages/ocrmypdf/_validation.py:252\u001b[0m, in \u001b[0;36mcheck_options\u001b[0;34m(options, plugin_manager)\u001b[0m\n\u001b[1;32m    250\u001b[0m \u001b[39mdef\u001b[39;00m \u001b[39mcheck_options\u001b[39m(options: Namespace, plugin_manager: PluginManager) \u001b[39m-\u001b[39m\u001b[39m>\u001b[39m \u001b[39mNone\u001b[39;00m:\n\u001b[1;32m    251\u001b[0m     _check_plugin_invariant_options(options)\n\u001b[0;32m--> 252\u001b[0m     _check_plugin_options(options, plugin_manager)\n",
      "File \u001b[0;32m/Library/Frameworks/Python.framework/Versions/3.10/lib/python3.10/site-packages/ocrmypdf/_validation.py:245\u001b[0m, in \u001b[0;36m_check_plugin_options\u001b[0;34m(options, plugin_manager)\u001b[0m\n\u001b[1;32m    244\u001b[0m \u001b[39mdef\u001b[39;00m \u001b[39m_check_plugin_options\u001b[39m(options: Namespace, plugin_manager: PluginManager) \u001b[39m-\u001b[39m\u001b[39m>\u001b[39m \u001b[39mNone\u001b[39;00m:\n\u001b[0;32m--> 245\u001b[0m     plugin_manager\u001b[39m.\u001b[39;49mhook\u001b[39m.\u001b[39;49mcheck_options(options\u001b[39m=\u001b[39;49moptions)\n\u001b[1;32m    246\u001b[0m     ocr_engine_languages \u001b[39m=\u001b[39m plugin_manager\u001b[39m.\u001b[39mhook\u001b[39m.\u001b[39mget_ocr_engine()\u001b[39m.\u001b[39mlanguages(options)\n\u001b[1;32m    247\u001b[0m     check_options_languages(options, ocr_engine_languages)\n",
      "File \u001b[0;32m/Library/Frameworks/Python.framework/Versions/3.10/lib/python3.10/site-packages/pluggy/_hooks.py:265\u001b[0m, in \u001b[0;36m_HookCaller.__call__\u001b[0;34m(self, *args, **kwargs)\u001b[0m\n\u001b[1;32m    262\u001b[0m \u001b[39melse\u001b[39;00m:\n\u001b[1;32m    263\u001b[0m     firstresult \u001b[39m=\u001b[39m \u001b[39mFalse\u001b[39;00m\n\u001b[0;32m--> 265\u001b[0m \u001b[39mreturn\u001b[39;00m \u001b[39mself\u001b[39;49m\u001b[39m.\u001b[39;49m_hookexec(\u001b[39mself\u001b[39;49m\u001b[39m.\u001b[39;49mname, \u001b[39mself\u001b[39;49m\u001b[39m.\u001b[39;49mget_hookimpls(), kwargs, firstresult)\n",
      "File \u001b[0;32m/Library/Frameworks/Python.framework/Versions/3.10/lib/python3.10/site-packages/pluggy/_manager.py:80\u001b[0m, in \u001b[0;36mPluginManager._hookexec\u001b[0;34m(self, hook_name, methods, kwargs, firstresult)\u001b[0m\n\u001b[1;32m     77\u001b[0m \u001b[39mdef\u001b[39;00m \u001b[39m_hookexec\u001b[39m(\u001b[39mself\u001b[39m, hook_name, methods, kwargs, firstresult):\n\u001b[1;32m     78\u001b[0m     \u001b[39m# called from all hookcaller instances.\u001b[39;00m\n\u001b[1;32m     79\u001b[0m     \u001b[39m# enable_tracing will set its own wrapping function at self._inner_hookexec\u001b[39;00m\n\u001b[0;32m---> 80\u001b[0m     \u001b[39mreturn\u001b[39;00m \u001b[39mself\u001b[39;49m\u001b[39m.\u001b[39;49m_inner_hookexec(hook_name, methods, kwargs, firstresult)\n",
      "    \u001b[0;31m[... skipping hidden 3 frame]\u001b[0m\n",
      "File \u001b[0;32m/Library/Frameworks/Python.framework/Versions/3.10/lib/python3.10/site-packages/ocrmypdf/builtin_plugins/tesseract_ocr.py:136\u001b[0m, in \u001b[0;36mcheck_options\u001b[0;34m(options)\u001b[0m\n\u001b[1;32m    134\u001b[0m \u001b[39m@hookimpl\u001b[39m\n\u001b[1;32m    135\u001b[0m \u001b[39mdef\u001b[39;00m \u001b[39mcheck_options\u001b[39m(options):\n\u001b[0;32m--> 136\u001b[0m     check_external_program(\n\u001b[1;32m    137\u001b[0m         program\u001b[39m=\u001b[39;49m\u001b[39m'\u001b[39;49m\u001b[39mtesseract\u001b[39;49m\u001b[39m'\u001b[39;49m,\n\u001b[1;32m    138\u001b[0m         package\u001b[39m=\u001b[39;49m{\u001b[39m'\u001b[39;49m\u001b[39mlinux\u001b[39;49m\u001b[39m'\u001b[39;49m: \u001b[39m'\u001b[39;49m\u001b[39mtesseract-ocr\u001b[39;49m\u001b[39m'\u001b[39;49m},\n\u001b[1;32m    139\u001b[0m         version_checker\u001b[39m=\u001b[39;49mtesseract\u001b[39m.\u001b[39;49mversion,\n\u001b[1;32m    140\u001b[0m         need_version\u001b[39m=\u001b[39;49m\u001b[39m'\u001b[39;49m\u001b[39m4.1.1\u001b[39;49m\u001b[39m'\u001b[39;49m,  \u001b[39m# Ubuntu 20.04 version\u001b[39;49;00m\n\u001b[1;32m    141\u001b[0m         version_parser\u001b[39m=\u001b[39;49mtesseract\u001b[39m.\u001b[39;49mTesseractVersion,\n\u001b[1;32m    142\u001b[0m     )\n\u001b[1;32m    144\u001b[0m     \u001b[39m# Decide on what renderer to use\u001b[39;00m\n\u001b[1;32m    145\u001b[0m     \u001b[39mif\u001b[39;00m options\u001b[39m.\u001b[39mpdf_renderer \u001b[39m==\u001b[39m \u001b[39m'\u001b[39m\u001b[39mauto\u001b[39m\u001b[39m'\u001b[39m:\n",
      "File \u001b[0;32m/Library/Frameworks/Python.framework/Versions/3.10/lib/python3.10/site-packages/ocrmypdf/subprocess/__init__.py:332\u001b[0m, in \u001b[0;36mcheck_external_program\u001b[0;34m(program, package, version_checker, need_version, required_for, recommended, version_parser)\u001b[0m\n\u001b[1;32m    316\u001b[0m \u001b[39m\u001b[39m\u001b[39m\"\"\"Check for required version of external program and raise exception if not.\u001b[39;00m\n\u001b[1;32m    317\u001b[0m \n\u001b[1;32m    318\u001b[0m \u001b[39mArgs:\u001b[39;00m\n\u001b[0;32m   (...)\u001b[0m\n\u001b[1;32m    329\u001b[0m \u001b[39m        numbers. Used when version numbers do not follow standard conventions.\u001b[39;00m\n\u001b[1;32m    330\u001b[0m \u001b[39m\"\"\"\u001b[39;00m\n\u001b[1;32m    331\u001b[0m \u001b[39mtry\u001b[39;00m:\n\u001b[0;32m--> 332\u001b[0m     found_version \u001b[39m=\u001b[39m version_checker()\n\u001b[1;32m    333\u001b[0m \u001b[39mexcept\u001b[39;00m (CalledProcessError, \u001b[39mFileNotFoundError\u001b[39;00m) \u001b[39mas\u001b[39;00m e:\n\u001b[1;32m    334\u001b[0m     _error_missing_program(program, package, required_for, recommended)\n",
      "File \u001b[0;32m/Library/Frameworks/Python.framework/Versions/3.10/lib/python3.10/site-packages/ocrmypdf/_exec/tesseract.py:117\u001b[0m, in \u001b[0;36mversion\u001b[0;34m()\u001b[0m\n\u001b[1;32m    116\u001b[0m \u001b[39mdef\u001b[39;00m \u001b[39mversion\u001b[39m() \u001b[39m-\u001b[39m\u001b[39m>\u001b[39m \u001b[39mstr\u001b[39m:\n\u001b[0;32m--> 117\u001b[0m     \u001b[39mreturn\u001b[39;00m get_version(\u001b[39m'\u001b[39;49m\u001b[39mtesseract\u001b[39;49m\u001b[39m'\u001b[39;49m, regex\u001b[39m=\u001b[39;49m\u001b[39mr\u001b[39;49m\u001b[39m'\u001b[39;49m\u001b[39mtesseract\u001b[39;49m\u001b[39m\\\u001b[39;49m\u001b[39ms(.+)\u001b[39;49m\u001b[39m'\u001b[39;49m)\n",
      "File \u001b[0;32m/Library/Frameworks/Python.framework/Versions/3.10/lib/python3.10/site-packages/ocrmypdf/subprocess/__init__.py:171\u001b[0m, in \u001b[0;36mget_version\u001b[0;34m(program, version_arg, regex, env)\u001b[0m\n\u001b[1;32m    169\u001b[0m     output: \u001b[39mstr\u001b[39m \u001b[39m=\u001b[39m proc\u001b[39m.\u001b[39mstdout\n\u001b[1;32m    170\u001b[0m \u001b[39mexcept\u001b[39;00m \u001b[39mFileNotFoundError\u001b[39;00m \u001b[39mas\u001b[39;00m e:\n\u001b[0;32m--> 171\u001b[0m     \u001b[39mraise\u001b[39;00m MissingDependencyError(\n\u001b[1;32m    172\u001b[0m         \u001b[39mf\u001b[39m\u001b[39m\"\u001b[39m\u001b[39mCould not find program \u001b[39m\u001b[39m'\u001b[39m\u001b[39m{\u001b[39;00mprogram\u001b[39m}\u001b[39;00m\u001b[39m'\u001b[39m\u001b[39m on the PATH\u001b[39m\u001b[39m\"\u001b[39m\n\u001b[1;32m    173\u001b[0m     ) \u001b[39mfrom\u001b[39;00m \u001b[39me\u001b[39;00m\n\u001b[1;32m    174\u001b[0m \u001b[39mexcept\u001b[39;00m CalledProcessError \u001b[39mas\u001b[39;00m e:\n\u001b[1;32m    175\u001b[0m     \u001b[39mif\u001b[39;00m e\u001b[39m.\u001b[39mreturncode \u001b[39m!=\u001b[39m \u001b[39m0\u001b[39m:\n",
      "\u001b[0;31mMissingDependencyError\u001b[0m: Could not find program 'tesseract' on the PATH"
     ]
    }
   ],
   "source": [
    "import pdfplumber\n",
    "import pandas as pd\n",
    "import numpy as np\n",
    "import os, tabula, camelot, re\n",
    "from datetime import datetime\n",
    "from src.ocrpdf import ocrPDF\n",
    "\n",
    "class GetVolume():\n",
    "    def __init__(self, \n",
    "                 path_save=\"tests/\"):\n",
    "        self.path_save = path_save\n",
    "\n",
    "    def openPdf(self, \n",
    "                path: str = \"tests/Data/1301/PDF/2022_Q1_決算短信(2022_8_5).pdf\"): \n",
    "        pdf = pdfplumber.open(path)\n",
    "        return pdf\n",
    "\n",
    "    def findText(self,\n",
    "                    pdf,\n",
    "                    text: str = \"期末発行済株式数\"):\n",
    "        for page in range(len(pdf.pages)):\n",
    "            text = pdf.pages[page].extract_text()\n",
    "            text = text.replace('\\n', ' ').replace(' ', '').replace('.', ',')\n",
    "            text_first = '期末発行済株式数'\n",
    "            id_first = text.find(text_first)\n",
    "            if id_first >= 0:\n",
    "                text = text[id_first:]\n",
    "                return text\n",
    "\n",
    "    def findData(self,\n",
    "                 path: str = \"tests/Data/1301/PDF/2022_Q1_決算短信(2022_8_5).pdf\"):\n",
    "        pdf = self.openPdf(path)\n",
    "        text = self.findText(pdf)\n",
    "        numbers = re.findall(r\"\\d{1,3}(?:,\\d{3})*\", text)\n",
    "        numbers = [int(number.replace(\",\", \"\")) for number in numbers if int(number.replace(\",\", \"\")) > 3000]\n",
    "        # print(numbers[0], numbers[2])\n",
    "        return [numbers[0], numbers[2]]\n",
    "    \n",
    "    def getDataFromPdf(self,\n",
    "                        id_company: int = 1301,\n",
    "                        year: int = 2022,\n",
    "                        quy: str = \"Q1\",):\n",
    "        for file in os.listdir(self.path_save + f\"Data/{id_company}/PDF\"):\n",
    "            if file.startswith(f\"{year}_{quy}\") and (\"(訂正)\" not in file) and '_ocr' not in file:\n",
    "                file_name = file\n",
    "                input_path = self.path_save + f\"Data/{id_company}/PDF/{file_name}\"\n",
    "                date_volume = file_name[file_name.find(\"(\") + 1 : file_name.find(\")\")]\n",
    "                try:\n",
    "                    lst_data_of_time = self.findData(input_path)\n",
    "                except:\n",
    "                    # try:\n",
    "                        path_pdf_ocr = input_path.replace(\".pdf\", \"_ocr.pdf\")\n",
    "                        print('Need ocr', path_pdf_ocr)\n",
    "                        if not os.path.exists(path_pdf_ocr):\n",
    "                            ocrPDF(input_path)\n",
    "                        lst_data_of_time = self.findData(path_pdf_ocr)\n",
    "                    # except:\n",
    "                    #     lst_data_of_time = [\"N/A\", \"N/A\"]\n",
    "                print(f\"{year}_{quy}: {lst_data_of_time}\")\n",
    "                return [date_volume] + lst_data_of_time\n",
    "        return [\"N/A\", \"N/A\", \"N/A\"]\n",
    "    \n",
    "\n",
    "    def getVolume(self,\n",
    "                  id_company: int = 1301,\n",
    "                  return_df: bool = False,\n",
    "                  save_file: bool = True,):\n",
    "\n",
    "        df_volume = pd.DataFrame(columns=[\"time\", \"date\", \"vol1\", \"vol2\"])\n",
    "        df = pd.read_csv(self.path_save + f\"Data/{id_company}/docs/link.csv\")\n",
    "        for quy in [\"Q1\", \"Q2\", \"Q3\", \"Q4\"]:\n",
    "            for id in df.index:\n",
    "                year = df[f\"Year\"][id]\n",
    "                df_volume.loc[(len(df_volume))] = [f\"{year}_{quy}\"] + self.getDataFromPdf(\n",
    "                    id_company, year, quy)\n",
    "        if save_file:\n",
    "            df_volume.to_csv(self.path_save + f\"Data/{id_company}/docs/volume.csv\", index=False)\n",
    "        if return_df:\n",
    "            return df_volume\n",
    "\n",
    "get_volume = GetVolume()\n",
    "get_volume.getVolume(\n",
    "    id_company=9997,\n",
    "    return_df=True, \n",
    "    save_file=False)"
   ]
  },
  {
   "attachments": {},
   "cell_type": "markdown",
   "metadata": {},
   "source": [
    "# test"
   ]
  },
  {
   "cell_type": "code",
   "execution_count": 23,
   "metadata": {},
   "outputs": [],
   "source": [
    "pdf = get_volume.openPdf(path='tests/Data/9997/PDF/2012_Q3_決算短信(2013_2_4).pdf')"
   ]
  },
  {
   "cell_type": "code",
   "execution_count": 24,
   "metadata": {},
   "outputs": [
    {
     "name": "stdout",
     "output_type": "stream",
     "text": [
      "(cid:2)(cid:2)(cid:810)(cid:2)(cid:7496)(cid:11813)(cid:2640)(cid:13764)(cid:14804)(cid:14813)(cid:14805)(cid:5296)(cid:4030)(cid:3496)(cid:6588)(cid:12650)(cid:9919)(cid:9893)(cid:11800)(cid:6588)(cid:13382)(cid:2022)(cid:1989)(cid:1996)(cid:2054)(cid:12928)(cid:11728)(cid:2021)(cid:4662)(cid:2739)(cid:9248)(cid:2025)(cid:8675)(cid:3399)(cid:14822)(cid:8053)(cid:14967)(cid:2)(cid:2)(cid:10)(cid:12650)(cid:9919)(cid:9656)(cid:4048)(cid:2025)(cid:4364)(cid:6557)(cid:2061)(cid:2747)(cid:1985)(cid:8228)(cid:4719)(cid:4662)(cid:2739)(cid:9248)(cid:2025)(cid:8675)(cid:3399)(cid:11)(cid:14967)(cid:6338)(cid:11737)(cid:14809)(cid:9248)(cid:14804)(cid:9248)(cid:3628)(cid:14805)(cid:1940)(cid:13488)(cid:4374)(cid:14809)(cid:9248)(cid:14804)(cid:9248)(cid:3628)(cid:14805)(cid:14967)(cid:14967)(cid:2)(cid:2)(cid:14804)(cid:14814)(cid:14805)(cid:4030)(cid:3496)(cid:6588)(cid:12650)(cid:9919)(cid:12151)(cid:3403)(cid:11977)(cid:11563)(cid:2025)(cid:2782)(cid:5777)(cid:2022)(cid:8228)(cid:6573)(cid:2025)(cid:2739)(cid:11800)(cid:3235)(cid:8450)(cid:2025)(cid:12705)(cid:8618)(cid:14822)(cid:8053)(cid:14967)(cid:14967)(cid:2)(cid:2)(cid:14804)(cid:14815)(cid:14805)(cid:2739)(cid:11800)(cid:6343)(cid:12942)(cid:2025)(cid:4364)(cid:6557)(cid:2158)(cid:2739)(cid:11800)(cid:2564)(cid:2025)(cid:11735)(cid:9421)(cid:2053)(cid:2025)(cid:4364)(cid:6557)(cid:2158)(cid:2883)(cid:7260)(cid:3171)(cid:11563)(cid:9244)(cid:1304)(cid:2)(cid:2739)(cid:11800)(cid:4206)(cid:7728)(cid:9580)(cid:2025)(cid:6263)(cid:7260)(cid:2022)(cid:2747)(cid:1985)(cid:2739)(cid:11800)(cid:6343)(cid:12942)(cid:2025)(cid:4364)(cid:6557)(cid:14822)(cid:6573)(cid:1305)(cid:2)(cid:1304)(cid:2703)(cid:4374)(cid:2025)(cid:2739)(cid:11800)(cid:6343)(cid:12942)(cid:2025)(cid:4364)(cid:6557)(cid:14822)(cid:8053)(cid:1306)(cid:2)(cid:2739)(cid:11800)(cid:2564)(cid:2025)(cid:11735)(cid:9421)(cid:2053)(cid:2025)(cid:4364)(cid:6557)(cid:14822)(cid:6573)(cid:1307)(cid:2)(cid:2883)(cid:7260)(cid:3171)(cid:11563)(cid:9244)(cid:14822)(cid:8053)(cid:14967)(cid:10)(cid:7496)(cid:11)(cid:1951)(cid:2739)(cid:11800)(cid:6343)(cid:12942)(cid:2025)(cid:4364)(cid:6557)(cid:2061)(cid:2739)(cid:11800)(cid:2564)(cid:2025)(cid:11735)(cid:9421)(cid:2053)(cid:2025)(cid:4364)(cid:6557)(cid:2019)(cid:3481)(cid:3278)(cid:2004)(cid:2054)(cid:1998)(cid:2019)(cid:1991)(cid:4046)(cid:13581)(cid:2021)(cid:4240)(cid:3623)(cid:1952)(cid:2022)(cid:11877)(cid:5296)(cid:2002)(cid:2041)(cid:2004)(cid:1941)(cid:11878)(cid:9894)(cid:2026)(cid:1940)(cid:7645)(cid:2691)(cid:12183)(cid:6321)(cid:14844)(cid:14810)(cid:14815)(cid:1951)(cid:14814)(cid:14810)(cid:2088)(cid:2129)(cid:2141)(cid:2159)(cid:5553)(cid:4238)(cid:10)(cid:7496)(cid:11813)(cid:2640)(cid:13764)(cid:11)(cid:2022)(cid:13392)(cid:2004)(cid:2054)(cid:2640)(cid:13764)(cid:14804)(cid:14815)(cid:14805)(cid:2739)(cid:11800)(cid:6343)(cid:12942)(cid:2025)(cid:4364)(cid:6557)(cid:2158)(cid:2739)(cid:11800)(cid:2564)(cid:2025)(cid:11735)(cid:9421)(cid:2053)(cid:2025)(cid:4364)(cid:6557)(cid:2158)(cid:2883)(cid:7260)(cid:3171)(cid:11563)(cid:9244)(cid:1952)(cid:2061)(cid:1999)(cid:11753)(cid:1994)(cid:2011)(cid:2000)(cid:1983)(cid:1941)(cid:2)(cid:14967)(cid:14804)(cid:14816)(cid:14805)(cid:8850)(cid:11541)(cid:7651)(cid:6755)(cid:5244)(cid:6297)(cid:14804)(cid:6473)(cid:12642)(cid:6755)(cid:5244)(cid:14805)(cid:1304)(cid:2)(cid:6588)(cid:6595)(cid:8850)(cid:11541)(cid:7651)(cid:6755)(cid:5244)(cid:6297)(cid:14804)(cid:10564)(cid:5062)(cid:6755)(cid:5244)(cid:2061)(cid:3645)(cid:2043)(cid:11)(cid:20)(cid:23)(cid:5141)(cid:14815)(cid:6572)(cid:6588)(cid:14815)(cid:14845)(cid:23)(cid:24)(cid:14)(cid:23)(cid:27)(cid:20)(cid:14)(cid:20)(cid:25)(cid:22)(cid:6755)(cid:20)(cid:22)(cid:5141)(cid:14815)(cid:6572)(cid:6588)(cid:23)(cid:24)(cid:14)(cid:23)(cid:27)(cid:20)(cid:14)(cid:20)(cid:25)(cid:22)(cid:6755)(cid:1305)(cid:2)(cid:6588)(cid:6595)(cid:10564)(cid:5062)(cid:6755)(cid:5244)(cid:6297)(cid:20)(cid:23)(cid:5141)(cid:14815)(cid:6572)(cid:6588)(cid:14815)(cid:14845)(cid:25)(cid:14)(cid:27)(cid:25)(cid:20)(cid:14)(cid:19)(cid:27)(cid:27)(cid:6755)(cid:20)(cid:22)(cid:5141)(cid:14815)(cid:6572)(cid:6588)(cid:25)(cid:14)(cid:24)(cid:20)(cid:22)(cid:14)(cid:20)(cid:19)(cid:27)(cid:6755)(cid:1306)(cid:2)(cid:6588)(cid:2587)(cid:5140)(cid:4107)(cid:6755)(cid:5244)(cid:6297)(cid:14804)(cid:4030)(cid:3496)(cid:6588)(cid:9893)(cid:11800)(cid:14805)(cid:20)(cid:23)(cid:5141)(cid:14815)(cid:6572)(cid:6588)(cid:14815)(cid:14845)(cid:22)(cid:26)(cid:14)(cid:26)(cid:20)(cid:20)(cid:14)(cid:19)(cid:22)(cid:19)(cid:6755)(cid:20)(cid:22)(cid:5141)(cid:14815)(cid:6572)(cid:6588)(cid:14815)(cid:14845)(cid:22)(cid:27)(cid:14)(cid:26)(cid:22)(cid:22)(cid:14)(cid:23)(cid:22)(cid:26)(cid:6755)(cid:14967)(cid:14967)(cid:810)(cid:4030)(cid:3496)(cid:6588)(cid:2143)(cid:2118)(cid:2136)(cid:2159)(cid:5819)(cid:9967)(cid:2025)(cid:4723)(cid:6345)(cid:8257)(cid:7467)(cid:2022)(cid:13392)(cid:2004)(cid:2054)(cid:11563)(cid:9244)(cid:14967)(cid:97)(cid:2)(cid:1998)(cid:2025)(cid:4030)(cid:3496)(cid:6588)(cid:7423)(cid:9626)(cid:9076)(cid:2878)(cid:2025)(cid:13375)(cid:9244)(cid:6440)(cid:8016)(cid:2022)(cid:1989)(cid:1983)(cid:2017)(cid:1940)(cid:12932)(cid:11426)(cid:3809)(cid:3744)(cid:3586)(cid:5249)(cid:7482)(cid:2022)(cid:4206)(cid:2016)(cid:1994)(cid:4030)(cid:3496)(cid:6588)(cid:12650)(cid:9919)(cid:12151)(cid:3403)(cid:11977)(cid:11563)(cid:2025)(cid:2143)(cid:2118)(cid:2136)(cid:2159)(cid:5819)(cid:9967)(cid:1992)(cid:1991)(cid:4723)(cid:6345)(cid:2587)(cid:2018)(cid:2004)(cid:1941)(cid:14967)(cid:2)(cid:2)(cid:810)(cid:6970)(cid:10083)(cid:2637)(cid:5584)(cid:2025)(cid:12705)(cid:3262)(cid:2021)(cid:3281)(cid:8618)(cid:2022)(cid:13392)(cid:2004)(cid:2054)(cid:11921)(cid:6399)(cid:1940)(cid:2008)(cid:2025)(cid:2689)(cid:8228)(cid:11813)(cid:2640)(cid:13764)(cid:14967)(cid:14804)(cid:4801)(cid:6634)(cid:2022)(cid:13392)(cid:2004)(cid:2054)(cid:11813)(cid:12608)(cid:9580)(cid:2022)(cid:2015)(cid:1983)(cid:2017)(cid:2025)(cid:1999)(cid:7496)(cid:5607)(cid:14805)(cid:2)(cid:97)(cid:2)(cid:6596)(cid:12183)(cid:6321)(cid:2022)(cid:6045)(cid:12479)(cid:2000)(cid:2055)(cid:2017)(cid:1983)(cid:2054)(cid:6970)(cid:10083)(cid:11735)(cid:12642)(cid:2002)(cid:9580)(cid:2025)(cid:4801)(cid:6634)(cid:2022)(cid:13392)(cid:2004)(cid:2054)(cid:11813)(cid:12608)(cid:2026)(cid:1940)(cid:5296)(cid:9248)(cid:1991)(cid:8443)(cid:4087)(cid:3145)(cid:5819)(cid:2002)(cid:2017)(cid:1983)(cid:2054)(cid:5553)(cid:4238)(cid:3576)(cid:2030)(cid:3623)(cid:8450)(cid:8859)(cid:2018)(cid:1981)(cid:2054)(cid:2019)(cid:3277)(cid:6335)(cid:2004)(cid:2054)(cid:2555)(cid:4719)(cid:2025)(cid:3304)(cid:6061)(cid:2022)(cid:4206)(cid:2016)(cid:1983)(cid:2017)(cid:1989)(cid:2053)(cid:1940)(cid:2008)(cid:2025)(cid:12688)(cid:5777)(cid:2061)(cid:5296)(cid:9248)(cid:2019)(cid:2002)(cid:2017)(cid:9858)(cid:6628)(cid:2004)(cid:2054)(cid:12272)(cid:6374)(cid:2025)(cid:2045)(cid:2025)(cid:2018)(cid:2026)(cid:1981)(cid:2053)(cid:2041)(cid:2006)(cid:2062)(cid:1941)(cid:2041)(cid:2010)(cid:1940)(cid:4723)(cid:13529)(cid:2025)(cid:6970)(cid:10083)(cid:9580)(cid:2026)(cid:7037)(cid:1944)(cid:2021)(cid:11728)(cid:4035)(cid:2022)(cid:2051)(cid:2053)(cid:4386)(cid:1992)(cid:1994)(cid:8675)(cid:2021)(cid:2054)(cid:3609)(cid:10427)(cid:5448)(cid:1991)(cid:1981)(cid:2053)(cid:2041)(cid:2004)(cid:1941)(cid:6970)(cid:10083)(cid:2637)(cid:5584)(cid:2025)(cid:3304)(cid:6061)(cid:2019)(cid:2021)(cid:2054)(cid:6630)(cid:2713)(cid:3576)(cid:2030)(cid:6970)(cid:10083)(cid:2637)(cid:5584)(cid:2025)(cid:1999)(cid:3281)(cid:8618)(cid:2022)(cid:1981)(cid:2010)(cid:2014)(cid:2017)(cid:2025)(cid:7496)(cid:5607)(cid:2640)(cid:13764)(cid:9580)(cid:2022)(cid:2015)(cid:1983)(cid:2017)(cid:2026)(cid:1940)(cid:7645)(cid:2691)(cid:12183)(cid:6321)(cid:14844)(cid:14810)(cid:14815)(cid:1951)(cid:14813)(cid:14810)(cid:5296)(cid:4030)(cid:3496)(cid:6588)(cid:7423)(cid:9626)(cid:2022)(cid:13392)(cid:2004)(cid:2054)(cid:4719)(cid:5448)(cid:8859)(cid:5553)(cid:4238)(cid:14804)(cid:14815)(cid:14805)(cid:12650)(cid:9919)(cid:6970)(cid:10083)(cid:2637)(cid:5584)(cid:2022)(cid:13392)(cid:2004)(cid:2054)(cid:4719)(cid:5448)(cid:8859)(cid:5553)(cid:4238)(cid:1952)(cid:2061)(cid:1999)(cid:11753)(cid:1994)(cid:2011)(cid:2000)(cid:1983)(cid:1941)(cid:14967)(cid:2)(cid:2)\n"
     ]
    }
   ],
   "source": [
    "text = pdf.pages[1].extract_text()\n",
    "text_first = '期末発行済株式数'\n",
    "id_first = text.find(text_first)\n",
    "\n",
    "print(text.replace('\\n', ' ').replace(' ', '').replace('.', ','))"
   ]
  },
  {
   "cell_type": "code",
   "execution_count": 14,
   "metadata": {},
   "outputs": [],
   "source": [
    "get_volume.findText(pdf)"
   ]
  }
 ],
 "metadata": {
  "kernelspec": {
   "display_name": "Python 3",
   "language": "python",
   "name": "python3"
  },
  "language_info": {
   "codemirror_mode": {
    "name": "ipython",
    "version": 3
   },
   "file_extension": ".py",
   "mimetype": "text/x-python",
   "name": "python",
   "nbconvert_exporter": "python",
   "pygments_lexer": "ipython3",
   "version": "3.10.1"
  },
  "orig_nbformat": 4
 },
 "nbformat": 4,
 "nbformat_minor": 2
}
